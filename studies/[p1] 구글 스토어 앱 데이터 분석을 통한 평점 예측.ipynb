{
 "cells": [
  {
   "cell_type": "markdown",
   "metadata": {
    "id": "qCbjpjcqqZub"
   },
   "source": [
    "# [Project 1] 구글 스토어 앱 데이터 분석을 통한 평점 예측"
   ]
  },
  {
   "cell_type": "markdown",
   "metadata": {},
   "source": [
    "---"
   ]
  },
  {
   "cell_type": "markdown",
   "metadata": {},
   "source": [
    "## 프로젝트 목표\n",
    "- 구글 스토어 앱 데이터 분석을 통하여 앱 평점을 예측하는 회귀 모델 수행\n",
    "- 구글 스토어 앱 평점에 영향을 미치는 특성 데이터들에 대한 데이터 분석 수행"
   ]
  },
  {
   "cell_type": "markdown",
   "metadata": {},
   "source": [
    "---"
   ]
  },
  {
   "cell_type": "markdown",
   "metadata": {},
   "source": [
    "## 프로젝트 목차\n",
    "1. **데이터 읽기:** 구글 스토어 앱 데이터를 불러오고 Dataframe 구조를 확인\n",
    "\n",
    "2. **데이터 정제:** 비어 있는 데이터 또는 쓸모 없는 데이터를 삭제\n",
    "\n",
    "3. **데이터 시각화 & 추가 데이터 정제:** 변수 시각화를 통하여 분포 파악 및 추가 데이터 정제\n",
    "\n",
    "4. **데이터 전처리:** 머신러닝 모델에 필요한 입력값 형식으로 데이터 처리\n",
    "\n",
    "5. **모델 학습 및 평가:** 회귀 모델을 사용하여 학습 수행, 평가 및 예측 수행"
   ]
  },
  {
   "cell_type": "markdown",
   "metadata": {},
   "source": [
    "---"
   ]
  },
  {
   "cell_type": "markdown",
   "metadata": {},
   "source": [
    "## 데이터 출처\n",
    "-  https://www.kaggle.com/gauthamp10/google-playstore-apps"
   ]
  },
  {
   "cell_type": "markdown",
   "metadata": {},
   "source": [
    "---"
   ]
  },
  {
   "cell_type": "markdown",
   "metadata": {},
   "source": [
    "## 프로젝트 개요\n",
    "\n",
    "처음 사용하는 애플리케이션을 받기 전에는 평점과 리뷰 정보를 보고 이 앱이 좋은지 안 좋은지를 판단하곤 합니다. 만약 출시되지 않은 애플리케이션의 경우, 구글 스토어의 정보만을 가지고 평점을 예측할 방법이 있다면 다운로드 받기 전 도움이 되지 않을까요?\n",
    "\n",
    "이번 프로젝트에서는 구글 스토어에서 제공하는 데이터를 바탕으로 탐색적 데이터 분석을 수행하고 평점을 예측하는 회귀 모델을 구현합니다. 데이터 분석 및 회귀 모델을 바탕으로 새로운 애플리케이션이 나왔을 때, 평점을 예측할 수 있으며, 어떠한 특성 데이터가 평점을 예측하는 데 큰 영향을 미쳤는지 또한 알 수 있습니다."
   ]
  },
  {
   "cell_type": "markdown",
   "metadata": {},
   "source": [
    "---"
   ]
  },
  {
   "cell_type": "markdown",
   "metadata": {
    "id": "CWoOzkBDqZuc"
   },
   "source": [
    "## 1. 데이터 읽기"
   ]
  },
  {
   "cell_type": "markdown",
   "metadata": {},
   "source": [
    "### 1.1 라이브러리 불러오기"
   ]
  },
  {
   "cell_type": "markdown",
   "metadata": {
    "id": "BreBjlhzqZuc"
   },
   "source": [
    "이번 실습에서 필요한 라이브러리를 불러옵니다."
   ]
  },
  {
   "cell_type": "code",
   "execution_count": 1,
   "metadata": {
    "id": "UUQvWx-oqZuc"
   },
   "outputs": [],
   "source": [
    "# !pip uninstall -y pandas\n",
    "# !pip install pandas==1.3.0\n",
    "\n",
    "import numpy as np\n",
    "import pandas as pd\n",
    "import matplotlib.pyplot as plt\n",
    "\n",
    "from sklearn.linear_model import LinearRegression\n",
    "from sklearn.tree import DecisionTreeRegressor\n",
    "from sklearn.ensemble import RandomForestRegressor\n",
    "from sklearn.neural_network import MLPRegressor\n",
    "from xgboost import XGBRegressor\n",
    "\n",
    "from sklearn.model_selection import train_test_split\n",
    "from sklearn.preprocessing import StandardScaler\n",
    "from sklearn.metrics import mean_squared_error\n",
    "from sklearn.metrics import mean_absolute_error\n",
    "from sklearn.metrics import r2_score"
   ]
  },
  {
   "cell_type": "markdown",
   "metadata": {
    "id": "hh3yxvwRogfX"
   },
   "source": [
    "### 1.2 Google Play Store 데이터셋 불러오기"
   ]
  },
  {
   "cell_type": "markdown",
   "metadata": {},
   "source": [
    "pandas를 사용하여 `/mnt/data/Google-Playstore.csv` 데이터를 읽고 dataframe 형태로 저장해 봅시다."
   ]
  },
  {
   "cell_type": "code",
   "execution_count": 2,
   "metadata": {
    "id": "9AJR0fjYqZuc"
   },
   "outputs": [],
   "source": [
    "# Google-Playstore.csv 데이터를 pandas를 사용하여 dataframe 형태로 불러옵니다.\n",
    "df_origin = pd.read_csv('./data/Google-Playstore.csv')"
   ]
  },
  {
   "cell_type": "markdown",
   "metadata": {
    "id": "RISIWUAOoknq"
   },
   "source": [
    "### 1.3 데이터 훑어보기"
   ]
  },
  {
   "cell_type": "code",
   "execution_count": 3,
   "metadata": {
    "colab": {
     "base_uri": "https://localhost:8080/",
     "height": 495
    },
    "executionInfo": {
     "elapsed": 418109,
     "status": "ok",
     "timestamp": 1606459820982,
     "user": {
      "displayName": "‍안상현[학생](경영대학 경영학과)",
      "photoUrl": "",
      "userId": "15732604784560776108"
     },
     "user_tz": -540
    },
    "id": "bFj8Fot6qZuc",
    "outputId": "671db2e7-2eee-47a9-a0c3-468a1e9ee34f"
   },
   "outputs": [
    {
     "data": {
      "text/html": [
       "<div>\n",
       "<style scoped>\n",
       "    .dataframe tbody tr th:only-of-type {\n",
       "        vertical-align: middle;\n",
       "    }\n",
       "\n",
       "    .dataframe tbody tr th {\n",
       "        vertical-align: top;\n",
       "    }\n",
       "\n",
       "    .dataframe thead th {\n",
       "        text-align: right;\n",
       "    }\n",
       "</style>\n",
       "<table border=\"1\" class=\"dataframe\">\n",
       "  <thead>\n",
       "    <tr style=\"text-align: right;\">\n",
       "      <th></th>\n",
       "      <th>Unnamed: 0</th>\n",
       "      <th>App Name</th>\n",
       "      <th>App Id</th>\n",
       "      <th>Category</th>\n",
       "      <th>Rating</th>\n",
       "      <th>Rating Count</th>\n",
       "      <th>Installs</th>\n",
       "      <th>Minimum Installs</th>\n",
       "      <th>Maximum Installs</th>\n",
       "      <th>Free</th>\n",
       "      <th>...</th>\n",
       "      <th>Developer Id</th>\n",
       "      <th>Developer Website</th>\n",
       "      <th>Developer Email</th>\n",
       "      <th>Released</th>\n",
       "      <th>Last Updated</th>\n",
       "      <th>Content Rating</th>\n",
       "      <th>Privacy Policy</th>\n",
       "      <th>Ad Supported</th>\n",
       "      <th>In App Purchases</th>\n",
       "      <th>Editors Choice</th>\n",
       "    </tr>\n",
       "  </thead>\n",
       "  <tbody>\n",
       "    <tr>\n",
       "      <th>0</th>\n",
       "      <td>0</td>\n",
       "      <td>foodpanda - Local Food &amp; Grocery Delivery</td>\n",
       "      <td>com.global.foodpanda.android</td>\n",
       "      <td>Food &amp; Drink</td>\n",
       "      <td>4.4</td>\n",
       "      <td>1258493.0</td>\n",
       "      <td>10,000,000+</td>\n",
       "      <td>10000000.0</td>\n",
       "      <td>48828081</td>\n",
       "      <td>True</td>\n",
       "      <td>...</td>\n",
       "      <td>Foodpanda GmbH a subsidiary of Delivery Hero SE</td>\n",
       "      <td>http://foodpanda.com</td>\n",
       "      <td>appsupport@foodpanda.com</td>\n",
       "      <td>Nov 19, 2013</td>\n",
       "      <td>2020-07-07 00:14:05</td>\n",
       "      <td>Everyone</td>\n",
       "      <td>https://www.foodpanda.sg/contents/privacy.htm</td>\n",
       "      <td>False</td>\n",
       "      <td>False</td>\n",
       "      <td>False</td>\n",
       "    </tr>\n",
       "    <tr>\n",
       "      <th>1</th>\n",
       "      <td>1</td>\n",
       "      <td>Tripadvisor Hotel, Flight &amp; Restaurant Bookings</td>\n",
       "      <td>com.tripadvisor.tripadvisor</td>\n",
       "      <td>Travel &amp; Local</td>\n",
       "      <td>4.4</td>\n",
       "      <td>1360172.0</td>\n",
       "      <td>100,000,000+</td>\n",
       "      <td>100000000.0</td>\n",
       "      <td>371284181</td>\n",
       "      <td>True</td>\n",
       "      <td>...</td>\n",
       "      <td>Tripadvisor</td>\n",
       "      <td>https://www.tripadvisor.com/help</td>\n",
       "      <td>mobilehelp@tripadvisor.com</td>\n",
       "      <td>Jul 12, 2010</td>\n",
       "      <td>2020-07-02 20:10:48</td>\n",
       "      <td>Everyone</td>\n",
       "      <td>https://www.tripadvisor.com/pages/privacy.html</td>\n",
       "      <td>True</td>\n",
       "      <td>False</td>\n",
       "      <td>False</td>\n",
       "    </tr>\n",
       "    <tr>\n",
       "      <th>2</th>\n",
       "      <td>2</td>\n",
       "      <td>Safeway Delivery &amp; Pick Up</td>\n",
       "      <td>com.safeway.shop</td>\n",
       "      <td>Shopping</td>\n",
       "      <td>4.2</td>\n",
       "      <td>5532.0</td>\n",
       "      <td>500,000+</td>\n",
       "      <td>500000.0</td>\n",
       "      <td>816102</td>\n",
       "      <td>True</td>\n",
       "      <td>...</td>\n",
       "      <td>Albertsons Companies, Inc.</td>\n",
       "      <td>http://www.safeway.com</td>\n",
       "      <td>homeshopping@customerservice.safeway.com</td>\n",
       "      <td>Sep 5, 2013</td>\n",
       "      <td>2020-07-16 23:21:50</td>\n",
       "      <td>Everyone</td>\n",
       "      <td>http://www.safeway.com/ShopStores/Privacy-Poli...</td>\n",
       "      <td>False</td>\n",
       "      <td>False</td>\n",
       "      <td>False</td>\n",
       "    </tr>\n",
       "    <tr>\n",
       "      <th>3</th>\n",
       "      <td>3</td>\n",
       "      <td>My CookBook Ad-Free</td>\n",
       "      <td>fr.cookbookpro</td>\n",
       "      <td>Food &amp; Drink</td>\n",
       "      <td>4.7</td>\n",
       "      <td>2531.0</td>\n",
       "      <td>10,000+</td>\n",
       "      <td>10000.0</td>\n",
       "      <td>16171</td>\n",
       "      <td>False</td>\n",
       "      <td>...</td>\n",
       "      <td>Maadinfo Services</td>\n",
       "      <td>https://www.mycookbook-online.net</td>\n",
       "      <td>support@mycookbook-online.net</td>\n",
       "      <td>Sep 25, 2011</td>\n",
       "      <td>2020-07-07 12:41:28</td>\n",
       "      <td>Everyone</td>\n",
       "      <td>https://www.mycookbook-android.com/site/privac...</td>\n",
       "      <td>False</td>\n",
       "      <td>False</td>\n",
       "      <td>False</td>\n",
       "    </tr>\n",
       "    <tr>\n",
       "      <th>4</th>\n",
       "      <td>4</td>\n",
       "      <td>Talabat: Food &amp; Grocery Delivery</td>\n",
       "      <td>com.talabat</td>\n",
       "      <td>Food &amp; Drink</td>\n",
       "      <td>4.4</td>\n",
       "      <td>197649.0</td>\n",
       "      <td>5,000,000+</td>\n",
       "      <td>5000000.0</td>\n",
       "      <td>9218590</td>\n",
       "      <td>True</td>\n",
       "      <td>...</td>\n",
       "      <td>Talabat</td>\n",
       "      <td>http://www.talabat.com</td>\n",
       "      <td>info@talabat.com</td>\n",
       "      <td>Jan 19, 2012</td>\n",
       "      <td>2020-07-15 19:21:16</td>\n",
       "      <td>Mature 17+</td>\n",
       "      <td>https://www.talabat.com/kuwait/privacy</td>\n",
       "      <td>True</td>\n",
       "      <td>False</td>\n",
       "      <td>False</td>\n",
       "    </tr>\n",
       "  </tbody>\n",
       "</table>\n",
       "<p>5 rows × 24 columns</p>\n",
       "</div>"
      ],
      "text/plain": [
       "   Unnamed: 0                                         App Name  \\\n",
       "0           0        foodpanda - Local Food & Grocery Delivery   \n",
       "1           1  Tripadvisor Hotel, Flight & Restaurant Bookings   \n",
       "2           2                       Safeway Delivery & Pick Up   \n",
       "3           3                              My CookBook Ad-Free   \n",
       "4           4                 Talabat: Food & Grocery Delivery   \n",
       "\n",
       "                         App Id        Category  Rating  Rating Count  \\\n",
       "0  com.global.foodpanda.android    Food & Drink     4.4     1258493.0   \n",
       "1   com.tripadvisor.tripadvisor  Travel & Local     4.4     1360172.0   \n",
       "2              com.safeway.shop        Shopping     4.2        5532.0   \n",
       "3                fr.cookbookpro    Food & Drink     4.7        2531.0   \n",
       "4                   com.talabat    Food & Drink     4.4      197649.0   \n",
       "\n",
       "       Installs  Minimum Installs  Maximum Installs   Free  ...  \\\n",
       "0   10,000,000+        10000000.0          48828081   True  ...   \n",
       "1  100,000,000+       100000000.0         371284181   True  ...   \n",
       "2      500,000+          500000.0            816102   True  ...   \n",
       "3       10,000+           10000.0             16171  False  ...   \n",
       "4    5,000,000+         5000000.0           9218590   True  ...   \n",
       "\n",
       "                                      Developer Id  \\\n",
       "0  Foodpanda GmbH a subsidiary of Delivery Hero SE   \n",
       "1                                      Tripadvisor   \n",
       "2                       Albertsons Companies, Inc.   \n",
       "3                                Maadinfo Services   \n",
       "4                                          Talabat   \n",
       "\n",
       "                   Developer Website  \\\n",
       "0               http://foodpanda.com   \n",
       "1   https://www.tripadvisor.com/help   \n",
       "2             http://www.safeway.com   \n",
       "3  https://www.mycookbook-online.net   \n",
       "4             http://www.talabat.com   \n",
       "\n",
       "                            Developer Email      Released  \\\n",
       "0                  appsupport@foodpanda.com  Nov 19, 2013   \n",
       "1                mobilehelp@tripadvisor.com  Jul 12, 2010   \n",
       "2  homeshopping@customerservice.safeway.com   Sep 5, 2013   \n",
       "3             support@mycookbook-online.net  Sep 25, 2011   \n",
       "4                          info@talabat.com  Jan 19, 2012   \n",
       "\n",
       "          Last Updated Content Rating  \\\n",
       "0  2020-07-07 00:14:05       Everyone   \n",
       "1  2020-07-02 20:10:48       Everyone   \n",
       "2  2020-07-16 23:21:50       Everyone   \n",
       "3  2020-07-07 12:41:28       Everyone   \n",
       "4  2020-07-15 19:21:16     Mature 17+   \n",
       "\n",
       "                                      Privacy Policy Ad Supported  \\\n",
       "0      https://www.foodpanda.sg/contents/privacy.htm        False   \n",
       "1     https://www.tripadvisor.com/pages/privacy.html         True   \n",
       "2  http://www.safeway.com/ShopStores/Privacy-Poli...        False   \n",
       "3  https://www.mycookbook-android.com/site/privac...        False   \n",
       "4             https://www.talabat.com/kuwait/privacy         True   \n",
       "\n",
       "  In App Purchases Editors Choice  \n",
       "0            False          False  \n",
       "1            False          False  \n",
       "2            False          False  \n",
       "3            False          False  \n",
       "4            False          False  \n",
       "\n",
       "[5 rows x 24 columns]"
      ]
     },
     "execution_count": 3,
     "metadata": {},
     "output_type": "execute_result"
    }
   ],
   "source": [
    "# 5개의 데이터 샘플을 출력합니다.\n",
    "df_origin.head()"
   ]
  },
  {
   "cell_type": "code",
   "execution_count": 4,
   "metadata": {
    "colab": {
     "base_uri": "https://localhost:8080/"
    },
    "executionInfo": {
     "elapsed": 418990,
     "status": "ok",
     "timestamp": 1606459821878,
     "user": {
      "displayName": "‍안상현[학생](경영대학 경영학과)",
      "photoUrl": "",
      "userId": "15732604784560776108"
     },
     "user_tz": -540
    },
    "id": "3ndhGMtTqZuc",
    "outputId": "5d2c9ab4-580b-4527-eec8-953544bf1757",
    "scrolled": true
   },
   "outputs": [
    {
     "name": "stdout",
     "output_type": "stream",
     "text": [
      "<class 'pandas.core.frame.DataFrame'>\n",
      "RangeIndex: 603047 entries, 0 to 603046\n",
      "Data columns (total 24 columns):\n",
      " #   Column             Non-Null Count   Dtype  \n",
      "---  ------             --------------   -----  \n",
      " 0   Unnamed: 0         603047 non-null  int64  \n",
      " 1   App Name           603046 non-null  object \n",
      " 2   App Id             603047 non-null  object \n",
      " 3   Category           603047 non-null  object \n",
      " 4   Rating             599287 non-null  float64\n",
      " 5   Rating Count       599287 non-null  float64\n",
      " 6   Installs           602875 non-null  object \n",
      " 7   Minimum Installs   602875 non-null  float64\n",
      " 8   Maximum Installs   603047 non-null  int64  \n",
      " 9   Free               603047 non-null  bool   \n",
      " 10  Price              603047 non-null  float64\n",
      " 11  Currency           602866 non-null  object \n",
      " 12  Size               603047 non-null  object \n",
      " 13  Minimum Android    602556 non-null  object \n",
      " 14  Developer Id       603045 non-null  object \n",
      " 15  Developer Website  423783 non-null  object \n",
      " 16  Developer Email    603010 non-null  object \n",
      " 17  Released           570769 non-null  object \n",
      " 18  Last Updated       603047 non-null  object \n",
      " 19  Content Rating     603047 non-null  object \n",
      " 20  Privacy Policy     517662 non-null  object \n",
      " 21  Ad Supported       603047 non-null  bool   \n",
      " 22  In App Purchases   603047 non-null  bool   \n",
      " 23  Editors Choice     603047 non-null  bool   \n",
      "dtypes: bool(4), float64(4), int64(2), object(14)\n",
      "memory usage: 94.3+ MB\n"
     ]
    }
   ],
   "source": [
    "# dataframe의 정보를 요약해서 출력합니다.\n",
    "df_origin.info()\n",
    "# row 개수와 Non-Null Count가 다른 변수들이 있음 => 비어있음 => 나중에 처리"
   ]
  },
  {
   "cell_type": "code",
   "execution_count": 5,
   "metadata": {
    "colab": {
     "base_uri": "https://localhost:8080/",
     "height": 288
    },
    "executionInfo": {
     "elapsed": 418976,
     "status": "ok",
     "timestamp": 1606459821882,
     "user": {
      "displayName": "‍안상현[학생](경영대학 경영학과)",
      "photoUrl": "",
      "userId": "15732604784560776108"
     },
     "user_tz": -540
    },
    "id": "es5N80z0qZuc",
    "outputId": "719347ef-d0c7-4a9e-e6bf-82bafc15e3c1"
   },
   "outputs": [
    {
     "data": {
      "text/html": [
       "<div>\n",
       "<style scoped>\n",
       "    .dataframe tbody tr th:only-of-type {\n",
       "        vertical-align: middle;\n",
       "    }\n",
       "\n",
       "    .dataframe tbody tr th {\n",
       "        vertical-align: top;\n",
       "    }\n",
       "\n",
       "    .dataframe thead th {\n",
       "        text-align: right;\n",
       "    }\n",
       "</style>\n",
       "<table border=\"1\" class=\"dataframe\">\n",
       "  <thead>\n",
       "    <tr style=\"text-align: right;\">\n",
       "      <th></th>\n",
       "      <th>Unnamed: 0</th>\n",
       "      <th>Rating</th>\n",
       "      <th>Rating Count</th>\n",
       "      <th>Minimum Installs</th>\n",
       "      <th>Maximum Installs</th>\n",
       "      <th>Price</th>\n",
       "    </tr>\n",
       "  </thead>\n",
       "  <tbody>\n",
       "    <tr>\n",
       "      <th>count</th>\n",
       "      <td>603047.00000</td>\n",
       "      <td>599287.000000</td>\n",
       "      <td>5.992870e+05</td>\n",
       "      <td>6.028750e+05</td>\n",
       "      <td>6.030470e+05</td>\n",
       "      <td>603047.000000</td>\n",
       "    </tr>\n",
       "    <tr>\n",
       "      <th>mean</th>\n",
       "      <td>301523.00000</td>\n",
       "      <td>2.995484</td>\n",
       "      <td>8.627273e+03</td>\n",
       "      <td>4.997939e+05</td>\n",
       "      <td>8.566150e+05</td>\n",
       "      <td>0.248818</td>\n",
       "    </tr>\n",
       "    <tr>\n",
       "      <th>std</th>\n",
       "      <td>174084.81823</td>\n",
       "      <td>1.911436</td>\n",
       "      <td>3.467317e+05</td>\n",
       "      <td>2.523102e+07</td>\n",
       "      <td>3.755474e+07</td>\n",
       "      <td>3.392709</td>\n",
       "    </tr>\n",
       "    <tr>\n",
       "      <th>min</th>\n",
       "      <td>0.00000</td>\n",
       "      <td>0.000000</td>\n",
       "      <td>0.000000e+00</td>\n",
       "      <td>0.000000e+00</td>\n",
       "      <td>0.000000e+00</td>\n",
       "      <td>0.000000</td>\n",
       "    </tr>\n",
       "    <tr>\n",
       "      <th>25%</th>\n",
       "      <td>150761.50000</td>\n",
       "      <td>0.000000</td>\n",
       "      <td>0.000000e+00</td>\n",
       "      <td>1.000000e+02</td>\n",
       "      <td>4.680000e+02</td>\n",
       "      <td>0.000000</td>\n",
       "    </tr>\n",
       "    <tr>\n",
       "      <th>50%</th>\n",
       "      <td>301523.00000</td>\n",
       "      <td>4.000000</td>\n",
       "      <td>2.900000e+01</td>\n",
       "      <td>5.000000e+03</td>\n",
       "      <td>5.034000e+03</td>\n",
       "      <td>0.000000</td>\n",
       "    </tr>\n",
       "    <tr>\n",
       "      <th>75%</th>\n",
       "      <td>452284.50000</td>\n",
       "      <td>4.400000</td>\n",
       "      <td>2.560000e+02</td>\n",
       "      <td>1.000000e+04</td>\n",
       "      <td>4.346500e+04</td>\n",
       "      <td>0.000000</td>\n",
       "    </tr>\n",
       "    <tr>\n",
       "      <th>max</th>\n",
       "      <td>603046.00000</td>\n",
       "      <td>5.000000</td>\n",
       "      <td>1.170193e+08</td>\n",
       "      <td>5.000000e+09</td>\n",
       "      <td>9.975727e+09</td>\n",
       "      <td>400.000000</td>\n",
       "    </tr>\n",
       "  </tbody>\n",
       "</table>\n",
       "</div>"
      ],
      "text/plain": [
       "         Unnamed: 0         Rating  Rating Count  Minimum Installs  \\\n",
       "count  603047.00000  599287.000000  5.992870e+05      6.028750e+05   \n",
       "mean   301523.00000       2.995484  8.627273e+03      4.997939e+05   \n",
       "std    174084.81823       1.911436  3.467317e+05      2.523102e+07   \n",
       "min         0.00000       0.000000  0.000000e+00      0.000000e+00   \n",
       "25%    150761.50000       0.000000  0.000000e+00      1.000000e+02   \n",
       "50%    301523.00000       4.000000  2.900000e+01      5.000000e+03   \n",
       "75%    452284.50000       4.400000  2.560000e+02      1.000000e+04   \n",
       "max    603046.00000       5.000000  1.170193e+08      5.000000e+09   \n",
       "\n",
       "       Maximum Installs          Price  \n",
       "count      6.030470e+05  603047.000000  \n",
       "mean       8.566150e+05       0.248818  \n",
       "std        3.755474e+07       3.392709  \n",
       "min        0.000000e+00       0.000000  \n",
       "25%        4.680000e+02       0.000000  \n",
       "50%        5.034000e+03       0.000000  \n",
       "75%        4.346500e+04       0.000000  \n",
       "max        9.975727e+09     400.000000  "
      ]
     },
     "execution_count": 5,
     "metadata": {},
     "output_type": "execute_result"
    }
   ],
   "source": [
    "# 수치형 변수의 통계량 정보를 출력합니다.\n",
    "df_origin.describe() # => float 타입의 데이터들만 통계량을 구할 수 있습니다."
   ]
  },
  {
   "cell_type": "markdown",
   "metadata": {
    "id": "hxijsvg1qZud"
   },
   "source": [
    "## 2. 데이터 정제"
   ]
  },
  {
   "cell_type": "markdown",
   "metadata": {
    "id": "h48A9S-6qZud"
   },
   "source": [
    "데이터 정제에서는 **결측값(missing value)** 또는 **이상치(outlier)** 를 처리합니다.\n",
    "\n",
    "일반적으로는 각 변수에 대해서 자세히 살펴보면서 결측값과 이상치를 제거를 수행합니다.\n",
    "\n",
    "이번 파트에서는 간단한 결측값 처리 방식인 삭제 방식을 수행해 보고 다음 과정에서 이어서 데이터 정제를 수행해보겠습니다."
   ]
  },
  {
   "cell_type": "markdown",
   "metadata": {
    "id": "Ord-BFXAqZud"
   },
   "source": [
    "### 2.1. 변수 삭제"
   ]
  },
  {
   "cell_type": "markdown",
   "metadata": {
    "id": "-fJOJV9AqZud"
   },
   "source": [
    "이번 실습에서는 23개의 변수 중 본 실습에서는 간결함을 위해 12개의 `App Name`, `App Id`, `Developer Id`, `Developer Website`, `Developer Email`, `Currency`, `Size`, `Released`, `Privacy Policy`, `Price`, `Minimum Installs`, `Maximum Installs` 을 삭제하여 진행합니다.\n",
    "\n",
    "나머지 11개의 변수들은 이후 실습시간에 모두 사용하여 모델링을 하도록 합니다"
   ]
  },
  {
   "cell_type": "code",
   "execution_count": 6,
   "metadata": {
    "colab": {
     "base_uri": "https://localhost:8080/",
     "height": 407
    },
    "executionInfo": {
     "elapsed": 419317,
     "status": "ok",
     "timestamp": 1606459822242,
     "user": {
      "displayName": "‍안상현[학생](경영대학 경영학과)",
      "photoUrl": "",
      "userId": "15732604784560776108"
     },
     "user_tz": -540
    },
    "id": "TYdrger8qZud",
    "outputId": "fae165f0-bf0c-4438-a4d3-9b5f337731f3"
   },
   "outputs": [
    {
     "data": {
      "text/html": [
       "<div>\n",
       "<style scoped>\n",
       "    .dataframe tbody tr th:only-of-type {\n",
       "        vertical-align: middle;\n",
       "    }\n",
       "\n",
       "    .dataframe tbody tr th {\n",
       "        vertical-align: top;\n",
       "    }\n",
       "\n",
       "    .dataframe thead th {\n",
       "        text-align: right;\n",
       "    }\n",
       "</style>\n",
       "<table border=\"1\" class=\"dataframe\">\n",
       "  <thead>\n",
       "    <tr style=\"text-align: right;\">\n",
       "      <th></th>\n",
       "      <th>Unnamed: 0</th>\n",
       "      <th>Category</th>\n",
       "      <th>Rating</th>\n",
       "      <th>Rating Count</th>\n",
       "      <th>Installs</th>\n",
       "      <th>Free</th>\n",
       "      <th>Last Updated</th>\n",
       "      <th>Content Rating</th>\n",
       "      <th>Ad Supported</th>\n",
       "      <th>In App Purchases</th>\n",
       "      <th>Editors Choice</th>\n",
       "    </tr>\n",
       "  </thead>\n",
       "  <tbody>\n",
       "    <tr>\n",
       "      <th>0</th>\n",
       "      <td>0</td>\n",
       "      <td>Food &amp; Drink</td>\n",
       "      <td>4.4</td>\n",
       "      <td>1258493.0</td>\n",
       "      <td>10,000,000+</td>\n",
       "      <td>True</td>\n",
       "      <td>2020-07-07 00:14:05</td>\n",
       "      <td>Everyone</td>\n",
       "      <td>False</td>\n",
       "      <td>False</td>\n",
       "      <td>False</td>\n",
       "    </tr>\n",
       "    <tr>\n",
       "      <th>1</th>\n",
       "      <td>1</td>\n",
       "      <td>Travel &amp; Local</td>\n",
       "      <td>4.4</td>\n",
       "      <td>1360172.0</td>\n",
       "      <td>100,000,000+</td>\n",
       "      <td>True</td>\n",
       "      <td>2020-07-02 20:10:48</td>\n",
       "      <td>Everyone</td>\n",
       "      <td>True</td>\n",
       "      <td>False</td>\n",
       "      <td>False</td>\n",
       "    </tr>\n",
       "    <tr>\n",
       "      <th>2</th>\n",
       "      <td>2</td>\n",
       "      <td>Shopping</td>\n",
       "      <td>4.2</td>\n",
       "      <td>5532.0</td>\n",
       "      <td>500,000+</td>\n",
       "      <td>True</td>\n",
       "      <td>2020-07-16 23:21:50</td>\n",
       "      <td>Everyone</td>\n",
       "      <td>False</td>\n",
       "      <td>False</td>\n",
       "      <td>False</td>\n",
       "    </tr>\n",
       "    <tr>\n",
       "      <th>3</th>\n",
       "      <td>3</td>\n",
       "      <td>Food &amp; Drink</td>\n",
       "      <td>4.7</td>\n",
       "      <td>2531.0</td>\n",
       "      <td>10,000+</td>\n",
       "      <td>False</td>\n",
       "      <td>2020-07-07 12:41:28</td>\n",
       "      <td>Everyone</td>\n",
       "      <td>False</td>\n",
       "      <td>False</td>\n",
       "      <td>False</td>\n",
       "    </tr>\n",
       "    <tr>\n",
       "      <th>4</th>\n",
       "      <td>4</td>\n",
       "      <td>Food &amp; Drink</td>\n",
       "      <td>4.4</td>\n",
       "      <td>197649.0</td>\n",
       "      <td>5,000,000+</td>\n",
       "      <td>True</td>\n",
       "      <td>2020-07-15 19:21:16</td>\n",
       "      <td>Mature 17+</td>\n",
       "      <td>True</td>\n",
       "      <td>False</td>\n",
       "      <td>False</td>\n",
       "    </tr>\n",
       "    <tr>\n",
       "      <th>...</th>\n",
       "      <td>...</td>\n",
       "      <td>...</td>\n",
       "      <td>...</td>\n",
       "      <td>...</td>\n",
       "      <td>...</td>\n",
       "      <td>...</td>\n",
       "      <td>...</td>\n",
       "      <td>...</td>\n",
       "      <td>...</td>\n",
       "      <td>...</td>\n",
       "      <td>...</td>\n",
       "    </tr>\n",
       "    <tr>\n",
       "      <th>603042</th>\n",
       "      <td>603042</td>\n",
       "      <td>Health &amp; Fitness</td>\n",
       "      <td>0.0</td>\n",
       "      <td>0.0</td>\n",
       "      <td>100+</td>\n",
       "      <td>True</td>\n",
       "      <td>2019-11-11 21:45:10</td>\n",
       "      <td>Everyone</td>\n",
       "      <td>False</td>\n",
       "      <td>False</td>\n",
       "      <td>False</td>\n",
       "    </tr>\n",
       "    <tr>\n",
       "      <th>603043</th>\n",
       "      <td>603043</td>\n",
       "      <td>Health &amp; Fitness</td>\n",
       "      <td>0.0</td>\n",
       "      <td>0.0</td>\n",
       "      <td>5+</td>\n",
       "      <td>True</td>\n",
       "      <td>2020-03-03 01:02:21</td>\n",
       "      <td>Everyone</td>\n",
       "      <td>False</td>\n",
       "      <td>False</td>\n",
       "      <td>False</td>\n",
       "    </tr>\n",
       "    <tr>\n",
       "      <th>603044</th>\n",
       "      <td>603044</td>\n",
       "      <td>Health &amp; Fitness</td>\n",
       "      <td>0.0</td>\n",
       "      <td>0.0</td>\n",
       "      <td>50+</td>\n",
       "      <td>True</td>\n",
       "      <td>2019-11-26 04:20:49</td>\n",
       "      <td>Everyone</td>\n",
       "      <td>False</td>\n",
       "      <td>False</td>\n",
       "      <td>False</td>\n",
       "    </tr>\n",
       "    <tr>\n",
       "      <th>603045</th>\n",
       "      <td>603045</td>\n",
       "      <td>Health &amp; Fitness</td>\n",
       "      <td>0.0</td>\n",
       "      <td>0.0</td>\n",
       "      <td>10+</td>\n",
       "      <td>True</td>\n",
       "      <td>2019-11-26 01:23:35</td>\n",
       "      <td>Everyone</td>\n",
       "      <td>False</td>\n",
       "      <td>False</td>\n",
       "      <td>False</td>\n",
       "    </tr>\n",
       "    <tr>\n",
       "      <th>603046</th>\n",
       "      <td>603046</td>\n",
       "      <td>Health &amp; Fitness</td>\n",
       "      <td>2.2</td>\n",
       "      <td>6.0</td>\n",
       "      <td>1,000+</td>\n",
       "      <td>True</td>\n",
       "      <td>2019-12-07 01:19:32</td>\n",
       "      <td>Everyone</td>\n",
       "      <td>False</td>\n",
       "      <td>False</td>\n",
       "      <td>False</td>\n",
       "    </tr>\n",
       "  </tbody>\n",
       "</table>\n",
       "<p>603047 rows × 11 columns</p>\n",
       "</div>"
      ],
      "text/plain": [
       "        Unnamed: 0          Category  Rating  Rating Count      Installs  \\\n",
       "0                0      Food & Drink     4.4     1258493.0   10,000,000+   \n",
       "1                1    Travel & Local     4.4     1360172.0  100,000,000+   \n",
       "2                2          Shopping     4.2        5532.0      500,000+   \n",
       "3                3      Food & Drink     4.7        2531.0       10,000+   \n",
       "4                4      Food & Drink     4.4      197649.0    5,000,000+   \n",
       "...            ...               ...     ...           ...           ...   \n",
       "603042      603042  Health & Fitness     0.0           0.0          100+   \n",
       "603043      603043  Health & Fitness     0.0           0.0            5+   \n",
       "603044      603044  Health & Fitness     0.0           0.0           50+   \n",
       "603045      603045  Health & Fitness     0.0           0.0           10+   \n",
       "603046      603046  Health & Fitness     2.2           6.0        1,000+   \n",
       "\n",
       "         Free         Last Updated Content Rating  Ad Supported  \\\n",
       "0        True  2020-07-07 00:14:05       Everyone         False   \n",
       "1        True  2020-07-02 20:10:48       Everyone          True   \n",
       "2        True  2020-07-16 23:21:50       Everyone         False   \n",
       "3       False  2020-07-07 12:41:28       Everyone         False   \n",
       "4        True  2020-07-15 19:21:16     Mature 17+          True   \n",
       "...       ...                  ...            ...           ...   \n",
       "603042   True  2019-11-11 21:45:10       Everyone         False   \n",
       "603043   True  2020-03-03 01:02:21       Everyone         False   \n",
       "603044   True  2019-11-26 04:20:49       Everyone         False   \n",
       "603045   True  2019-11-26 01:23:35       Everyone         False   \n",
       "603046   True  2019-12-07 01:19:32       Everyone         False   \n",
       "\n",
       "        In App Purchases  Editors Choice  \n",
       "0                  False           False  \n",
       "1                  False           False  \n",
       "2                  False           False  \n",
       "3                  False           False  \n",
       "4                  False           False  \n",
       "...                  ...             ...  \n",
       "603042             False           False  \n",
       "603043             False           False  \n",
       "603044             False           False  \n",
       "603045             False           False  \n",
       "603046             False           False  \n",
       "\n",
       "[603047 rows x 11 columns]"
      ]
     },
     "execution_count": 6,
     "metadata": {},
     "output_type": "execute_result"
    }
   ],
   "source": [
    "# drop 함수를 사용하여 변수들을 삭제합니다.\n",
    "df_clean = df_origin.drop(\n",
    "    columns=[\n",
    "        'App Name', 'App Id', 'Developer Id', 'Developer Website', 'Developer Email', 'Currency', 'Size',\n",
    "        'Released', 'Privacy Policy','Price', 'Minimum Installs', 'Minimum Android', 'Maximum Installs'\n",
    "    ],\n",
    "    axis=1\n",
    ")\n",
    "df_clean"
   ]
  },
  {
   "cell_type": "markdown",
   "metadata": {
    "id": "uZPL-x4gqZud"
   },
   "source": [
    "### 2.2. 결측값 확인"
   ]
  },
  {
   "cell_type": "markdown",
   "metadata": {
    "id": "DtK4LaeCqZud"
   },
   "source": [
    "아래 코드를 수행하여 각 변수별로 결측값이 몇개가 있는지 확인합니다.\n",
    "\n",
    "---\n",
    "\n"
   ]
  },
  {
   "cell_type": "code",
   "execution_count": 7,
   "metadata": {
    "colab": {
     "base_uri": "https://localhost:8080/"
    },
    "executionInfo": {
     "elapsed": 419304,
     "status": "ok",
     "timestamp": 1606459822245,
     "user": {
      "displayName": "‍안상현[학생](경영대학 경영학과)",
      "photoUrl": "",
      "userId": "15732604784560776108"
     },
     "user_tz": -540
    },
    "id": "BBV0eKxFqZud",
    "outputId": "df643c10-070f-4b7e-bcfa-5bd51a1a74b5"
   },
   "outputs": [
    {
     "data": {
      "text/plain": [
       "Unnamed: 0             0\n",
       "Category               0\n",
       "Rating              3760\n",
       "Rating Count        3760\n",
       "Installs             172\n",
       "Free                   0\n",
       "Last Updated           0\n",
       "Content Rating         0\n",
       "Ad Supported           0\n",
       "In App Purchases       0\n",
       "Editors Choice         0\n",
       "dtype: int64"
      ]
     },
     "execution_count": 7,
     "metadata": {},
     "output_type": "execute_result"
    }
   ],
   "source": [
    "# 결측값 정보를 출력합니다.\n",
    "df_clean.isnull().sum()"
   ]
  },
  {
   "cell_type": "markdown",
   "metadata": {},
   "source": [
    "확인해보니 `Rating` 변수와 `Rating Count` 변수의 결측치 개수가 같습니다.\n",
    "\n",
    "과연 `Rating`이 결측치인 row는 `Rating Count`도 결측치인지 확인해보겠습니다."
   ]
  },
  {
   "cell_type": "code",
   "execution_count": 10,
   "metadata": {
    "colab": {
     "base_uri": "https://localhost:8080/"
    },
    "executionInfo": {
     "elapsed": 419676,
     "status": "ok",
     "timestamp": 1606459822631,
     "user": {
      "displayName": "‍안상현[학생](경영대학 경영학과)",
      "photoUrl": "",
      "userId": "15732604784560776108"
     },
     "user_tz": -540
    },
    "id": "BE9yXSZJqZud",
    "outputId": "bf1e27f7-3114-41d1-95db-63aa5183edbb"
   },
   "outputs": [
    {
     "data": {
      "text/plain": [
       "array([nan])"
      ]
     },
     "execution_count": 10,
     "metadata": {},
     "output_type": "execute_result"
    }
   ],
   "source": [
    "# 'Rating'이 결측치인 row만 filter\n",
    "rating_null = df_clean[df_clean['Rating'].isnull()]\n",
    "\n",
    "# `Rating`이 결측치인 경우 `Rating Count` 변수는 어떤 값을 가지는지 확인\n",
    "rating_null['Rating Count'].unique()"
   ]
  },
  {
   "cell_type": "markdown",
   "metadata": {
    "id": "s4G3DQrbqZud"
   },
   "source": [
    "`Rating`이 결측치인 row 중 `Rating Count`의 값은 `NaN` 뿐인 것을 확인했습니다.\n",
    "\n",
    "따라서 `Rating`이 결측치인 row와 `Rating Count`이 결측치인 row는 일치하는 것을 확인할 수 있습니다."
   ]
  },
  {
   "cell_type": "markdown",
   "metadata": {
    "id": "cIQl56IQqZud"
   },
   "source": [
    "### 2.3. 결측값 처리"
   ]
  },
  {
   "cell_type": "code",
   "execution_count": 11,
   "metadata": {
    "id": "a2OmMDwIqZud"
   },
   "outputs": [],
   "source": [
    "# dropna를 사용하여 결측값이 있는 샘플들을 삭제합니다.\n",
    "df_clean = df_clean.dropna(axis=0)"
   ]
  },
  {
   "cell_type": "code",
   "execution_count": 12,
   "metadata": {
    "colab": {
     "base_uri": "https://localhost:8080/"
    },
    "executionInfo": {
     "elapsed": 419940,
     "status": "ok",
     "timestamp": 1606459822917,
     "user": {
      "displayName": "‍안상현[학생](경영대학 경영학과)",
      "photoUrl": "",
      "userId": "15732604784560776108"
     },
     "user_tz": -540
    },
    "id": "0h4JfIGfwv3L",
    "outputId": "1ec73d55-3a52-487c-8e9b-2a197d89a510"
   },
   "outputs": [
    {
     "data": {
      "text/plain": [
       "Unnamed: 0          0\n",
       "Category            0\n",
       "Rating              0\n",
       "Rating Count        0\n",
       "Installs            0\n",
       "Free                0\n",
       "Last Updated        0\n",
       "Content Rating      0\n",
       "Ad Supported        0\n",
       "In App Purchases    0\n",
       "Editors Choice      0\n",
       "dtype: int64"
      ]
     },
     "execution_count": 12,
     "metadata": {},
     "output_type": "execute_result"
    }
   ],
   "source": [
    "# 결측값을 정보를 출력합니다.\n",
    "df_clean.isnull().sum() #=>개수확인"
   ]
  },
  {
   "cell_type": "markdown",
   "metadata": {
    "id": "evJf1iSCqZud"
   },
   "source": [
    "## 3. 데이터 시각화 & 추가 데이터 정제"
   ]
  },
  {
   "cell_type": "markdown",
   "metadata": {
    "id": "FIb0SZ4lqZud"
   },
   "source": [
    "각 변수 분포를 알아보기 위하여 시각화를 수행하겠습니다.\n",
    "\n",
    "시각화를 통해서 변수 내에 결측값 또는 이상치 처리가 필요하다 생각되면 이를 수행하고 또한 변수의 문자형 데이터를 숫자형 데이터로 변환하는 **특성 엔지니어링(Feature engineering)** 또한 수행해보겠습니다."
   ]
  },
  {
   "cell_type": "markdown",
   "metadata": {
    "id": "KP6go6UWqZud"
   },
   "source": [
    "### 3.1. `Rating` & `Rating Count` 시각화\n",
    "\n",
    "각 앱의 리뷰 평점을 의미하는 `Rating` 변수와 리뷰 개수를 의미하는 `Rating Count`를 시각화 해봅니다."
   ]
  },
  {
   "cell_type": "code",
   "execution_count": 13,
   "metadata": {
    "colab": {
     "base_uri": "https://localhost:8080/",
     "height": 289
    },
    "executionInfo": {
     "elapsed": 420234,
     "status": "ok",
     "timestamp": 1606459823228,
     "user": {
      "displayName": "‍안상현[학생](경영대학 경영학과)",
      "photoUrl": "",
      "userId": "15732604784560776108"
     },
     "user_tz": -540
    },
    "id": "tefaY3_KqZud",
    "outputId": "f2f32200-2ae8-47a0-bbaa-e80f9471ac2c",
    "scrolled": true
   },
   "outputs": [
    {
     "data": {
      "text/plain": [
       "<Axes: xlabel='Rating'>"
      ]
     },
     "execution_count": 13,
     "metadata": {},
     "output_type": "execute_result"
    },
    {
     "data": {
      "image/png": "[encoded data removed]",
      "text/plain": [
       "<Figure size 640x480 with 1 Axes>"
      ]
     },
     "metadata": {},
     "output_type": "display_data"
    }
   ],
   "source": [
    "# Rating 분포를 막대 그래프를 사용하여 출력합니다.\n",
    "df_clean['Rating'].value_counts().plot(kind='bar')"
   ]
  },
  {
   "cell_type": "code",
   "execution_count": 14,
   "metadata": {
    "colab": {
     "base_uri": "https://localhost:8080/"
    },
    "executionInfo": {
     "elapsed": 420223,
     "status": "ok",
     "timestamp": 1606459823231,
     "user": {
      "displayName": "‍안상현[학생](경영대학 경영학과)",
      "photoUrl": "",
      "userId": "15732604784560776108"
     },
     "user_tz": -540
    },
    "id": "rMCgIZhhqZud",
    "outputId": "21abdbe6-408c-4b30-91ed-50983cd8b6df"
   },
   "outputs": [
    {
     "data": {
      "text/plain": [
       "163968"
      ]
     },
     "execution_count": 14,
     "metadata": {},
     "output_type": "execute_result"
    }
   ],
   "source": [
    "# Rating 값이 0인 데이터의 개수를 출력합니다.\n",
    "len(df_clean[df_clean['Rating'] == 0])"
   ]
  },
  {
   "cell_type": "code",
   "execution_count": 15,
   "metadata": {
    "colab": {
     "base_uri": "https://localhost:8080/"
    },
    "executionInfo": {
     "elapsed": 420208,
     "status": "ok",
     "timestamp": 1606459823232,
     "user": {
      "displayName": "‍안상현[학생](경영대학 경영학과)",
      "photoUrl": "",
      "userId": "15732604784560776108"
     },
     "user_tz": -540
    },
    "id": "0lxI9932qZue",
    "outputId": "c86a7515-e6ac-4b72-d2b7-c266c6996017"
   },
   "outputs": [
    {
     "data": {
      "text/plain": [
       "163968"
      ]
     },
     "execution_count": 15,
     "metadata": {},
     "output_type": "execute_result"
    }
   ],
   "source": [
    "# Rating Count 값이 0인 데이터의 개수를 출력합니다.\n",
    "len(df_clean[df_clean['Rating Count'] == 0])"
   ]
  },
  {
   "cell_type": "markdown",
   "metadata": {},
   "source": [
    "리뷰가 하나도 없는 경우 `Rating` 값을 0으로 설정하는 것을 확인하였습니다.\n",
    "\n",
    "리뷰가 너무 적은 경우에도 평점이 대표성을 띈다고 보기 어렵기 때문에 리뷰 개수가 10개 이하인 row는 제거하도록 하겠습니다."
   ]
  },
  {
   "cell_type": "code",
   "execution_count": 16,
   "metadata": {
    "id": "UmJXSf6pqZue"
   },
   "outputs": [],
   "source": [
    "# 'Rating Count' 값이 10보다 큰 경우 부터 의미 있는 데이터로 생각하고 10보다 작은 데이터는 삭제합니다.\n",
    "df_clean = df_clean[df_clean['Rating Count'] > 10]"
   ]
  },
  {
   "cell_type": "code",
   "execution_count": 17,
   "metadata": {
    "colab": {
     "base_uri": "https://localhost:8080/",
     "height": 1000
    },
    "executionInfo": {
     "elapsed": 420905,
     "status": "ok",
     "timestamp": 1606459823956,
     "user": {
      "displayName": "‍안상현[학생](경영대학 경영학과)",
      "photoUrl": "",
      "userId": "15732604784560776108"
     },
     "user_tz": -540
    },
    "id": "CqSpAZpnqZue",
    "outputId": "7aa0b792-3f8a-4250-db65-90ba2d98f615",
    "scrolled": true
   },
   "outputs": [
    {
     "data": {
      "text/plain": [
       "<Axes: xlabel='Rating'>"
      ]
     },
     "execution_count": 17,
     "metadata": {},
     "output_type": "execute_result"
    },
    {
     "data": {
      "image/png": "[encoded data removed]",
      "text/plain": [
       "<Figure size 1000x600 with 1 Axes>"
      ]
     },
     "metadata": {},
     "output_type": "display_data"
    }
   ],
   "source": [
    "# 그래프 사이즈 설정\n",
    "fig, ax = plt.subplots(figsize=(10, 6))\n",
    "\n",
    "# 추가 정제한 분포를 막대 그래프를 사용하여 출력합니다.\n",
    "df_clean['Rating'].value_counts().sort_index(ascending=False).plot(kind='bar')"
   ]
  },
  {
   "cell_type": "markdown",
   "metadata": {},
   "source": [
    "`Rating Count`를 10개 단위로 나누어서 확인해봅니다."
   ]
  },
  {
   "cell_type": "code",
   "execution_count": 18,
   "metadata": {},
   "outputs": [
    {
     "name": "stderr",
     "output_type": "stream",
     "text": [
      "C:\\Users\\3balb\\AppData\\Local\\Temp\\ipykernel_10380\\202811566.py:11: UserWarning: FigureCanvasAgg is non-interactive, and thus cannot be shown\n",
      "  fig.show()\n"
     ]
    },
    {
     "data": {
      "image/png": "[encoded data removed]",
      "text/plain": [
       "<Figure size 2000x1000 with 1 Axes>"
      ]
     },
     "metadata": {},
     "output_type": "display_data"
    }
   ],
   "source": [
    "# Rating Count를 10 단위로 분리하기 위해서 pd.cut을 사용합니다.\n",
    "df_cut_rating = pd.cut(df_clean['Rating Count'], np.arange(0, 200, 10)).value_counts(sort=False)\n",
    "\n",
    "# 히스토그램 출력\n",
    "fig, ax = plt.subplots(figsize=(20, 10))\n",
    "ax.bar(range(len(df_cut_rating)), df_cut_rating.values)\n",
    "\n",
    "# x축 표기를 위한 세팅\n",
    "ax.set_xticks(range(len(df_cut_rating)))\n",
    "ax.set_xticklabels(df_cut_rating.index)\n",
    "fig.show()"
   ]
  },
  {
   "cell_type": "markdown",
   "metadata": {
    "id": "qGDBIewxqZuf"
   },
   "source": [
    "### 3.2. `Installs` 시각화\n",
    "\n",
    "각 앱의 설치 횟수를 보여주는 `Installs` 변수를 시각화 해봅니다."
   ]
  },
  {
   "cell_type": "code",
   "execution_count": 19,
   "metadata": {
    "colab": {
     "base_uri": "https://localhost:8080/",
     "height": 736
    },
    "executionInfo": {
     "elapsed": 421612,
     "status": "ok",
     "timestamp": 1606459824701,
     "user": {
      "displayName": "‍안상현[학생](경영대학 경영학과)",
      "photoUrl": "",
      "userId": "15732604784560776108"
     },
     "user_tz": -540
    },
    "id": "P-EsMnR1qZuf",
    "outputId": "9cbff680-be65-4cb8-f9c8-9c37c42efb38",
    "scrolled": true
   },
   "outputs": [
    {
     "data": {
      "text/plain": [
       "<Axes: xlabel='Installs'>"
      ]
     },
     "execution_count": 19,
     "metadata": {},
     "output_type": "execute_result"
    },
    {
     "data": {
      "image/png": "[encoded data removed]",
      "text/plain": [
       "<Figure size 640x480 with 1 Axes>"
      ]
     },
     "metadata": {},
     "output_type": "display_data"
    }
   ],
   "source": [
    "# 분포를 막대 그래프를 사용하여 출력합니다.\n",
    "df_clean['Installs'].value_counts().plot(kind='bar')"
   ]
  },
  {
   "cell_type": "code",
   "execution_count": 20,
   "metadata": {
    "id": "wllJvWqpqZuf"
   },
   "outputs": [],
   "source": [
    "# 문자열 데이터를 수치 자료형으로 변환합니다.\n",
    "# + 삭제, 쉼표 삭제, int형 변화\n",
    "for element in set(df_clean['Installs']):\n",
    "    # 먼저 + 앞쪽의 숫자를 가져온 다음에\n",
    "    # 1000단위 구분 쉼표를 제거합니다.\n",
    "    # 그런 이후 숫자를 정수형으로 저장합니다.\n",
    "    df_clean = df_clean.replace(element, int(element.split('+')[0].replace(',', '')))"
   ]
  },
  {
   "cell_type": "code",
   "execution_count": 21,
   "metadata": {
    "colab": {
     "base_uri": "https://localhost:8080/",
     "height": 718
    },
    "executionInfo": {
     "elapsed": 422773,
     "status": "ok",
     "timestamp": 1606459825884,
     "user": {
      "displayName": "‍안상현[학생](경영대학 경영학과)",
      "photoUrl": "",
      "userId": "15732604784560776108"
     },
     "user_tz": -540
    },
    "id": "ZbsLAmpoqZuf",
    "outputId": "8d537f93-4dd6-4403-a234-f3952d4ae38d",
    "scrolled": true
   },
   "outputs": [
    {
     "data": {
      "text/plain": [
       "<Axes: xlabel='Installs'>"
      ]
     },
     "execution_count": 21,
     "metadata": {},
     "output_type": "execute_result"
    },
    {
     "data": {
      "image/png": "[encoded data removed]",
      "text/plain": [
       "<Figure size 640x480 with 1 Axes>"
      ]
     },
     "metadata": {},
     "output_type": "display_data"
    }
   ],
   "source": [
    "# 변환된 분포를 막대 그래프를 사용하여 출력합니다.\n",
    "df_clean['Installs'].value_counts().sort_index(ascending=True).plot(kind='bar')"
   ]
  },
  {
   "cell_type": "markdown",
   "metadata": {},
   "source": [
    "위 분포에서 양쪽 끝의 데이터들이 너무 작기에 이를 추가로 삭제합니다.\n",
    "\n",
    "5천만회 이상 설치한 앱의 개수를 모두 천만회 이상 설치한 앱의 개수로 통합합니다.\n",
    "\n",
    "즉, 다른 말로 하면 5천만회 이상 설치, 1억회 이상 설치, 5억회 이상 설치한 앱의 `Installs` 값을 천만으로 변경합니다."
   ]
  },
  {
   "cell_type": "code",
   "execution_count": 22,
   "metadata": {
    "colab": {
     "base_uri": "https://localhost:8080/",
     "height": 407
    },
    "executionInfo": {
     "elapsed": 423104,
     "status": "ok",
     "timestamp": 1606459826233,
     "user": {
      "displayName": "‍안상현[학생](경영대학 경영학과)",
      "photoUrl": "",
      "userId": "15732604784560776108"
     },
     "user_tz": -540
    },
    "id": "Cc81RDR9qZuf",
    "outputId": "d1240a61-62f0-4f30-a6cc-39a35e50ac38"
   },
   "outputs": [
    {
     "data": {
      "text/html": [
       "<div>\n",
       "<style scoped>\n",
       "    .dataframe tbody tr th:only-of-type {\n",
       "        vertical-align: middle;\n",
       "    }\n",
       "\n",
       "    .dataframe tbody tr th {\n",
       "        vertical-align: top;\n",
       "    }\n",
       "\n",
       "    .dataframe thead th {\n",
       "        text-align: right;\n",
       "    }\n",
       "</style>\n",
       "<table border=\"1\" class=\"dataframe\">\n",
       "  <thead>\n",
       "    <tr style=\"text-align: right;\">\n",
       "      <th></th>\n",
       "      <th>Unnamed: 0</th>\n",
       "      <th>Category</th>\n",
       "      <th>Rating</th>\n",
       "      <th>Rating Count</th>\n",
       "      <th>Installs</th>\n",
       "      <th>Free</th>\n",
       "      <th>Last Updated</th>\n",
       "      <th>Content Rating</th>\n",
       "      <th>Ad Supported</th>\n",
       "      <th>In App Purchases</th>\n",
       "      <th>Editors Choice</th>\n",
       "    </tr>\n",
       "  </thead>\n",
       "  <tbody>\n",
       "    <tr>\n",
       "      <th>0</th>\n",
       "      <td>0</td>\n",
       "      <td>Food &amp; Drink</td>\n",
       "      <td>4.4</td>\n",
       "      <td>1258493.0</td>\n",
       "      <td>10000000</td>\n",
       "      <td>True</td>\n",
       "      <td>2020-07-07 00:14:05</td>\n",
       "      <td>Everyone</td>\n",
       "      <td>False</td>\n",
       "      <td>False</td>\n",
       "      <td>False</td>\n",
       "    </tr>\n",
       "    <tr>\n",
       "      <th>1</th>\n",
       "      <td>1</td>\n",
       "      <td>Travel &amp; Local</td>\n",
       "      <td>4.4</td>\n",
       "      <td>1360172.0</td>\n",
       "      <td>10000000</td>\n",
       "      <td>True</td>\n",
       "      <td>2020-07-02 20:10:48</td>\n",
       "      <td>Everyone</td>\n",
       "      <td>True</td>\n",
       "      <td>False</td>\n",
       "      <td>False</td>\n",
       "    </tr>\n",
       "    <tr>\n",
       "      <th>5</th>\n",
       "      <td>5</td>\n",
       "      <td>Food &amp; Drink</td>\n",
       "      <td>4.5</td>\n",
       "      <td>784802.0</td>\n",
       "      <td>10000000</td>\n",
       "      <td>True</td>\n",
       "      <td>2020-06-26 01:32:02</td>\n",
       "      <td>Everyone</td>\n",
       "      <td>False</td>\n",
       "      <td>False</td>\n",
       "      <td>False</td>\n",
       "    </tr>\n",
       "    <tr>\n",
       "      <th>7</th>\n",
       "      <td>7</td>\n",
       "      <td>Food &amp; Drink</td>\n",
       "      <td>4.1</td>\n",
       "      <td>453646.0</td>\n",
       "      <td>10000000</td>\n",
       "      <td>True</td>\n",
       "      <td>2020-07-21 05:01:40</td>\n",
       "      <td>Teen</td>\n",
       "      <td>True</td>\n",
       "      <td>False</td>\n",
       "      <td>True</td>\n",
       "    </tr>\n",
       "    <tr>\n",
       "      <th>12</th>\n",
       "      <td>12</td>\n",
       "      <td>Food &amp; Drink</td>\n",
       "      <td>4.7</td>\n",
       "      <td>1470566.0</td>\n",
       "      <td>10000000</td>\n",
       "      <td>True</td>\n",
       "      <td>2020-07-03 03:06:17</td>\n",
       "      <td>Everyone</td>\n",
       "      <td>False</td>\n",
       "      <td>False</td>\n",
       "      <td>False</td>\n",
       "    </tr>\n",
       "    <tr>\n",
       "      <th>...</th>\n",
       "      <td>...</td>\n",
       "      <td>...</td>\n",
       "      <td>...</td>\n",
       "      <td>...</td>\n",
       "      <td>...</td>\n",
       "      <td>...</td>\n",
       "      <td>...</td>\n",
       "      <td>...</td>\n",
       "      <td>...</td>\n",
       "      <td>...</td>\n",
       "      <td>...</td>\n",
       "    </tr>\n",
       "    <tr>\n",
       "      <th>600301</th>\n",
       "      <td>600301</td>\n",
       "      <td>Video Players &amp; Editors</td>\n",
       "      <td>3.1</td>\n",
       "      <td>16958.0</td>\n",
       "      <td>10000000</td>\n",
       "      <td>True</td>\n",
       "      <td>2020-07-20 08:00:31</td>\n",
       "      <td>Everyone</td>\n",
       "      <td>True</td>\n",
       "      <td>False</td>\n",
       "      <td>False</td>\n",
       "    </tr>\n",
       "    <tr>\n",
       "      <th>600463</th>\n",
       "      <td>600463</td>\n",
       "      <td>Entertainment</td>\n",
       "      <td>3.4</td>\n",
       "      <td>115801.0</td>\n",
       "      <td>10000000</td>\n",
       "      <td>True</td>\n",
       "      <td>2020-01-06 16:52:35</td>\n",
       "      <td>Everyone</td>\n",
       "      <td>False</td>\n",
       "      <td>True</td>\n",
       "      <td>False</td>\n",
       "    </tr>\n",
       "    <tr>\n",
       "      <th>600737</th>\n",
       "      <td>600737</td>\n",
       "      <td>Simulation</td>\n",
       "      <td>4.1</td>\n",
       "      <td>73495.0</td>\n",
       "      <td>10000000</td>\n",
       "      <td>True</td>\n",
       "      <td>2020-03-22 23:44:40</td>\n",
       "      <td>Teen</td>\n",
       "      <td>True</td>\n",
       "      <td>True</td>\n",
       "      <td>False</td>\n",
       "    </tr>\n",
       "    <tr>\n",
       "      <th>600873</th>\n",
       "      <td>600873</td>\n",
       "      <td>Social</td>\n",
       "      <td>4.2</td>\n",
       "      <td>31759.0</td>\n",
       "      <td>10000000</td>\n",
       "      <td>True</td>\n",
       "      <td>2020-02-13 15:48:20</td>\n",
       "      <td>Everyone</td>\n",
       "      <td>True</td>\n",
       "      <td>False</td>\n",
       "      <td>False</td>\n",
       "    </tr>\n",
       "    <tr>\n",
       "      <th>602282</th>\n",
       "      <td>602282</td>\n",
       "      <td>Action</td>\n",
       "      <td>4.1</td>\n",
       "      <td>194358.0</td>\n",
       "      <td>10000000</td>\n",
       "      <td>True</td>\n",
       "      <td>2019-09-15 21:35:34</td>\n",
       "      <td>Teen</td>\n",
       "      <td>True</td>\n",
       "      <td>True</td>\n",
       "      <td>False</td>\n",
       "    </tr>\n",
       "  </tbody>\n",
       "</table>\n",
       "<p>5415 rows × 11 columns</p>\n",
       "</div>"
      ],
      "text/plain": [
       "        Unnamed: 0                 Category  Rating  Rating Count  Installs  \\\n",
       "0                0             Food & Drink     4.4     1258493.0  10000000   \n",
       "1                1           Travel & Local     4.4     1360172.0  10000000   \n",
       "5                5             Food & Drink     4.5      784802.0  10000000   \n",
       "7                7             Food & Drink     4.1      453646.0  10000000   \n",
       "12              12             Food & Drink     4.7     1470566.0  10000000   \n",
       "...            ...                      ...     ...           ...       ...   \n",
       "600301      600301  Video Players & Editors     3.1       16958.0  10000000   \n",
       "600463      600463            Entertainment     3.4      115801.0  10000000   \n",
       "600737      600737               Simulation     4.1       73495.0  10000000   \n",
       "600873      600873                   Social     4.2       31759.0  10000000   \n",
       "602282      602282                   Action     4.1      194358.0  10000000   \n",
       "\n",
       "        Free         Last Updated Content Rating  Ad Supported  \\\n",
       "0       True  2020-07-07 00:14:05       Everyone         False   \n",
       "1       True  2020-07-02 20:10:48       Everyone          True   \n",
       "5       True  2020-06-26 01:32:02       Everyone         False   \n",
       "7       True  2020-07-21 05:01:40           Teen          True   \n",
       "12      True  2020-07-03 03:06:17       Everyone         False   \n",
       "...      ...                  ...            ...           ...   \n",
       "600301  True  2020-07-20 08:00:31       Everyone          True   \n",
       "600463  True  2020-01-06 16:52:35       Everyone         False   \n",
       "600737  True  2020-03-22 23:44:40           Teen          True   \n",
       "600873  True  2020-02-13 15:48:20       Everyone          True   \n",
       "602282  True  2019-09-15 21:35:34           Teen          True   \n",
       "\n",
       "        In App Purchases  Editors Choice  \n",
       "0                  False           False  \n",
       "1                  False           False  \n",
       "5                  False           False  \n",
       "7                  False            True  \n",
       "12                 False           False  \n",
       "...                  ...             ...  \n",
       "600301             False           False  \n",
       "600463              True           False  \n",
       "600737              True           False  \n",
       "600873             False           False  \n",
       "602282              True           False  \n",
       "\n",
       "[5415 rows x 11 columns]"
      ]
     },
     "execution_count": 22,
     "metadata": {},
     "output_type": "execute_result"
    }
   ],
   "source": [
    "df_clean.loc[df_clean['Installs'] >= 5e7, 'Installs'] = 1e7\n",
    "df_clean[df_clean['Installs'] >= 1e7]"
   ]
  },
  {
   "cell_type": "markdown",
   "metadata": {},
   "source": [
    "반대로 1000회 이상 설치보다 적은 설치횟수를 가지는 앱들은 데이터에서 제거합니다."
   ]
  },
  {
   "cell_type": "code",
   "execution_count": 23,
   "metadata": {
    "colab": {
     "base_uri": "https://localhost:8080/",
     "height": 407
    },
    "executionInfo": {
     "elapsed": 423085,
     "status": "ok",
     "timestamp": 1606459826234,
     "user": {
      "displayName": "‍안상현[학생](경영대학 경영학과)",
      "photoUrl": "",
      "userId": "15732604784560776108"
     },
     "user_tz": -540
    },
    "id": "jwE-P2MZqZug",
    "outputId": "0ce7f073-313e-4227-e694-7d432046a7f6"
   },
   "outputs": [],
   "source": [
    "# 1000회 이상 설치되지 못한 앱들 데이터는 삭제\n",
    "df_clean = df_clean.drop(df_clean[df_clean['Installs'] < 1000].index)"
   ]
  },
  {
   "cell_type": "code",
   "execution_count": 24,
   "metadata": {
    "colab": {
     "base_uri": "https://localhost:8080/",
     "height": 445
    },
    "executionInfo": {
     "elapsed": 423070,
     "status": "ok",
     "timestamp": 1606459826235,
     "user": {
      "displayName": "‍안상현[학생](경영대학 경영학과)",
      "photoUrl": "",
      "userId": "15732604784560776108"
     },
     "user_tz": -540
    },
    "id": "BjbtM_8iqZug",
    "outputId": "7165654d-3d45-4776-b8fa-6f8cac4adcc1"
   },
   "outputs": [
    {
     "data": {
      "text/plain": [
       "<Axes: xlabel='Installs'>"
      ]
     },
     "execution_count": 24,
     "metadata": {},
     "output_type": "execute_result"
    },
    {
     "data": {
      "image/png": "[encoded data removed]",
      "text/plain": [
       "<Figure size 640x480 with 1 Axes>"
      ]
     },
     "metadata": {},
     "output_type": "display_data"
    }
   ],
   "source": [
    "# 다시 분포를 출력합니다.\n",
    "df_clean['Installs'].value_counts().sort_index(ascending=True).plot(kind='bar')"
   ]
  },
  {
   "cell_type": "markdown",
   "metadata": {
    "id": "cuJGVeVHqZug"
   },
   "source": [
    "### 3.3. `Free` 시각화\n",
    "\n",
    "앱이 무료인지 여부를 알려주는 변수 `Free`를 시각화 해봅니다."
   ]
  },
  {
   "cell_type": "code",
   "execution_count": 25,
   "metadata": {
    "colab": {
     "base_uri": "https://localhost:8080/",
     "height": 335
    },
    "executionInfo": {
     "elapsed": 423390,
     "status": "ok",
     "timestamp": 1606459826579,
     "user": {
      "displayName": "‍안상현[학생](경영대학 경영학과)",
      "photoUrl": "",
      "userId": "15732604784560776108"
     },
     "user_tz": -540
    },
    "id": "SK574S7-qZug",
    "outputId": "065b2879-f917-47be-f14d-76afafe34a31"
   },
   "outputs": [
    {
     "data": {
      "text/plain": [
       "<Axes: xlabel='Free'>"
      ]
     },
     "execution_count": 25,
     "metadata": {},
     "output_type": "execute_result"
    },
    {
     "data": {
      "image/png": "[encoded data removed]",
      "text/plain": [
       "<Figure size 640x480 with 1 Axes>"
      ]
     },
     "metadata": {},
     "output_type": "display_data"
    }
   ],
   "source": [
    "# 분포를 막대 그래프를 사용하여 출력합니다.\n",
    "df_clean['Free'].value_counts().plot(kind='bar')"
   ]
  },
  {
   "cell_type": "markdown",
   "metadata": {
    "id": "41L7ZOIeqZug"
   },
   "source": [
    "### 3.4. `Last Updated` 시각화\n",
    "\n",
    "앱이 마지막으로 업데이트 된 날짜를 시각화 해봅니다."
   ]
  },
  {
   "cell_type": "code",
   "execution_count": 26,
   "metadata": {
    "colab": {
     "base_uri": "https://localhost:8080/"
    },
    "executionInfo": {
     "elapsed": 423691,
     "status": "ok",
     "timestamp": 1606459826895,
     "user": {
      "displayName": "‍안상현[학생](경영대학 경영학과)",
      "photoUrl": "",
      "userId": "15732604784560776108"
     },
     "user_tz": -540
    },
    "id": "gxdMoOz0qZug",
    "outputId": "15195ba0-54d9-44f4-91a1-f4bae6f665c8"
   },
   "outputs": [
    {
     "data": {
      "text/plain": [
       "Last Updated\n",
       "2020-07-13 07:39:47    4\n",
       "2020-04-15 19:45:13    4\n",
       "2020-07-13 07:38:00    4\n",
       "2020-07-08 14:07:44    4\n",
       "2020-07-13 07:39:49    3\n",
       "                      ..\n",
       "2020-07-05 18:35:32    1\n",
       "2020-03-31 13:38:00    1\n",
       "2020-06-04 15:39:16    1\n",
       "2018-08-18 15:36:33    1\n",
       "2020-07-08 08:35:29    1\n",
       "Name: count, Length: 355409, dtype: int64"
      ]
     },
     "execution_count": 26,
     "metadata": {},
     "output_type": "execute_result"
    }
   ],
   "source": [
    "# 분포를 도수분포표로 확인합니다.\n",
    "df_clean['Last Updated'].value_counts()"
   ]
  },
  {
   "cell_type": "markdown",
   "metadata": {},
   "source": [
    "본 데이터는 2020년 기준으로 수집한 데이터입니다.\n",
    "\n",
    "따라서 2020년 중에 마지막으로 업데이트가 이루어진 경우엔 개발자가 앱을 계속해서 유지보수 및 개선을 진행하고 있다고 판단해도 괜찮을 것으로 보입니다.\n",
    "\n",
    "반대로 말하면, 2020년 중에 업데이트가 이루어지지 않은 경우 지원이 다소 소홀해진 앱이라고 볼 수 있을 것입니다. 앱의 특성상 업데이트가 자주 이루어지지 않을 수도 있기는 하나, 분석을 간략하게 하기 위해 2020년에 업데이트가 이루어졌는지 여부만을 보고 새로운 변수를 생성하도록 하겠습니다.\n",
    "\n",
    "새로운 변수명은 `2020 Updated`로 하겠습니다. 동시에 기존 `Last Updated` 변수는 제거하도록 하겠습니다."
   ]
  },
  {
   "cell_type": "code",
   "execution_count": 27,
   "metadata": {
    "id": "T0EywX6TqZug"
   },
   "outputs": [],
   "source": [
    "# 날짜와 시간 정보인 Last Updated를 가공하여 2020년에 업데이트가 이루어졌는지 여부를 저장하는 변수를 만들겠습니다.\n",
    "df_clean['2020 Updated'] = [date.split('-')[0] == '2020' for date in df_clean['Last Updated']]\n",
    "\n",
    "# Last Updated 변수를 제거합니다.\n",
    "df_clean = df_clean.drop('Last Updated', axis=1)"
   ]
  },
  {
   "cell_type": "code",
   "execution_count": 28,
   "metadata": {
    "colab": {
     "base_uri": "https://localhost:8080/",
     "height": 335
    },
    "executionInfo": {
     "elapsed": 424147,
     "status": "ok",
     "timestamp": 1606459827371,
     "user": {
      "displayName": "‍안상현[학생](경영대학 경영학과)",
      "photoUrl": "",
      "userId": "15732604784560776108"
     },
     "user_tz": -540
    },
    "id": "U_wkhgbOqZug",
    "outputId": "09dca9ae-5f1b-44fe-fe50-3364236e2587"
   },
   "outputs": [
    {
     "data": {
      "text/plain": [
       "<Axes: xlabel='2020 Updated'>"
      ]
     },
     "execution_count": 28,
     "metadata": {},
     "output_type": "execute_result"
    },
    {
     "data": {
      "image/png": "[encoded data removed]",
      "text/plain": [
       "<Figure size 640x480 with 1 Axes>"
      ]
     },
     "metadata": {},
     "output_type": "display_data"
    }
   ],
   "source": [
    "# 분포를 막대 그래프를 사용하여 출력합니다.\n",
    "df_clean['2020 Updated'].value_counts().plot(kind='bar')"
   ]
  },
  {
   "cell_type": "markdown",
   "metadata": {
    "id": "JrGKj6_0qZug"
   },
   "source": [
    "### 3.5. `Content Rating` 시각화\n",
    "\n",
    "앱의 권장 사용 연령을 나타내는 변수 `Content Rating`을 시각화 해봅니다."
   ]
  },
  {
   "cell_type": "code",
   "execution_count": 29,
   "metadata": {
    "colab": {
     "base_uri": "https://localhost:8080/",
     "height": 462
    },
    "executionInfo": {
     "elapsed": 424743,
     "status": "ok",
     "timestamp": 1606459827987,
     "user": {
      "displayName": "‍안상현[학생](경영대학 경영학과)",
      "photoUrl": "",
      "userId": "15732604784560776108"
     },
     "user_tz": -540
    },
    "id": "SOPccFXEqZug",
    "outputId": "c8318e27-d857-4534-813c-ee97733e4a88"
   },
   "outputs": [
    {
     "data": {
      "text/plain": [
       "<Axes: xlabel='Content Rating'>"
      ]
     },
     "execution_count": 29,
     "metadata": {},
     "output_type": "execute_result"
    },
    {
     "data": {
      "image/png": "[encoded data removed]",
      "text/plain": [
       "<Figure size 640x480 with 1 Axes>"
      ]
     },
     "metadata": {},
     "output_type": "display_data"
    }
   ],
   "source": [
    "# 분포를 막대 그래프를 사용하여 출력합니다.\n",
    "df_clean['Content Rating'].value_counts().plot(kind='bar')"
   ]
  },
  {
   "cell_type": "markdown",
   "metadata": {
    "id": "V89FjHKIqZug"
   },
   "source": [
    "### 3.6. `Ad Supported` 시각화\n",
    "\n",
    "앱에 광고가 표시되는 여부를 나타내는 변수 `Ad Supported`를 시각화 해봅니다."
   ]
  },
  {
   "cell_type": "code",
   "execution_count": 30,
   "metadata": {
    "colab": {
     "base_uri": "https://localhost:8080/",
     "height": 335
    },
    "executionInfo": {
     "elapsed": 424727,
     "status": "ok",
     "timestamp": 1606459827989,
     "user": {
      "displayName": "‍안상현[학생](경영대학 경영학과)",
      "photoUrl": "",
      "userId": "15732604784560776108"
     },
     "user_tz": -540
    },
    "id": "rxYwKXZmqZug",
    "outputId": "d39fadde-cb69-49ad-9e7d-515b8c7d4784"
   },
   "outputs": [
    {
     "data": {
      "text/plain": [
       "<Axes: xlabel='Ad Supported'>"
      ]
     },
     "execution_count": 30,
     "metadata": {},
     "output_type": "execute_result"
    },
    {
     "data": {
      "image/png": "[encoded data removed]",
      "text/plain": [
       "<Figure size 640x480 with 1 Axes>"
      ]
     },
     "metadata": {},
     "output_type": "display_data"
    }
   ],
   "source": [
    "# 분포를 막대 그래프를 사용하여 출력합니다.\n",
    "df_clean['Ad Supported'].value_counts().plot(kind='bar')"
   ]
  },
  {
   "cell_type": "markdown",
   "metadata": {
    "id": "gjNifNJoqZuh"
   },
   "source": [
    "### 3.7. `In App Purchases` 시각화\n",
    "\n",
    "앱내 구매가 지원되는지 여부를 나타내는 변수 `In App Purchases`를 시각화 해봅니다."
   ]
  },
  {
   "cell_type": "code",
   "execution_count": 31,
   "metadata": {
    "colab": {
     "base_uri": "https://localhost:8080/",
     "height": 335
    },
    "executionInfo": {
     "elapsed": 424709,
     "status": "ok",
     "timestamp": 1606459827990,
     "user": {
      "displayName": "‍안상현[학생](경영대학 경영학과)",
      "photoUrl": "",
      "userId": "15732604784560776108"
     },
     "user_tz": -540
    },
    "id": "bMYE9-9nqZuh",
    "outputId": "c9dc3774-3ce1-476c-f32f-c8dc828f5f4e"
   },
   "outputs": [
    {
     "data": {
      "text/plain": [
       "<Axes: xlabel='In App Purchases'>"
      ]
     },
     "execution_count": 31,
     "metadata": {},
     "output_type": "execute_result"
    },
    {
     "data": {
      "image/png": "[encoded data removed]",
      "text/plain": [
       "<Figure size 640x480 with 1 Axes>"
      ]
     },
     "metadata": {},
     "output_type": "display_data"
    }
   ],
   "source": [
    "# 분포를 막대 그래프를 사용하여 출력합니다.\n",
    "df_clean['In App Purchases'].value_counts().plot(kind='bar')"
   ]
  },
  {
   "cell_type": "markdown",
   "metadata": {
    "id": "KgD5knKGqZuh"
   },
   "source": [
    "### 3.8. `Editors Choice` 시각화\n",
    "\n",
    "[**Editors Choice**](https://play.google.com/store/apps/editors_choice?hl=en_US&gl=US)란 언론사의 편집부(editorial board)가 직접 추천하거나 하는 기사처럼 Google Play Store 관리자가 직접 추천하는 앱을 의미합니다.\n",
    "\n",
    "`Editors Choice` 변수는 앱이 이것에 선정되었는지 여부를 의미합니다."
   ]
  },
  {
   "cell_type": "code",
   "execution_count": 32,
   "metadata": {
    "colab": {
     "base_uri": "https://localhost:8080/",
     "height": 335
    },
    "executionInfo": {
     "elapsed": 425005,
     "status": "ok",
     "timestamp": 1606459828304,
     "user": {
      "displayName": "‍안상현[학생](경영대학 경영학과)",
      "photoUrl": "",
      "userId": "15732604784560776108"
     },
     "user_tz": -540
    },
    "id": "PYkZGXKdqZuh",
    "outputId": "8ace97fd-656e-4754-ee95-b05dfe71ab78",
    "scrolled": true
   },
   "outputs": [
    {
     "data": {
      "text/plain": [
       "<Axes: xlabel='Editors Choice'>"
      ]
     },
     "execution_count": 32,
     "metadata": {},
     "output_type": "execute_result"
    },
    {
     "data": {
      "image/png": "[encoded data removed]",
      "text/plain": [
       "<Figure size 640x480 with 1 Axes>"
      ]
     },
     "metadata": {},
     "output_type": "display_data"
    }
   ],
   "source": [
    "# 분포를 막대 그래프를 사용하여 출력합니다.\n",
    "df_clean['Editors Choice'].value_counts().plot(kind='bar')"
   ]
  },
  {
   "cell_type": "markdown",
   "metadata": {
    "id": "msoC8LVZqZuh"
   },
   "source": [
    "## 4. 데이터 전처리"
   ]
  },
  {
   "cell_type": "markdown",
   "metadata": {
    "id": "Z1BxOMMJqZuh"
   },
   "source": [
    "앱 평점 예측을 수행하기 위해서 주어진 구글 앱 데이터에 대해서 회귀 모델을 사용할 것입니다.\n",
    "\n",
    "이번 파트에서는 11개의 변수만을 사용하여 예측을 수행하지만, 나머지 12개의 변수들을 추가하여 입력 데이터를 확장할 수 있습니다.\n",
    "\n",
    "회귀 모델의 필요한 입력 데이터를 준비하기 위해서 다음과 같은 전처리를 수행하겠습니다.\n",
    "\n",
    "1. 카테고리형 변수를 수치 변수로 변환하기\n",
    "2. 학습 데이터와 테스트 데이터로 나누기\n",
    "3. 입력 변수들의 값의 크기 범위를 조정하기 위한 정규화"
   ]
  },
  {
   "cell_type": "markdown",
   "metadata": {
    "id": "tEUXVxZjqZuh"
   },
   "source": [
    "### 4.1. 가변수(Dummy Variable)를 활용하여 카테고리형 변수를 수치형으로 변환\n",
    "\n",
    "머신러닝 모델은 수치형 데이터만을 입력으로 받을 수 있습니다. 그러나 본 데이터의 `Content Rating` 변수처럼 카테고리로 나눠진 변수도 있고, 이들이 우리가 예측하길 원하는 변수와 관련이 깊을 수도 있습니다.\n",
    "\n",
    "따라서 이러한 카테고리형 변수를 수치형 변수로 바꿔주는 과정이 필요합니다. 이를 위한 기법에는 대표적으로 아래와 같은 것들이 있습니다.\n",
    "- 카테고리 별로 정수 할당: `Content Rating` 변수를 예로 들면 `Everyone`에는 0, `Teen`에는 1 과 같은 방식입니다.\n",
    "- One-hot Encoding\n",
    "    - `Content Rating`의 개수가 5개라고 가정하면 row 하나당 길이 5짜리 벡터를 만들고 0으로 초기화 합니다. (`[0, 0, 0, 0, 0]`)\n",
    "    - 각 row가 속한 카테고리의 위치에만 1을 표기합니다. 맨 처음이 `Everyone`을 의미하고, 현재 row가 `Everyone`이라면 `[1, 0, 0, 0, 0]` 과 같이 됩니다.\n",
    "\n",
    "\n",
    "어느 방법을 쓰든 무방하지만, pandas에서는 one-hot encoding을 손쉽게 만들어주는 `get_dummies()`라는 함수가 존재합니다.\n",
    "\n",
    "이 함수는 앞서 말한 one-hot encoding을 위한 가변수를 생성해줍니다. 가령 `Content Rating`에 있는 값이 `Everyone`과 `Teen` 뿐이었다고 가정했을 때, `get_dummies()`를 적용하면 아래와 같은 가변수가 생성됩니다.\n",
    "- `Content Rating_Everyone`\n",
    "- `Content Rating_Teen`\n",
    "\n",
    "그러면 값이 `Everyone`이었던 row는 새로 생성된 `Content Rating_Everyone` 변수의 값이 1이 되는 형식입니다. 이러면서 기존에 있던 `Content Rating`이라는 변수 자체는 사라지게 됩니다.\n",
    "\n",
    "이번 실습에서는 위의 함수를 통해 `Content Rating` 변수에 one-hot encoding을 적용해보도록 하겠습니다."
   ]
  },
  {
   "cell_type": "code",
   "execution_count": 33,
   "metadata": {},
   "outputs": [],
   "source": [
    "# 먼저 True, False 값을 가지는 변수는 replace를 사용하여 0, 1로 변환 합니다.\n",
    "df_clean = df_clean.replace([True, False], [1, 0])"
   ]
  },
  {
   "cell_type": "code",
   "execution_count": 34,
   "metadata": {},
   "outputs": [
    {
     "name": "stdout",
     "output_type": "stream",
     "text": [
      "<class 'pandas.core.frame.DataFrame'>\n",
      "Index: 357111 entries, 0 to 603006\n",
      "Data columns (total 11 columns):\n",
      " #   Column            Non-Null Count   Dtype  \n",
      "---  ------            --------------   -----  \n",
      " 0   Unnamed: 0        357111 non-null  int64  \n",
      " 1   Category          357111 non-null  object \n",
      " 2   Rating            357111 non-null  float64\n",
      " 3   Rating Count      357111 non-null  float64\n",
      " 4   Installs          357111 non-null  int64  \n",
      " 5   Free              357111 non-null  int64  \n",
      " 6   Content Rating    357111 non-null  object \n",
      " 7   Ad Supported      357111 non-null  int64  \n",
      " 8   In App Purchases  357111 non-null  int64  \n",
      " 9   Editors Choice    357111 non-null  int64  \n",
      " 10  2020 Updated      357111 non-null  int64  \n",
      "dtypes: float64(2), int64(7), object(2)\n",
      "memory usage: 32.7+ MB\n"
     ]
    }
   ],
   "source": [
    "# 다음으로 현재 카테고리형 변수가 어떤 것들이 있는지 확인해봅니다.\n",
    "df_clean.info()"
   ]
  },
  {
   "cell_type": "markdown",
   "metadata": {},
   "source": [
    "확인 결과 카테고리형 변수, 즉 dtype이 `object`로 나타나는 변수는 `Category`와 `Content Rating` 두가지인 것으로 확인하였습니다.\n",
    "\n",
    "이들을 `get_dummies()` 함수를 활용하여 one-hot encoding을 적용하겠습니다."
   ]
  },
  {
   "cell_type": "code",
   "execution_count": 35,
   "metadata": {},
   "outputs": [
    {
     "data": {
      "text/html": [
       "<div>\n",
       "<style scoped>\n",
       "    .dataframe tbody tr th:only-of-type {\n",
       "        vertical-align: middle;\n",
       "    }\n",
       "\n",
       "    .dataframe tbody tr th {\n",
       "        vertical-align: top;\n",
       "    }\n",
       "\n",
       "    .dataframe thead th {\n",
       "        text-align: right;\n",
       "    }\n",
       "</style>\n",
       "<table border=\"1\" class=\"dataframe\">\n",
       "  <thead>\n",
       "    <tr style=\"text-align: right;\">\n",
       "      <th></th>\n",
       "      <th>Unnamed: 0</th>\n",
       "      <th>Rating</th>\n",
       "      <th>Rating Count</th>\n",
       "      <th>Installs</th>\n",
       "      <th>Free</th>\n",
       "      <th>Ad Supported</th>\n",
       "      <th>In App Purchases</th>\n",
       "      <th>Editors Choice</th>\n",
       "      <th>2020 Updated</th>\n",
       "      <th>Category_Action</th>\n",
       "      <th>...</th>\n",
       "      <th>Category_Trivia</th>\n",
       "      <th>Category_Video Players &amp; Editors</th>\n",
       "      <th>Category_Weather</th>\n",
       "      <th>Category_Word</th>\n",
       "      <th>Content Rating_Adults only 18+</th>\n",
       "      <th>Content Rating_Everyone</th>\n",
       "      <th>Content Rating_Everyone 10+</th>\n",
       "      <th>Content Rating_Mature 17+</th>\n",
       "      <th>Content Rating_Teen</th>\n",
       "      <th>Content Rating_Unrated</th>\n",
       "    </tr>\n",
       "  </thead>\n",
       "  <tbody>\n",
       "    <tr>\n",
       "      <th>0</th>\n",
       "      <td>0</td>\n",
       "      <td>4.4</td>\n",
       "      <td>1258493.0</td>\n",
       "      <td>10000000</td>\n",
       "      <td>1</td>\n",
       "      <td>0</td>\n",
       "      <td>0</td>\n",
       "      <td>0</td>\n",
       "      <td>1</td>\n",
       "      <td>False</td>\n",
       "      <td>...</td>\n",
       "      <td>False</td>\n",
       "      <td>False</td>\n",
       "      <td>False</td>\n",
       "      <td>False</td>\n",
       "      <td>False</td>\n",
       "      <td>True</td>\n",
       "      <td>False</td>\n",
       "      <td>False</td>\n",
       "      <td>False</td>\n",
       "      <td>False</td>\n",
       "    </tr>\n",
       "    <tr>\n",
       "      <th>1</th>\n",
       "      <td>1</td>\n",
       "      <td>4.4</td>\n",
       "      <td>1360172.0</td>\n",
       "      <td>10000000</td>\n",
       "      <td>1</td>\n",
       "      <td>1</td>\n",
       "      <td>0</td>\n",
       "      <td>0</td>\n",
       "      <td>1</td>\n",
       "      <td>False</td>\n",
       "      <td>...</td>\n",
       "      <td>False</td>\n",
       "      <td>False</td>\n",
       "      <td>False</td>\n",
       "      <td>False</td>\n",
       "      <td>False</td>\n",
       "      <td>True</td>\n",
       "      <td>False</td>\n",
       "      <td>False</td>\n",
       "      <td>False</td>\n",
       "      <td>False</td>\n",
       "    </tr>\n",
       "    <tr>\n",
       "      <th>2</th>\n",
       "      <td>2</td>\n",
       "      <td>4.2</td>\n",
       "      <td>5532.0</td>\n",
       "      <td>500000</td>\n",
       "      <td>1</td>\n",
       "      <td>0</td>\n",
       "      <td>0</td>\n",
       "      <td>0</td>\n",
       "      <td>1</td>\n",
       "      <td>False</td>\n",
       "      <td>...</td>\n",
       "      <td>False</td>\n",
       "      <td>False</td>\n",
       "      <td>False</td>\n",
       "      <td>False</td>\n",
       "      <td>False</td>\n",
       "      <td>True</td>\n",
       "      <td>False</td>\n",
       "      <td>False</td>\n",
       "      <td>False</td>\n",
       "      <td>False</td>\n",
       "    </tr>\n",
       "    <tr>\n",
       "      <th>3</th>\n",
       "      <td>3</td>\n",
       "      <td>4.7</td>\n",
       "      <td>2531.0</td>\n",
       "      <td>10000</td>\n",
       "      <td>0</td>\n",
       "      <td>0</td>\n",
       "      <td>0</td>\n",
       "      <td>0</td>\n",
       "      <td>1</td>\n",
       "      <td>False</td>\n",
       "      <td>...</td>\n",
       "      <td>False</td>\n",
       "      <td>False</td>\n",
       "      <td>False</td>\n",
       "      <td>False</td>\n",
       "      <td>False</td>\n",
       "      <td>True</td>\n",
       "      <td>False</td>\n",
       "      <td>False</td>\n",
       "      <td>False</td>\n",
       "      <td>False</td>\n",
       "    </tr>\n",
       "    <tr>\n",
       "      <th>4</th>\n",
       "      <td>4</td>\n",
       "      <td>4.4</td>\n",
       "      <td>197649.0</td>\n",
       "      <td>5000000</td>\n",
       "      <td>1</td>\n",
       "      <td>1</td>\n",
       "      <td>0</td>\n",
       "      <td>0</td>\n",
       "      <td>1</td>\n",
       "      <td>False</td>\n",
       "      <td>...</td>\n",
       "      <td>False</td>\n",
       "      <td>False</td>\n",
       "      <td>False</td>\n",
       "      <td>False</td>\n",
       "      <td>False</td>\n",
       "      <td>False</td>\n",
       "      <td>False</td>\n",
       "      <td>True</td>\n",
       "      <td>False</td>\n",
       "      <td>False</td>\n",
       "    </tr>\n",
       "    <tr>\n",
       "      <th>...</th>\n",
       "      <td>...</td>\n",
       "      <td>...</td>\n",
       "      <td>...</td>\n",
       "      <td>...</td>\n",
       "      <td>...</td>\n",
       "      <td>...</td>\n",
       "      <td>...</td>\n",
       "      <td>...</td>\n",
       "      <td>...</td>\n",
       "      <td>...</td>\n",
       "      <td>...</td>\n",
       "      <td>...</td>\n",
       "      <td>...</td>\n",
       "      <td>...</td>\n",
       "      <td>...</td>\n",
       "      <td>...</td>\n",
       "      <td>...</td>\n",
       "      <td>...</td>\n",
       "      <td>...</td>\n",
       "      <td>...</td>\n",
       "      <td>...</td>\n",
       "    </tr>\n",
       "    <tr>\n",
       "      <th>602982</th>\n",
       "      <td>602982</td>\n",
       "      <td>3.9</td>\n",
       "      <td>464.0</td>\n",
       "      <td>50000</td>\n",
       "      <td>1</td>\n",
       "      <td>0</td>\n",
       "      <td>0</td>\n",
       "      <td>0</td>\n",
       "      <td>0</td>\n",
       "      <td>False</td>\n",
       "      <td>...</td>\n",
       "      <td>False</td>\n",
       "      <td>False</td>\n",
       "      <td>False</td>\n",
       "      <td>False</td>\n",
       "      <td>False</td>\n",
       "      <td>True</td>\n",
       "      <td>False</td>\n",
       "      <td>False</td>\n",
       "      <td>False</td>\n",
       "      <td>False</td>\n",
       "    </tr>\n",
       "    <tr>\n",
       "      <th>602983</th>\n",
       "      <td>602983</td>\n",
       "      <td>3.8</td>\n",
       "      <td>441.0</td>\n",
       "      <td>50000</td>\n",
       "      <td>1</td>\n",
       "      <td>0</td>\n",
       "      <td>0</td>\n",
       "      <td>0</td>\n",
       "      <td>0</td>\n",
       "      <td>False</td>\n",
       "      <td>...</td>\n",
       "      <td>False</td>\n",
       "      <td>False</td>\n",
       "      <td>False</td>\n",
       "      <td>False</td>\n",
       "      <td>False</td>\n",
       "      <td>True</td>\n",
       "      <td>False</td>\n",
       "      <td>False</td>\n",
       "      <td>False</td>\n",
       "      <td>False</td>\n",
       "    </tr>\n",
       "    <tr>\n",
       "      <th>602985</th>\n",
       "      <td>602985</td>\n",
       "      <td>4.3</td>\n",
       "      <td>27.0</td>\n",
       "      <td>5000</td>\n",
       "      <td>1</td>\n",
       "      <td>0</td>\n",
       "      <td>0</td>\n",
       "      <td>0</td>\n",
       "      <td>0</td>\n",
       "      <td>False</td>\n",
       "      <td>...</td>\n",
       "      <td>False</td>\n",
       "      <td>False</td>\n",
       "      <td>False</td>\n",
       "      <td>False</td>\n",
       "      <td>False</td>\n",
       "      <td>True</td>\n",
       "      <td>False</td>\n",
       "      <td>False</td>\n",
       "      <td>False</td>\n",
       "      <td>False</td>\n",
       "    </tr>\n",
       "    <tr>\n",
       "      <th>603005</th>\n",
       "      <td>603005</td>\n",
       "      <td>4.1</td>\n",
       "      <td>12464.0</td>\n",
       "      <td>1000000</td>\n",
       "      <td>1</td>\n",
       "      <td>1</td>\n",
       "      <td>0</td>\n",
       "      <td>0</td>\n",
       "      <td>1</td>\n",
       "      <td>False</td>\n",
       "      <td>...</td>\n",
       "      <td>False</td>\n",
       "      <td>False</td>\n",
       "      <td>False</td>\n",
       "      <td>False</td>\n",
       "      <td>False</td>\n",
       "      <td>True</td>\n",
       "      <td>False</td>\n",
       "      <td>False</td>\n",
       "      <td>False</td>\n",
       "      <td>False</td>\n",
       "    </tr>\n",
       "    <tr>\n",
       "      <th>603006</th>\n",
       "      <td>603006</td>\n",
       "      <td>3.6</td>\n",
       "      <td>1230.0</td>\n",
       "      <td>100000</td>\n",
       "      <td>1</td>\n",
       "      <td>1</td>\n",
       "      <td>0</td>\n",
       "      <td>0</td>\n",
       "      <td>1</td>\n",
       "      <td>False</td>\n",
       "      <td>...</td>\n",
       "      <td>False</td>\n",
       "      <td>True</td>\n",
       "      <td>False</td>\n",
       "      <td>False</td>\n",
       "      <td>False</td>\n",
       "      <td>True</td>\n",
       "      <td>False</td>\n",
       "      <td>False</td>\n",
       "      <td>False</td>\n",
       "      <td>False</td>\n",
       "    </tr>\n",
       "  </tbody>\n",
       "</table>\n",
       "<p>357111 rows × 63 columns</p>\n",
       "</div>"
      ],
      "text/plain": [
       "        Unnamed: 0  Rating  Rating Count  Installs  Free  Ad Supported  \\\n",
       "0                0     4.4     1258493.0  10000000     1             0   \n",
       "1                1     4.4     1360172.0  10000000     1             1   \n",
       "2                2     4.2        5532.0    500000     1             0   \n",
       "3                3     4.7        2531.0     10000     0             0   \n",
       "4                4     4.4      197649.0   5000000     1             1   \n",
       "...            ...     ...           ...       ...   ...           ...   \n",
       "602982      602982     3.9         464.0     50000     1             0   \n",
       "602983      602983     3.8         441.0     50000     1             0   \n",
       "602985      602985     4.3          27.0      5000     1             0   \n",
       "603005      603005     4.1       12464.0   1000000     1             1   \n",
       "603006      603006     3.6        1230.0    100000     1             1   \n",
       "\n",
       "        In App Purchases  Editors Choice  2020 Updated  Category_Action  ...  \\\n",
       "0                      0               0             1            False  ...   \n",
       "1                      0               0             1            False  ...   \n",
       "2                      0               0             1            False  ...   \n",
       "3                      0               0             1            False  ...   \n",
       "4                      0               0             1            False  ...   \n",
       "...                  ...             ...           ...              ...  ...   \n",
       "602982                 0               0             0            False  ...   \n",
       "602983                 0               0             0            False  ...   \n",
       "602985                 0               0             0            False  ...   \n",
       "603005                 0               0             1            False  ...   \n",
       "603006                 0               0             1            False  ...   \n",
       "\n",
       "        Category_Trivia  Category_Video Players & Editors  Category_Weather  \\\n",
       "0                 False                             False             False   \n",
       "1                 False                             False             False   \n",
       "2                 False                             False             False   \n",
       "3                 False                             False             False   \n",
       "4                 False                             False             False   \n",
       "...                 ...                               ...               ...   \n",
       "602982            False                             False             False   \n",
       "602983            False                             False             False   \n",
       "602985            False                             False             False   \n",
       "603005            False                             False             False   \n",
       "603006            False                              True             False   \n",
       "\n",
       "        Category_Word  Content Rating_Adults only 18+  \\\n",
       "0               False                           False   \n",
       "1               False                           False   \n",
       "2               False                           False   \n",
       "3               False                           False   \n",
       "4               False                           False   \n",
       "...               ...                             ...   \n",
       "602982          False                           False   \n",
       "602983          False                           False   \n",
       "602985          False                           False   \n",
       "603005          False                           False   \n",
       "603006          False                           False   \n",
       "\n",
       "        Content Rating_Everyone  Content Rating_Everyone 10+  \\\n",
       "0                          True                        False   \n",
       "1                          True                        False   \n",
       "2                          True                        False   \n",
       "3                          True                        False   \n",
       "4                         False                        False   \n",
       "...                         ...                          ...   \n",
       "602982                     True                        False   \n",
       "602983                     True                        False   \n",
       "602985                     True                        False   \n",
       "603005                     True                        False   \n",
       "603006                     True                        False   \n",
       "\n",
       "        Content Rating_Mature 17+  Content Rating_Teen  Content Rating_Unrated  \n",
       "0                           False                False                   False  \n",
       "1                           False                False                   False  \n",
       "2                           False                False                   False  \n",
       "3                           False                False                   False  \n",
       "4                            True                False                   False  \n",
       "...                           ...                  ...                     ...  \n",
       "602982                      False                False                   False  \n",
       "602983                      False                False                   False  \n",
       "602985                      False                False                   False  \n",
       "603005                      False                False                   False  \n",
       "603006                      False                False                   False  \n",
       "\n",
       "[357111 rows x 63 columns]"
      ]
     },
     "execution_count": 35,
     "metadata": {},
     "output_type": "execute_result"
    }
   ],
   "source": [
    "df_onehot = pd.get_dummies(\n",
    "    df_clean,\n",
    "    prefix=['Category', 'Content Rating'],\n",
    "    columns=['Category', 'Content Rating']\n",
    ")\n",
    "\n",
    "df_onehot"
   ]
  },
  {
   "cell_type": "markdown",
   "metadata": {},
   "source": [
    "`get_dummies()` 함수를 적용한 이후에 기존 `Category`와 `Content Rating` 변수가 사라졌는지 확인합니다."
   ]
  },
  {
   "cell_type": "code",
   "execution_count": 36,
   "metadata": {
    "colab": {
     "base_uri": "https://localhost:8080/"
    },
    "executionInfo": {
     "elapsed": 425819,
     "status": "ok",
     "timestamp": 1606459829137,
     "user": {
      "displayName": "‍안상현[학생](경영대학 경영학과)",
      "photoUrl": "",
      "userId": "15732604784560776108"
     },
     "user_tz": -540
    },
    "id": "yYEDfvT2qZuh",
    "outputId": "88e79107-17cc-48d0-cccd-86260846042f"
   },
   "outputs": [
    {
     "name": "stdout",
     "output_type": "stream",
     "text": [
      "'Category' 이름의 변수는 존재하지 않습니다.\n",
      "'Content Rating' 이름의 변수는 존재하지 않습니다.\n"
     ]
    }
   ],
   "source": [
    "if 'Category' not in df_onehot.columns:\n",
    "    print(\"'Category' 이름의 변수는 존재하지 않습니다.\")\n",
    "\n",
    "if 'Content Rating' not in df_onehot.columns:\n",
    "    print(\"'Content Rating' 이름의 변수는 존재하지 않습니다.\")"
   ]
  },
  {
   "cell_type": "markdown",
   "metadata": {
    "id": "eLSxkEZCqZuh"
   },
   "source": [
    "### 4.2. 학습, 테스트 데이터 분리"
   ]
  },
  {
   "cell_type": "markdown",
   "metadata": {},
   "source": [
    "학습 데이터와 테스트 데이터를 분리하기에 앞서 먼저 모델의 입력 데이터(X)와 출력 데이터(y)를 정의해야 합니다.\n",
    "\n",
    "이번 실습에서는 평점(`Rating`)을 예측하는 회귀 모델을 만드는 것이 목표이기 때문에 X에서는 `Rating`을 제거하고, y는 `Rating` 변수의 값만 가지도록 만들겠습니다."
   ]
  },
  {
   "cell_type": "code",
   "execution_count": 37,
   "metadata": {},
   "outputs": [
    {
     "data": {
      "text/html": [
       "<div>\n",
       "<style scoped>\n",
       "    .dataframe tbody tr th:only-of-type {\n",
       "        vertical-align: middle;\n",
       "    }\n",
       "\n",
       "    .dataframe tbody tr th {\n",
       "        vertical-align: top;\n",
       "    }\n",
       "\n",
       "    .dataframe thead th {\n",
       "        text-align: right;\n",
       "    }\n",
       "</style>\n",
       "<table border=\"1\" class=\"dataframe\">\n",
       "  <thead>\n",
       "    <tr style=\"text-align: right;\">\n",
       "      <th></th>\n",
       "      <th>Unnamed: 0</th>\n",
       "      <th>Rating Count</th>\n",
       "      <th>Installs</th>\n",
       "      <th>Free</th>\n",
       "      <th>Ad Supported</th>\n",
       "      <th>In App Purchases</th>\n",
       "      <th>Editors Choice</th>\n",
       "      <th>2020 Updated</th>\n",
       "      <th>Category_Action</th>\n",
       "      <th>Category_Adventure</th>\n",
       "      <th>...</th>\n",
       "      <th>Category_Trivia</th>\n",
       "      <th>Category_Video Players &amp; Editors</th>\n",
       "      <th>Category_Weather</th>\n",
       "      <th>Category_Word</th>\n",
       "      <th>Content Rating_Adults only 18+</th>\n",
       "      <th>Content Rating_Everyone</th>\n",
       "      <th>Content Rating_Everyone 10+</th>\n",
       "      <th>Content Rating_Mature 17+</th>\n",
       "      <th>Content Rating_Teen</th>\n",
       "      <th>Content Rating_Unrated</th>\n",
       "    </tr>\n",
       "  </thead>\n",
       "  <tbody>\n",
       "    <tr>\n",
       "      <th>0</th>\n",
       "      <td>0</td>\n",
       "      <td>1258493.0</td>\n",
       "      <td>10000000</td>\n",
       "      <td>1</td>\n",
       "      <td>0</td>\n",
       "      <td>0</td>\n",
       "      <td>0</td>\n",
       "      <td>1</td>\n",
       "      <td>False</td>\n",
       "      <td>False</td>\n",
       "      <td>...</td>\n",
       "      <td>False</td>\n",
       "      <td>False</td>\n",
       "      <td>False</td>\n",
       "      <td>False</td>\n",
       "      <td>False</td>\n",
       "      <td>True</td>\n",
       "      <td>False</td>\n",
       "      <td>False</td>\n",
       "      <td>False</td>\n",
       "      <td>False</td>\n",
       "    </tr>\n",
       "    <tr>\n",
       "      <th>1</th>\n",
       "      <td>1</td>\n",
       "      <td>1360172.0</td>\n",
       "      <td>10000000</td>\n",
       "      <td>1</td>\n",
       "      <td>1</td>\n",
       "      <td>0</td>\n",
       "      <td>0</td>\n",
       "      <td>1</td>\n",
       "      <td>False</td>\n",
       "      <td>False</td>\n",
       "      <td>...</td>\n",
       "      <td>False</td>\n",
       "      <td>False</td>\n",
       "      <td>False</td>\n",
       "      <td>False</td>\n",
       "      <td>False</td>\n",
       "      <td>True</td>\n",
       "      <td>False</td>\n",
       "      <td>False</td>\n",
       "      <td>False</td>\n",
       "      <td>False</td>\n",
       "    </tr>\n",
       "    <tr>\n",
       "      <th>2</th>\n",
       "      <td>2</td>\n",
       "      <td>5532.0</td>\n",
       "      <td>500000</td>\n",
       "      <td>1</td>\n",
       "      <td>0</td>\n",
       "      <td>0</td>\n",
       "      <td>0</td>\n",
       "      <td>1</td>\n",
       "      <td>False</td>\n",
       "      <td>False</td>\n",
       "      <td>...</td>\n",
       "      <td>False</td>\n",
       "      <td>False</td>\n",
       "      <td>False</td>\n",
       "      <td>False</td>\n",
       "      <td>False</td>\n",
       "      <td>True</td>\n",
       "      <td>False</td>\n",
       "      <td>False</td>\n",
       "      <td>False</td>\n",
       "      <td>False</td>\n",
       "    </tr>\n",
       "    <tr>\n",
       "      <th>3</th>\n",
       "      <td>3</td>\n",
       "      <td>2531.0</td>\n",
       "      <td>10000</td>\n",
       "      <td>0</td>\n",
       "      <td>0</td>\n",
       "      <td>0</td>\n",
       "      <td>0</td>\n",
       "      <td>1</td>\n",
       "      <td>False</td>\n",
       "      <td>False</td>\n",
       "      <td>...</td>\n",
       "      <td>False</td>\n",
       "      <td>False</td>\n",
       "      <td>False</td>\n",
       "      <td>False</td>\n",
       "      <td>False</td>\n",
       "      <td>True</td>\n",
       "      <td>False</td>\n",
       "      <td>False</td>\n",
       "      <td>False</td>\n",
       "      <td>False</td>\n",
       "    </tr>\n",
       "    <tr>\n",
       "      <th>4</th>\n",
       "      <td>4</td>\n",
       "      <td>197649.0</td>\n",
       "      <td>5000000</td>\n",
       "      <td>1</td>\n",
       "      <td>1</td>\n",
       "      <td>0</td>\n",
       "      <td>0</td>\n",
       "      <td>1</td>\n",
       "      <td>False</td>\n",
       "      <td>False</td>\n",
       "      <td>...</td>\n",
       "      <td>False</td>\n",
       "      <td>False</td>\n",
       "      <td>False</td>\n",
       "      <td>False</td>\n",
       "      <td>False</td>\n",
       "      <td>False</td>\n",
       "      <td>False</td>\n",
       "      <td>True</td>\n",
       "      <td>False</td>\n",
       "      <td>False</td>\n",
       "    </tr>\n",
       "    <tr>\n",
       "      <th>...</th>\n",
       "      <td>...</td>\n",
       "      <td>...</td>\n",
       "      <td>...</td>\n",
       "      <td>...</td>\n",
       "      <td>...</td>\n",
       "      <td>...</td>\n",
       "      <td>...</td>\n",
       "      <td>...</td>\n",
       "      <td>...</td>\n",
       "      <td>...</td>\n",
       "      <td>...</td>\n",
       "      <td>...</td>\n",
       "      <td>...</td>\n",
       "      <td>...</td>\n",
       "      <td>...</td>\n",
       "      <td>...</td>\n",
       "      <td>...</td>\n",
       "      <td>...</td>\n",
       "      <td>...</td>\n",
       "      <td>...</td>\n",
       "      <td>...</td>\n",
       "    </tr>\n",
       "    <tr>\n",
       "      <th>602982</th>\n",
       "      <td>602982</td>\n",
       "      <td>464.0</td>\n",
       "      <td>50000</td>\n",
       "      <td>1</td>\n",
       "      <td>0</td>\n",
       "      <td>0</td>\n",
       "      <td>0</td>\n",
       "      <td>0</td>\n",
       "      <td>False</td>\n",
       "      <td>False</td>\n",
       "      <td>...</td>\n",
       "      <td>False</td>\n",
       "      <td>False</td>\n",
       "      <td>False</td>\n",
       "      <td>False</td>\n",
       "      <td>False</td>\n",
       "      <td>True</td>\n",
       "      <td>False</td>\n",
       "      <td>False</td>\n",
       "      <td>False</td>\n",
       "      <td>False</td>\n",
       "    </tr>\n",
       "    <tr>\n",
       "      <th>602983</th>\n",
       "      <td>602983</td>\n",
       "      <td>441.0</td>\n",
       "      <td>50000</td>\n",
       "      <td>1</td>\n",
       "      <td>0</td>\n",
       "      <td>0</td>\n",
       "      <td>0</td>\n",
       "      <td>0</td>\n",
       "      <td>False</td>\n",
       "      <td>False</td>\n",
       "      <td>...</td>\n",
       "      <td>False</td>\n",
       "      <td>False</td>\n",
       "      <td>False</td>\n",
       "      <td>False</td>\n",
       "      <td>False</td>\n",
       "      <td>True</td>\n",
       "      <td>False</td>\n",
       "      <td>False</td>\n",
       "      <td>False</td>\n",
       "      <td>False</td>\n",
       "    </tr>\n",
       "    <tr>\n",
       "      <th>602985</th>\n",
       "      <td>602985</td>\n",
       "      <td>27.0</td>\n",
       "      <td>5000</td>\n",
       "      <td>1</td>\n",
       "      <td>0</td>\n",
       "      <td>0</td>\n",
       "      <td>0</td>\n",
       "      <td>0</td>\n",
       "      <td>False</td>\n",
       "      <td>False</td>\n",
       "      <td>...</td>\n",
       "      <td>False</td>\n",
       "      <td>False</td>\n",
       "      <td>False</td>\n",
       "      <td>False</td>\n",
       "      <td>False</td>\n",
       "      <td>True</td>\n",
       "      <td>False</td>\n",
       "      <td>False</td>\n",
       "      <td>False</td>\n",
       "      <td>False</td>\n",
       "    </tr>\n",
       "    <tr>\n",
       "      <th>603005</th>\n",
       "      <td>603005</td>\n",
       "      <td>12464.0</td>\n",
       "      <td>1000000</td>\n",
       "      <td>1</td>\n",
       "      <td>1</td>\n",
       "      <td>0</td>\n",
       "      <td>0</td>\n",
       "      <td>1</td>\n",
       "      <td>False</td>\n",
       "      <td>False</td>\n",
       "      <td>...</td>\n",
       "      <td>False</td>\n",
       "      <td>False</td>\n",
       "      <td>False</td>\n",
       "      <td>False</td>\n",
       "      <td>False</td>\n",
       "      <td>True</td>\n",
       "      <td>False</td>\n",
       "      <td>False</td>\n",
       "      <td>False</td>\n",
       "      <td>False</td>\n",
       "    </tr>\n",
       "    <tr>\n",
       "      <th>603006</th>\n",
       "      <td>603006</td>\n",
       "      <td>1230.0</td>\n",
       "      <td>100000</td>\n",
       "      <td>1</td>\n",
       "      <td>1</td>\n",
       "      <td>0</td>\n",
       "      <td>0</td>\n",
       "      <td>1</td>\n",
       "      <td>False</td>\n",
       "      <td>False</td>\n",
       "      <td>...</td>\n",
       "      <td>False</td>\n",
       "      <td>True</td>\n",
       "      <td>False</td>\n",
       "      <td>False</td>\n",
       "      <td>False</td>\n",
       "      <td>True</td>\n",
       "      <td>False</td>\n",
       "      <td>False</td>\n",
       "      <td>False</td>\n",
       "      <td>False</td>\n",
       "    </tr>\n",
       "  </tbody>\n",
       "</table>\n",
       "<p>357111 rows × 62 columns</p>\n",
       "</div>"
      ],
      "text/plain": [
       "        Unnamed: 0  Rating Count  Installs  Free  Ad Supported  \\\n",
       "0                0     1258493.0  10000000     1             0   \n",
       "1                1     1360172.0  10000000     1             1   \n",
       "2                2        5532.0    500000     1             0   \n",
       "3                3        2531.0     10000     0             0   \n",
       "4                4      197649.0   5000000     1             1   \n",
       "...            ...           ...       ...   ...           ...   \n",
       "602982      602982         464.0     50000     1             0   \n",
       "602983      602983         441.0     50000     1             0   \n",
       "602985      602985          27.0      5000     1             0   \n",
       "603005      603005       12464.0   1000000     1             1   \n",
       "603006      603006        1230.0    100000     1             1   \n",
       "\n",
       "        In App Purchases  Editors Choice  2020 Updated  Category_Action  \\\n",
       "0                      0               0             1            False   \n",
       "1                      0               0             1            False   \n",
       "2                      0               0             1            False   \n",
       "3                      0               0             1            False   \n",
       "4                      0               0             1            False   \n",
       "...                  ...             ...           ...              ...   \n",
       "602982                 0               0             0            False   \n",
       "602983                 0               0             0            False   \n",
       "602985                 0               0             0            False   \n",
       "603005                 0               0             1            False   \n",
       "603006                 0               0             1            False   \n",
       "\n",
       "        Category_Adventure  ...  Category_Trivia  \\\n",
       "0                    False  ...            False   \n",
       "1                    False  ...            False   \n",
       "2                    False  ...            False   \n",
       "3                    False  ...            False   \n",
       "4                    False  ...            False   \n",
       "...                    ...  ...              ...   \n",
       "602982               False  ...            False   \n",
       "602983               False  ...            False   \n",
       "602985               False  ...            False   \n",
       "603005               False  ...            False   \n",
       "603006               False  ...            False   \n",
       "\n",
       "        Category_Video Players & Editors  Category_Weather  Category_Word  \\\n",
       "0                                  False             False          False   \n",
       "1                                  False             False          False   \n",
       "2                                  False             False          False   \n",
       "3                                  False             False          False   \n",
       "4                                  False             False          False   \n",
       "...                                  ...               ...            ...   \n",
       "602982                             False             False          False   \n",
       "602983                             False             False          False   \n",
       "602985                             False             False          False   \n",
       "603005                             False             False          False   \n",
       "603006                              True             False          False   \n",
       "\n",
       "        Content Rating_Adults only 18+  Content Rating_Everyone  \\\n",
       "0                                False                     True   \n",
       "1                                False                     True   \n",
       "2                                False                     True   \n",
       "3                                False                     True   \n",
       "4                                False                    False   \n",
       "...                                ...                      ...   \n",
       "602982                           False                     True   \n",
       "602983                           False                     True   \n",
       "602985                           False                     True   \n",
       "603005                           False                     True   \n",
       "603006                           False                     True   \n",
       "\n",
       "        Content Rating_Everyone 10+  Content Rating_Mature 17+  \\\n",
       "0                             False                      False   \n",
       "1                             False                      False   \n",
       "2                             False                      False   \n",
       "3                             False                      False   \n",
       "4                             False                       True   \n",
       "...                             ...                        ...   \n",
       "602982                        False                      False   \n",
       "602983                        False                      False   \n",
       "602985                        False                      False   \n",
       "603005                        False                      False   \n",
       "603006                        False                      False   \n",
       "\n",
       "        Content Rating_Teen  Content Rating_Unrated  \n",
       "0                     False                   False  \n",
       "1                     False                   False  \n",
       "2                     False                   False  \n",
       "3                     False                   False  \n",
       "4                     False                   False  \n",
       "...                     ...                     ...  \n",
       "602982                False                   False  \n",
       "602983                False                   False  \n",
       "602985                False                   False  \n",
       "603005                False                   False  \n",
       "603006                False                   False  \n",
       "\n",
       "[357111 rows x 62 columns]"
      ]
     },
     "execution_count": 37,
     "metadata": {},
     "output_type": "execute_result"
    }
   ],
   "source": [
    "# 먼저 one-hot encoding이 완료된 데이터에서 입력값을 만듭니다.\n",
    "X = df_onehot.drop(\"Rating\", axis=1)\n",
    "X"
   ]
  },
  {
   "cell_type": "code",
   "execution_count": 38,
   "metadata": {},
   "outputs": [
    {
     "data": {
      "text/plain": [
       "0         4.4\n",
       "1         4.4\n",
       "2         4.2\n",
       "3         4.7\n",
       "4         4.4\n",
       "         ... \n",
       "602982    3.9\n",
       "602983    3.8\n",
       "602985    4.3\n",
       "603005    4.1\n",
       "603006    3.6\n",
       "Name: Rating, Length: 357111, dtype: float64"
      ]
     },
     "execution_count": 38,
     "metadata": {},
     "output_type": "execute_result"
    }
   ],
   "source": [
    "# 예측해야 할 변수 `Rating`만 출력값으로 만듭니다.\n",
    "y = df_onehot['Rating']\n",
    "y"
   ]
  },
  {
   "cell_type": "markdown",
   "metadata": {},
   "source": [
    "이제 학습 데이터와 테스트 데이터를 분리해야 합니다. 그 이유는 다음과 같습니다.\n",
    "\n",
    "머신러닝 모델의 학습 목적은 다양하게 있겠지만 본질적으로는 데이터를 보고 사람이 판단하던 것을 기계로 자동화하는 것입니다. 따라서 **계속 새로운 데이터가 생성되는 환경**에서 가령 분류 작업 같은 것을 지속적으로 진행하는 경우에 이 작업을 머신러닝 모델로 대체한다면 바람직할 것입니다.\n",
    "\n",
    "여기서 핵심은 머신러닝 모델이 **미래에 생성될 새로운 데이터**에서도 작업을 원활히 수행해야 한다는 부분입니다. 따라서 머신러닝 모델을 학습하는 과정에서 **가지고 있는 데이터셋 중 이 새로운 데이터를 모방**할 방법이 필요합니다.\n",
    "\n",
    "그럼 여기서 의문을 가질 수도 있습니다. 그런 거 모방 안하고 그냥 **가지고 있는 데이터셋 전부 그냥 학습에 사용해도 괜찮은 것 아닐까요?**\n",
    "\n",
    "그럴 경우 모델이 학습에 사용한 데이터에만 성능이 좋고 **새로운 데이터에는 일을 전혀 제대로 못하는 상황**이 생길 수 있습니다. 이를 바로 **과적합(Overfitting)** 이라 부릅니다.\n",
    "\n",
    "따라서 가지고 있는 데이터셋을 학습에 사용할 **학습 데이터(Train)** 와 새로운 데이터로 가정할 **테스트 데이터(Test)** 로 분리하는 과정을 항상 거쳐야 합니다. 데이터셋에 따라선 이 두가지가 분리된 채로 제공되는 경우도 많지만 이 실습의 경우 데이터셋이 하나로 제공되었으므로 분리해야 합니다."
   ]
  },
  {
   "cell_type": "code",
   "execution_count": 39,
   "metadata": {
    "id": "2QWO95HdqZuh"
   },
   "outputs": [],
   "source": [
    "# sklearn에서 제공하는 train_test_split을 사용하여 손쉽게 분리할 수 있습니다.\n",
    "# 테스트 데이터를 전체의 30% 비율로 설정하여 나누겠습니다.\n",
    "X_train, X_test, y_train, y_test = train_test_split(X, y, test_size=0.3, random_state=2022)"
   ]
  },
  {
   "cell_type": "markdown",
   "metadata": {
    "id": "q3-vJpvYqZuh"
   },
   "source": [
    "### 4.3. 정규화 (Normalization)"
   ]
  },
  {
   "cell_type": "markdown",
   "metadata": {
    "id": "N2ls8LFJ33xE"
   },
   "source": [
    "다음으로 흔히 수행하는 전처리에는 정규화(Normalization)가 있습니다. 정규화는 **입력 데이터**에만 적용하며, 정규화를 수행하는 이유는 **변수 별로 값의 크기 범위가 달라서 모델 학습에 편향이 생길 수 있는 문제를 방지**하는 것에 있습니다.\n",
    "\n",
    "가령 A 변수는 값의 범위가 0 ~ 10 사이이고, B 변수는 100 ~ 100,000 사이라면 B 변수가 모델 학습에 대부분의 영향을 미칠 것입니다.\n",
    "\n",
    "따라서 변수 별로 값의 범위가 다른 것을 일정한 범위 내로 일치시켜 주기 위해 사용하는 것이 바로 정규화라고 할 수 있습니다.\n",
    "\n",
    "여담으로 **출력 데이터**에는 적용하지 않는 이유는 예측하는 값 그 자체를 모델로부터 얻는 것이 목적이기 때문입니다. 본 실습도 평점 그 자체를 보면 직관적이지만, 정규화된 값은 그렇지 않을 것입니다. 사실 아주 특수한 경우라면 출력 데이터에도 정규화를 적용하는 경우가 있을 수는 있지만, 일반적으로는 거의 수행하지 않는다고 보셔도 무방합니다.\n",
    "\n",
    "정규화에는 크게 두가지 기법이 존재합니다.\n",
    "1. **Min-Max Normalization**\n",
    "    - 최소-최대 정규화라고 하며 각 변수의 최소값과 최대값을 이용하여 값의 범위를 조정하는 것입니다.\n",
    "    - 아래 수식을 통해 모든 변수의 값의 범위가 **0에서 1 사이**로 바뀌게 됩니다.\n",
    "        - $X = \\{X_1, X_2, ..., X_n\\}$ 를 의미하며, $X$ 전체가 변수 하나라고 보시면 됩니다. 즉 $X_{i}$는 변수 $X$의 i번째 row의 값입니다.\n",
    "$$ X_{i, \\text{norm}} = \\frac{X_i - \\min{(X)}}{\\max{(X)} - \\min{(X)}}, (1 \\leq i \\leq n) $$\n",
    "\n",
    "2. **Standardization**\n",
    "    - 표준화라고 하며 각 변수의 값의 분포를 평균은 0이고, 표준편차는 1이 되게 조정하는 것입니다.\n",
    "    - 아래 수식을 통해 값의 범위를 바꿉니다. 표준 정규분포처럼 만들기 때문에 값의 범위에는 상한과 하한이 없습니다.\n",
    "        - $X = \\{X_1, X_2, ..., X_n\\}$ 를 의미하며, $X$ 전체가 변수 하나라고 보시면 됩니다. 즉 $X_{i}$는 변수 $X$의 i번째 row의 값입니다.\n",
    "$$ X_{i, \\text{norm}} = \\frac{X_i - \\mu}{\\sigma}, (1 \\leq i \\leq n) $$\n",
    "$$ \\text{where } \\mu = \\frac{1}{n} \\sum_{i=1}^{n}X_i,\\ \\sigma^2 = \\frac{1}{n} \\sum_{i=1}^{n}(X_i - \\mu)^2 $$\n",
    "\n",
    "이렇게 보면 복잡해보이기도 하지만 이미 `scikit-learn`에는 이를 코드 몇줄로 수행할 수 있게끔 API가 마련되어 있습니다.\n",
    "\n",
    "본 실습에서는 표준화를 사용하여 정규화를 수행하도록 하겠습니다."
   ]
  },
  {
   "cell_type": "code",
   "execution_count": 40,
   "metadata": {
    "id": "tF7ZZtPxqZuh"
   },
   "outputs": [],
   "source": [
    "# 표준화를 위한 StadardScaler 객체 생성\n",
    "scaler = StandardScaler()\n",
    "\n",
    "# X_train로 scaler를 학습한 후 적용\n",
    "X_train = scaler.fit_transform(X_train)"
   ]
  },
  {
   "cell_type": "markdown",
   "metadata": {},
   "source": [
    "일단 학습 데이터의 입력값(`X_train`)에는 정규화를 적용했습니다. 그런데 테스트 데이터의 입력값(`X_test`)에는 어떻게 해야 할까요?\n",
    "\n",
    "앞서 보시면 `X_train`에는 `fit_transform`을 사용하여 scaler를 만들었습니다. 이 `fit_transform`은 scikit-learn에서 자주 쓰이는 메소드명으로 `fit`과 `transform` 과정을 하나로 합쳐준 것입니다.\n",
    "- `fit` : 보통 모델을 **학습**하는 용도로 사용하는 메소드명입니다. `StandardScaler`에서는 주어진 데이터에서 각 변수 별로 평균값($\\mu$)과 표준편차($\\sigma$) 값을 구합니다.\n",
    "- `transform` : `StandardScaler` 기준으로 `fit`에서 구한 평균과 표준편차로 주어진 데이터를 정규화합니다.\n",
    "\n",
    "즉, 앞서 `X_train`을 넣어서 `fit_transform`을 적용한 결과로 `scaler`에는 학습 데이터의 평균과 표준편차가 저장되어 있습니다.\n",
    "\n",
    "**그러면 테스트 데이터에도 똑같이 `fit_transform`을 적용해서 `scaler`에 새로운 평균과 표준편차를 저장해야 할까요?**\n",
    "\n",
    "결론부터 말하면 그러면 안됩니다. 이는 앞서 **테스트 데이터를 왜 나눴는지**를 상기해보면 쉽게 이해할 수 있습니다.\n",
    "\n",
    "테스트 데이터를 나눈 이유는 **미래에 생성될 미지의 데이터**를 모방하기 위함이었습니다. 그런데 미래에 생성될 데이터의 양도 모르고, 값도 모르는데 **어떻게 평균과 표준편차를 구할 수 있을까요?**\n",
    "\n",
    "즉 테스트 데이터에서 평균과 표준편차를 구할 수 있는 것처럼 보이는 건 단순히 모델을 학습하는 과정에서 가진 데이터셋을 나눴기 때문인 것입니다.\n",
    "\n",
    "따라서 테스트 데이터에는 앞서 학습 데이터에서 구한 평균과 표준편차를 이용해서 정규화를 수행해야 합니다. 즉 코드로 하면 `transform` 메소드만 적용해야 하는 것입니다."
   ]
  },
  {
   "cell_type": "code",
   "execution_count": 41,
   "metadata": {},
   "outputs": [],
   "source": [
    "# X_test에는 X_train으로 학습된 scaler를 적용만 함\n",
    "X_test = scaler.transform(X_test)"
   ]
  },
  {
   "cell_type": "markdown",
   "metadata": {},
   "source": [
    "이로써 본격적으로 모델 학습을 위한 사전 작업이 모두 완료되었습니다."
   ]
  },
  {
   "cell_type": "markdown",
   "metadata": {
    "id": "kg2kCdcBqZuh"
   },
   "source": [
    "## 5. 모델 학습 및 평가\n",
    "\n",
    "이제 본격적으로 모델 학습을 진행해보겠습니다.\n",
    "\n",
    "평점이라는 연속된 값을 예측하는 만큼 앞서도 언급했듯이 **회귀(Regression)** 모델을 사용할 것입니다.\n",
    "\n",
    "먼저 가장 기본적인 회귀 모델인 **선형 회귀(Linear Regression)** 모델을 적용해보겠습니다."
   ]
  },
  {
   "cell_type": "markdown",
   "metadata": {
    "id": "MerLaeGGqZui"
   },
   "source": [
    "### 5.1. 선형 회귀"
   ]
  },
  {
   "cell_type": "code",
   "execution_count": 42,
   "metadata": {
    "colab": {
     "base_uri": "https://localhost:8080/"
    },
    "executionInfo": {
     "elapsed": 426098,
     "status": "ok",
     "timestamp": 1606459829465,
     "user": {
      "displayName": "‍안상현[학생](경영대학 경영학과)",
      "photoUrl": "",
      "userId": "15732604784560776108"
     },
     "user_tz": -540
    },
    "id": "PaSsbuBmqZui",
    "outputId": "c6d71852-8e47-4f27-956c-3c9495ce7265"
   },
   "outputs": [
    {
     "data": {
      "text/html": [
       "<style>#sk-container-id-1 {color: black;}#sk-container-id-1 pre{padding: 0;}#sk-container-id-1 div.sk-toggleable {background-color: white;}#sk-container-id-1 label.sk-toggleable__label {cursor: pointer;display: block;width: 100%;margin-bottom: 0;padding: 0.3em;box-sizing: border-box;text-align: center;}#sk-container-id-1 label.sk-toggleable__label-arrow:before {content: \"▸\";float: left;margin-right: 0.25em;color: #696969;}#sk-container-id-1 label.sk-toggleable__label-arrow:hover:before {color: black;}#sk-container-id-1 div.sk-estimator:hover label.sk-toggleable__label-arrow:before {color: black;}#sk-container-id-1 div.sk-toggleable__content {max-height: 0;max-width: 0;overflow: hidden;text-align: left;background-color: #f0f8ff;}#sk-container-id-1 div.sk-toggleable__content pre {margin: 0.2em;color: black;border-radius: 0.25em;background-color: #f0f8ff;}#sk-container-id-1 input.sk-toggleable__control:checked~div.sk-toggleable__content {max-height: 200px;max-width: 100%;overflow: auto;}#sk-container-id-1 input.sk-toggleable__control:checked~label.sk-toggleable__label-arrow:before {content: \"▾\";}#sk-container-id-1 div.sk-estimator input.sk-toggleable__control:checked~label.sk-toggleable__label {background-color: #d4ebff;}#sk-container-id-1 div.sk-label input.sk-toggleable__control:checked~label.sk-toggleable__label {background-color: #d4ebff;}#sk-container-id-1 input.sk-hidden--visually {border: 0;clip: rect(1px 1px 1px 1px);clip: rect(1px, 1px, 1px, 1px);height: 1px;margin: -1px;overflow: hidden;padding: 0;position: absolute;width: 1px;}#sk-container-id-1 div.sk-estimator {font-family: monospace;background-color: #f0f8ff;border: 1px dotted black;border-radius: 0.25em;box-sizing: border-box;margin-bottom: 0.5em;}#sk-container-id-1 div.sk-estimator:hover {background-color: #d4ebff;}#sk-container-id-1 div.sk-parallel-item::after {content: \"\";width: 100%;border-bottom: 1px solid gray;flex-grow: 1;}#sk-container-id-1 div.sk-label:hover label.sk-toggleable__label {background-color: #d4ebff;}#sk-container-id-1 div.sk-serial::before {content: \"\";position: absolute;border-left: 1px solid gray;box-sizing: border-box;top: 0;bottom: 0;left: 50%;z-index: 0;}#sk-container-id-1 div.sk-serial {display: flex;flex-direction: column;align-items: center;background-color: white;padding-right: 0.2em;padding-left: 0.2em;position: relative;}#sk-container-id-1 div.sk-item {position: relative;z-index: 1;}#sk-container-id-1 div.sk-parallel {display: flex;align-items: stretch;justify-content: center;background-color: white;position: relative;}#sk-container-id-1 div.sk-item::before, #sk-container-id-1 div.sk-parallel-item::before {content: \"\";position: absolute;border-left: 1px solid gray;box-sizing: border-box;top: 0;bottom: 0;left: 50%;z-index: -1;}#sk-container-id-1 div.sk-parallel-item {display: flex;flex-direction: column;z-index: 1;position: relative;background-color: white;}#sk-container-id-1 div.sk-parallel-item:first-child::after {align-self: flex-end;width: 50%;}#sk-container-id-1 div.sk-parallel-item:last-child::after {align-self: flex-start;width: 50%;}#sk-container-id-1 div.sk-parallel-item:only-child::after {width: 0;}#sk-container-id-1 div.sk-dashed-wrapped {border: 1px dashed gray;margin: 0 0.4em 0.5em 0.4em;box-sizing: border-box;padding-bottom: 0.4em;background-color: white;}#sk-container-id-1 div.sk-label label {font-family: monospace;font-weight: bold;display: inline-block;line-height: 1.2em;}#sk-container-id-1 div.sk-label-container {text-align: center;}#sk-container-id-1 div.sk-container {/* jupyter's `normalize.less` sets `[hidden] { display: none; }` but bootstrap.min.css set `[hidden] { display: none !important; }` so we also need the `!important` here to be able to override the default hidden behavior on the sphinx rendered scikit-learn.org. See: https://github.com/scikit-learn/scikit-learn/issues/21755 */display: inline-block !important;position: relative;}#sk-container-id-1 div.sk-text-repr-fallback {display: none;}</style><div id=\"sk-container-id-1\" class=\"sk-top-container\"><div class=\"sk-text-repr-fallback\"><pre>LinearRegression()</pre><b>In a Jupyter environment, please rerun this cell to show the HTML representation or trust the notebook. <br />On GitHub, the HTML representation is unable to render, please try loading this page with nbviewer.org.</b></div><div class=\"sk-container\" hidden><div class=\"sk-item\"><div class=\"sk-estimator sk-toggleable\"><input class=\"sk-toggleable__control sk-hidden--visually\" id=\"sk-estimator-id-1\" type=\"checkbox\" checked><label for=\"sk-estimator-id-1\" class=\"sk-toggleable__label sk-toggleable__label-arrow\">LinearRegression</label><div class=\"sk-toggleable__content\"><pre>LinearRegression()</pre></div></div></div></div></div>"
      ],
      "text/plain": [
       "LinearRegression()"
      ]
     },
     "execution_count": 42,
     "metadata": {},
     "output_type": "execute_result"
    }
   ],
   "source": [
    "# 선형 회귀 모델을 불러옵니다.\n",
    "lr_model = LinearRegression()\n",
    "\n",
    "# fit 함수를 사용하여 학습을 수행합니다.\n",
    "lr_model.fit(X_train, y_train)"
   ]
  },
  {
   "cell_type": "markdown",
   "metadata": {
    "id": "wZB0Unf86ucK"
   },
   "source": [
    "다음으로 모델 학습이 잘 이루어졌는지 평가해야 합니다.\n",
    "\n",
    "회귀 모델을 평가하기 위한 지표로는 일반적으로 아래의 지표들을 사용합니다.\n",
    "\n",
    "- **Mean Squared Error(MSE)**: 실제값($y$)과 예측값($\\hat{y}$)의 차이인 오차(Error)의 제곱의 평균입니다.\n",
    "$$ \\text{MSE} = \\frac{1}{n}\\sum_{i=1}^{n}(y_i - \\hat{y_i})^2 $$\n",
    "- **Root Mean Squared Error(RMSE)**: MSE에 제곱근을 씌운 값입니다.\n",
    "$$ \\text{RMSE} = \\sqrt{\\text{MSE}} = \\sqrt{\\frac{1}{n}\\sum_{i=1}^{n}(y_i - \\hat{y_i})^2} $$\n",
    "- **Mean Absolute Error(MAE)**: 실제값($y$)과 예측값($\\hat{y}$)의 차이인 오차(Error)의 절대값의 평균입니다.\n",
    "$$ \\text{MAE} = \\frac{1}{n}\\sum_{i=1}^{n}|y_i - \\hat{y_i}| $$\n",
    "- **R-squared ($R^2$) score**: 다른 말로는 **결정 계수(Coefficient of determination)** 이라고도 부르는 값입니다. 이를 정의하기 위해선 두가지 값을 더 계산해야 합니다.\n",
    "    - Residual sum of squares: $ SS_{res} = \\sum_{i=1}^{n}(y_i-\\hat{y_i})^2 $\n",
    "    - Total sum of squares: $ SS_{tot} = \\sum_{i=1}^{n}(y_i - \\bar{y})^2 $, where $ \\bar{y} = \\frac{1}{n}\\sum_{i=1}^{n}y_i $\n",
    "    - $ R^2 = 1 - \\frac{SS_{res}}{SS_{tot}} $\n",
    "    - $R^2$ score는 모델이 완벽하게 예측했을 때 최대 1의 값을 가집니다. 대신 최저값은 0이 아닌 음수도 될 수 있기 때문에 따로 없습니다.\n",
    "\n",
    "$R^2$ score는 사실 정의만 봐서는 쉽게 와닿지 않을 수 있습니다. 모든 회귀 모델에서 사용할 수 있는 평가 지표이지만, 선형 회귀 모델에 한해서는 아래와 같은 그림을 통해 쉽게 이해할 수 있을 것입니다.\n",
    "\n",
    "<center><img src=\"img/r2_score.png\" width=500px></center>\n",
    "\n",
    "직선이 학습된 회귀 모델일 때 오른쪽이 $R^2$ score가 더 1에 가깝게 나옵니다. 즉 1에 가까울수록 데이터가 직선에 가깝게 분포된 것이라고도 할 수 있습니다.\n",
    "\n",
    "이러한 평가 지표들도 정의는 다소 복잡할 수 있지만, scikit-learn을 사용한다면 API 함수를 통해 한줄로 구할 수 있는 값들입니다.\n",
    "\n",
    "아래에서는 먼저 학습 데이터를 모델이 잘 학습했는지 위에서 언급한 평가지표들을 통해 확인해보겠습니다."
   ]
  },
  {
   "cell_type": "code",
   "execution_count": 43,
   "metadata": {},
   "outputs": [],
   "source": [
    "# 먼저 평가지표들을 한번에 확인할 수 있게끔 하는 함수를 만들겠습니다.\n",
    "def check_metrics(model, model_name, X_train, X_test, y_train, y_test):\n",
    "    y_pred_train = model.predict(X_train)\n",
    "    y_pred_test = model.predict(X_test)\n",
    "\n",
    "    mse_train = mean_squared_error(y_train, y_pred_train)\n",
    "    rmse_train = mean_squared_error(y_train, y_pred_train, squared=False) # squared=False 옵션을 주면 RMSE로 계산\n",
    "    mae_train = mean_absolute_error(y_train, y_pred_train)\n",
    "    r2_train = r2_score(y_train, y_pred_train)\n",
    "\n",
    "    mse_test = mean_squared_error(y_test, y_pred_test)\n",
    "    rmse_test = mean_squared_error(y_test, y_pred_test, squared=False)\n",
    "    mae_test = mean_absolute_error(y_test, y_pred_test)\n",
    "    r2_test = r2_score(y_test, y_pred_test)\n",
    "\n",
    "    print(f\"[{model_name} - Train] MSE      : {mse_train:.6f}\")\n",
    "    print(f\"[{model_name} - Train] RMSE     : {rmse_train:.6f}\")\n",
    "    print(f\"[{model_name} - Train] MAE      : {mae_train:.6f}\")\n",
    "    print(f\"[{model_name} - Train] R2 score : {r2_train:.6f}\")\n",
    "    print(\"=\" * 50)\n",
    "    print(f\"[{model_name} - Test ] MSE      : {mse_test:.6f}\")\n",
    "    print(f\"[{model_name} - Test ] RMSE     : {rmse_test:.6f}\")\n",
    "    print(f\"[{model_name} - Test ] MAE      : {mae_test:.6f}\")\n",
    "    print(f\"[{model_name} - Test ] R2 score : {r2_test:.6f}\")\n",
    "    "
   ]
  },
  {
   "cell_type": "code",
   "execution_count": 44,
   "metadata": {},
   "outputs": [
    {
     "name": "stdout",
     "output_type": "stream",
     "text": [
      "[Linear Regression - Train] MSE      : 0.304635\n",
      "[Linear Regression - Train] RMSE     : 0.551937\n",
      "[Linear Regression - Train] MAE      : 0.412626\n",
      "[Linear Regression - Train] R2 score : 0.093654\n",
      "==================================================\n",
      "[Linear Regression - Test ] MSE      : 0.306503\n",
      "[Linear Regression - Test ] RMSE     : 0.553627\n",
      "[Linear Regression - Test ] MAE      : 0.412511\n",
      "[Linear Regression - Test ] R2 score : 0.093802\n"
     ]
    }
   ],
   "source": [
    "# 선형 회귀 모델의 성능을 확인합니다.\n",
    "check_metrics(lr_model, \"Linear Regression\", X_train, X_test, y_train, y_test)"
   ]
  },
  {
   "cell_type": "markdown",
   "metadata": {},
   "source": [
    "학습 데이터와 테스트 데이터 모두 좋지 못한 결과가 나오고 있습니다.\n",
    "\n",
    "이 말은 즉, 선형 회귀 모델로는 본 실습의 데이터를 학습하기에 부족하다는 의미입니다.\n",
    "\n",
    "이제 좀 더 복잡한 모델을 통해 성능을 개선할 수 있는지 확인해보겠습니다."
   ]
  },
  {
   "cell_type": "markdown",
   "metadata": {},
   "source": [
    "### 5.2. Decision Tree 및 Random Forest\n",
    "\n",
    "다음으로 활용할 모델은 분류 모델로도 유명한 Decision Tree와 Random Forest입니다.\n",
    "\n",
    "이들은 분류 모델로 많이 사용하지만 회귀 모델로도 활용할 수 있습니다.\n",
    "\n",
    "Decision Tree를 활용한 회귀는 분류 모델일 때의 알고리즘이랑 거의 유사합니다. 분류 모델과 관련된 내용은 뒤에 나오는 수업에서 다루고 여기서는 회귀에 활용할 때의 특징만 확인해보겠습니다.\n",
    "\n",
    "Decision Tree라는 것은 기본적으로 스무고개를 구현한 것이라고 봐도 됩니다. 즉 여러 질문들이 있을 때 해당 질문의 답변에 따라 갈래가 나뉘어 최종적으로 원하는 결론에 도달하는 방식입니다.\n",
    "\n",
    "그래서 Decision Tree 모델 학습의 핵심은 주어진 데이터에서 **질문의 기준을 어떻게 정할 것인가?** 로 요약할 수 있습니다.\n",
    "\n",
    "<center><img src=\"./img/decision_tree_sample.png\" width=400px></center>"
   ]
  },
  {
   "cell_type": "markdown",
   "metadata": {},
   "source": [
    "그럼 질문의 기준은 어떻게 정하는 것일까요? 여기에는 이론적 배경이 많이 깔려있어서 자료가 굉장히 장황해질 수 있기 때문에 간단하게만 언급하고 넘어가겠습니다.\n",
    "\n",
    "일단은 Google Play Store 데이터에서 one-hot encoding을 아직 수행하기 전의 모습을 확인해보겠습니다. (one-hot encoding 이후의 것을 봐도 되지만, 변수 개수가 너무 많아져서 간결함을 위한 것이니 참고 바랍니다.)"
   ]
  },
  {
   "cell_type": "code",
   "execution_count": 45,
   "metadata": {},
   "outputs": [
    {
     "data": {
      "text/html": [
       "<div>\n",
       "<style scoped>\n",
       "    .dataframe tbody tr th:only-of-type {\n",
       "        vertical-align: middle;\n",
       "    }\n",
       "\n",
       "    .dataframe tbody tr th {\n",
       "        vertical-align: top;\n",
       "    }\n",
       "\n",
       "    .dataframe thead th {\n",
       "        text-align: right;\n",
       "    }\n",
       "</style>\n",
       "<table border=\"1\" class=\"dataframe\">\n",
       "  <thead>\n",
       "    <tr style=\"text-align: right;\">\n",
       "      <th></th>\n",
       "      <th>Unnamed: 0</th>\n",
       "      <th>Category</th>\n",
       "      <th>Rating</th>\n",
       "      <th>Rating Count</th>\n",
       "      <th>Installs</th>\n",
       "      <th>Free</th>\n",
       "      <th>Content Rating</th>\n",
       "      <th>Ad Supported</th>\n",
       "      <th>In App Purchases</th>\n",
       "      <th>Editors Choice</th>\n",
       "      <th>2020 Updated</th>\n",
       "    </tr>\n",
       "  </thead>\n",
       "  <tbody>\n",
       "    <tr>\n",
       "      <th>0</th>\n",
       "      <td>0</td>\n",
       "      <td>Food &amp; Drink</td>\n",
       "      <td>4.4</td>\n",
       "      <td>1258493.0</td>\n",
       "      <td>10000000</td>\n",
       "      <td>1</td>\n",
       "      <td>Everyone</td>\n",
       "      <td>0</td>\n",
       "      <td>0</td>\n",
       "      <td>0</td>\n",
       "      <td>1</td>\n",
       "    </tr>\n",
       "    <tr>\n",
       "      <th>1</th>\n",
       "      <td>1</td>\n",
       "      <td>Travel &amp; Local</td>\n",
       "      <td>4.4</td>\n",
       "      <td>1360172.0</td>\n",
       "      <td>10000000</td>\n",
       "      <td>1</td>\n",
       "      <td>Everyone</td>\n",
       "      <td>1</td>\n",
       "      <td>0</td>\n",
       "      <td>0</td>\n",
       "      <td>1</td>\n",
       "    </tr>\n",
       "    <tr>\n",
       "      <th>2</th>\n",
       "      <td>2</td>\n",
       "      <td>Shopping</td>\n",
       "      <td>4.2</td>\n",
       "      <td>5532.0</td>\n",
       "      <td>500000</td>\n",
       "      <td>1</td>\n",
       "      <td>Everyone</td>\n",
       "      <td>0</td>\n",
       "      <td>0</td>\n",
       "      <td>0</td>\n",
       "      <td>1</td>\n",
       "    </tr>\n",
       "    <tr>\n",
       "      <th>3</th>\n",
       "      <td>3</td>\n",
       "      <td>Food &amp; Drink</td>\n",
       "      <td>4.7</td>\n",
       "      <td>2531.0</td>\n",
       "      <td>10000</td>\n",
       "      <td>0</td>\n",
       "      <td>Everyone</td>\n",
       "      <td>0</td>\n",
       "      <td>0</td>\n",
       "      <td>0</td>\n",
       "      <td>1</td>\n",
       "    </tr>\n",
       "    <tr>\n",
       "      <th>4</th>\n",
       "      <td>4</td>\n",
       "      <td>Food &amp; Drink</td>\n",
       "      <td>4.4</td>\n",
       "      <td>197649.0</td>\n",
       "      <td>5000000</td>\n",
       "      <td>1</td>\n",
       "      <td>Mature 17+</td>\n",
       "      <td>1</td>\n",
       "      <td>0</td>\n",
       "      <td>0</td>\n",
       "      <td>1</td>\n",
       "    </tr>\n",
       "    <tr>\n",
       "      <th>...</th>\n",
       "      <td>...</td>\n",
       "      <td>...</td>\n",
       "      <td>...</td>\n",
       "      <td>...</td>\n",
       "      <td>...</td>\n",
       "      <td>...</td>\n",
       "      <td>...</td>\n",
       "      <td>...</td>\n",
       "      <td>...</td>\n",
       "      <td>...</td>\n",
       "      <td>...</td>\n",
       "    </tr>\n",
       "    <tr>\n",
       "      <th>602982</th>\n",
       "      <td>602982</td>\n",
       "      <td>Lifestyle</td>\n",
       "      <td>3.9</td>\n",
       "      <td>464.0</td>\n",
       "      <td>50000</td>\n",
       "      <td>1</td>\n",
       "      <td>Everyone</td>\n",
       "      <td>0</td>\n",
       "      <td>0</td>\n",
       "      <td>0</td>\n",
       "      <td>0</td>\n",
       "    </tr>\n",
       "    <tr>\n",
       "      <th>602983</th>\n",
       "      <td>602983</td>\n",
       "      <td>Travel &amp; Local</td>\n",
       "      <td>3.8</td>\n",
       "      <td>441.0</td>\n",
       "      <td>50000</td>\n",
       "      <td>1</td>\n",
       "      <td>Everyone</td>\n",
       "      <td>0</td>\n",
       "      <td>0</td>\n",
       "      <td>0</td>\n",
       "      <td>0</td>\n",
       "    </tr>\n",
       "    <tr>\n",
       "      <th>602985</th>\n",
       "      <td>602985</td>\n",
       "      <td>Communication</td>\n",
       "      <td>4.3</td>\n",
       "      <td>27.0</td>\n",
       "      <td>5000</td>\n",
       "      <td>1</td>\n",
       "      <td>Everyone</td>\n",
       "      <td>0</td>\n",
       "      <td>0</td>\n",
       "      <td>0</td>\n",
       "      <td>0</td>\n",
       "    </tr>\n",
       "    <tr>\n",
       "      <th>603005</th>\n",
       "      <td>603005</td>\n",
       "      <td>Entertainment</td>\n",
       "      <td>4.1</td>\n",
       "      <td>12464.0</td>\n",
       "      <td>1000000</td>\n",
       "      <td>1</td>\n",
       "      <td>Everyone</td>\n",
       "      <td>1</td>\n",
       "      <td>0</td>\n",
       "      <td>0</td>\n",
       "      <td>1</td>\n",
       "    </tr>\n",
       "    <tr>\n",
       "      <th>603006</th>\n",
       "      <td>603006</td>\n",
       "      <td>Video Players &amp; Editors</td>\n",
       "      <td>3.6</td>\n",
       "      <td>1230.0</td>\n",
       "      <td>100000</td>\n",
       "      <td>1</td>\n",
       "      <td>Everyone</td>\n",
       "      <td>1</td>\n",
       "      <td>0</td>\n",
       "      <td>0</td>\n",
       "      <td>1</td>\n",
       "    </tr>\n",
       "  </tbody>\n",
       "</table>\n",
       "<p>357111 rows × 11 columns</p>\n",
       "</div>"
      ],
      "text/plain": [
       "        Unnamed: 0                 Category  Rating  Rating Count  Installs  \\\n",
       "0                0             Food & Drink     4.4     1258493.0  10000000   \n",
       "1                1           Travel & Local     4.4     1360172.0  10000000   \n",
       "2                2                 Shopping     4.2        5532.0    500000   \n",
       "3                3             Food & Drink     4.7        2531.0     10000   \n",
       "4                4             Food & Drink     4.4      197649.0   5000000   \n",
       "...            ...                      ...     ...           ...       ...   \n",
       "602982      602982                Lifestyle     3.9         464.0     50000   \n",
       "602983      602983           Travel & Local     3.8         441.0     50000   \n",
       "602985      602985            Communication     4.3          27.0      5000   \n",
       "603005      603005            Entertainment     4.1       12464.0   1000000   \n",
       "603006      603006  Video Players & Editors     3.6        1230.0    100000   \n",
       "\n",
       "        Free Content Rating  Ad Supported  In App Purchases  Editors Choice  \\\n",
       "0          1       Everyone             0                 0               0   \n",
       "1          1       Everyone             1                 0               0   \n",
       "2          1       Everyone             0                 0               0   \n",
       "3          0       Everyone             0                 0               0   \n",
       "4          1     Mature 17+             1                 0               0   \n",
       "...      ...            ...           ...               ...             ...   \n",
       "602982     1       Everyone             0                 0               0   \n",
       "602983     1       Everyone             0                 0               0   \n",
       "602985     1       Everyone             0                 0               0   \n",
       "603005     1       Everyone             1                 0               0   \n",
       "603006     1       Everyone             1                 0               0   \n",
       "\n",
       "        2020 Updated  \n",
       "0                  1  \n",
       "1                  1  \n",
       "2                  1  \n",
       "3                  1  \n",
       "4                  1  \n",
       "...              ...  \n",
       "602982             0  \n",
       "602983             0  \n",
       "602985             0  \n",
       "603005             1  \n",
       "603006             1  \n",
       "\n",
       "[357111 rows x 11 columns]"
      ]
     },
     "execution_count": 45,
     "metadata": {},
     "output_type": "execute_result"
    }
   ],
   "source": [
    "df_clean"
   ]
  },
  {
   "cell_type": "markdown",
   "metadata": {},
   "source": [
    "이제 각 변수 별로 값의 범위를 일련의 알고리즘을 통해 나눈 다음에 **어떤 기준값**이 최소가 되도록 tree의 각 node를 나누게 됩니다.\n",
    "\n",
    "가령 `Rating Count`가 10,000을 넘는지의 여부에 따라 나눴다고 가정해 봅시다. 그럼 위의 예시에서 첫번째, 두번째 row랑 세번째, 네번째 row는 서로 다른 node로 분리될 것입니다.\n",
    "\n",
    "<center><img src=\"./img/decision_tree_rating_count.png\" width=400px></center>"
   ]
  },
  {
   "cell_type": "markdown",
   "metadata": {},
   "source": [
    "그럼 이렇게 나누었을 때 각 node에 들어가는 모든 예측 대상값 (여기서는 평점)의 표준편차를 구할 수 있습니다.\n",
    "\n",
    "바로 각 node의 표준편차 값이 최소가 되도록 나누는 것이 Decision Tree 기반 회귀 모델의 학습이라고 할 수 있습니다. 위의 예시에서는 임의로 나눴지만, 만약 다른 변수에서 각 node의 표준편차가 낮아지는 기준이 발견되면 해당 기준으로 바뀔 것입니다."
   ]
  },
  {
   "cell_type": "markdown",
   "metadata": {},
   "source": [
    "그럼 학습된 Decision Tree에서 예측값을 구할 때는 어떻게 할까요?\n",
    "\n",
    "모델이 학습이 되면 여러 계층의 tree에서 말단 node(leaf node)들이 생길 텐데, 해당 node에 배정된 평점 값들의 평균값들이 정해져있을 것입니다.\n",
    "\n",
    "<center><img src=\"./img/decision_tree_predict.png\" width=400px></center>"
   ]
  },
  {
   "cell_type": "markdown",
   "metadata": {},
   "source": [
    "그러면 예측을 위해 입력된 데이터가 나눠진 조건에 따라 tree를 타고 내려와 말단 node에 도착했을 때, 해당 node의 평균값을 예측값으로 사용하게 됩니다.\n",
    "\n",
    "따라서 decision tree를 통해 예측한 결과를 그래프로 그려보면 계단식으로 그려지는 것을 확인할 수 있습니다. 어떤 수식을 통해 새로 계산된 값이 아닌 node에 정해진 값들로 예측값의 집합이 결정되기 때문입니다.\n",
    "\n",
    "<center><img src=\"./img/decision_tree_predict_graph.png\" width=500px></center>"
   ]
  },
  {
   "cell_type": "markdown",
   "metadata": {},
   "source": [
    "그러면 **Random Forest**는 무엇일까요? 이름에서도 짐작할 수 있듯이 여러 Decision Tree가 모인 것이 Random Forest입니다.\n",
    "\n",
    "Random Forest를 만드는 방법은 전체 학습 데이터셋에서 임의의 개수를 뽑아낸 다음에 이걸로 Decision Tree를 학습합니다. 이를 지정한 Decision Tree 개수만큼 반복합니다.\n",
    "\n",
    "<center><img src=\"./img/random_forest_example.png\"></center>\n",
    "\n",
    "예측할 때도 학습된 여러 Decision Tree가 내는 예측 결과를 종합해서 예측값을 결정합니다. 보통은 가장 많은 Decision Tree가 내놓은 예측값을 사용하게 됩니다."
   ]
  },
  {
   "cell_type": "markdown",
   "metadata": {},
   "source": [
    "이제 본격적으로 scikit-learn을 통해 Decision Tree와 Random Forest를 활용한 회귀 모델을 학습해 보겠습니다.\n",
    "\n",
    "Random Forest 학습에는 시간이 다소 걸릴 수 있습니다."
   ]
  },
  {
   "cell_type": "code",
   "execution_count": 46,
   "metadata": {},
   "outputs": [
    {
     "data": {
      "text/html": [
       "<style>#sk-container-id-2 {color: black;}#sk-container-id-2 pre{padding: 0;}#sk-container-id-2 div.sk-toggleable {background-color: white;}#sk-container-id-2 label.sk-toggleable__label {cursor: pointer;display: block;width: 100%;margin-bottom: 0;padding: 0.3em;box-sizing: border-box;text-align: center;}#sk-container-id-2 label.sk-toggleable__label-arrow:before {content: \"▸\";float: left;margin-right: 0.25em;color: #696969;}#sk-container-id-2 label.sk-toggleable__label-arrow:hover:before {color: black;}#sk-container-id-2 div.sk-estimator:hover label.sk-toggleable__label-arrow:before {color: black;}#sk-container-id-2 div.sk-toggleable__content {max-height: 0;max-width: 0;overflow: hidden;text-align: left;background-color: #f0f8ff;}#sk-container-id-2 div.sk-toggleable__content pre {margin: 0.2em;color: black;border-radius: 0.25em;background-color: #f0f8ff;}#sk-container-id-2 input.sk-toggleable__control:checked~div.sk-toggleable__content {max-height: 200px;max-width: 100%;overflow: auto;}#sk-container-id-2 input.sk-toggleable__control:checked~label.sk-toggleable__label-arrow:before {content: \"▾\";}#sk-container-id-2 div.sk-estimator input.sk-toggleable__control:checked~label.sk-toggleable__label {background-color: #d4ebff;}#sk-container-id-2 div.sk-label input.sk-toggleable__control:checked~label.sk-toggleable__label {background-color: #d4ebff;}#sk-container-id-2 input.sk-hidden--visually {border: 0;clip: rect(1px 1px 1px 1px);clip: rect(1px, 1px, 1px, 1px);height: 1px;margin: -1px;overflow: hidden;padding: 0;position: absolute;width: 1px;}#sk-container-id-2 div.sk-estimator {font-family: monospace;background-color: #f0f8ff;border: 1px dotted black;border-radius: 0.25em;box-sizing: border-box;margin-bottom: 0.5em;}#sk-container-id-2 div.sk-estimator:hover {background-color: #d4ebff;}#sk-container-id-2 div.sk-parallel-item::after {content: \"\";width: 100%;border-bottom: 1px solid gray;flex-grow: 1;}#sk-container-id-2 div.sk-label:hover label.sk-toggleable__label {background-color: #d4ebff;}#sk-container-id-2 div.sk-serial::before {content: \"\";position: absolute;border-left: 1px solid gray;box-sizing: border-box;top: 0;bottom: 0;left: 50%;z-index: 0;}#sk-container-id-2 div.sk-serial {display: flex;flex-direction: column;align-items: center;background-color: white;padding-right: 0.2em;padding-left: 0.2em;position: relative;}#sk-container-id-2 div.sk-item {position: relative;z-index: 1;}#sk-container-id-2 div.sk-parallel {display: flex;align-items: stretch;justify-content: center;background-color: white;position: relative;}#sk-container-id-2 div.sk-item::before, #sk-container-id-2 div.sk-parallel-item::before {content: \"\";position: absolute;border-left: 1px solid gray;box-sizing: border-box;top: 0;bottom: 0;left: 50%;z-index: -1;}#sk-container-id-2 div.sk-parallel-item {display: flex;flex-direction: column;z-index: 1;position: relative;background-color: white;}#sk-container-id-2 div.sk-parallel-item:first-child::after {align-self: flex-end;width: 50%;}#sk-container-id-2 div.sk-parallel-item:last-child::after {align-self: flex-start;width: 50%;}#sk-container-id-2 div.sk-parallel-item:only-child::after {width: 0;}#sk-container-id-2 div.sk-dashed-wrapped {border: 1px dashed gray;margin: 0 0.4em 0.5em 0.4em;box-sizing: border-box;padding-bottom: 0.4em;background-color: white;}#sk-container-id-2 div.sk-label label {font-family: monospace;font-weight: bold;display: inline-block;line-height: 1.2em;}#sk-container-id-2 div.sk-label-container {text-align: center;}#sk-container-id-2 div.sk-container {/* jupyter's `normalize.less` sets `[hidden] { display: none; }` but bootstrap.min.css set `[hidden] { display: none !important; }` so we also need the `!important` here to be able to override the default hidden behavior on the sphinx rendered scikit-learn.org. See: https://github.com/scikit-learn/scikit-learn/issues/21755 */display: inline-block !important;position: relative;}#sk-container-id-2 div.sk-text-repr-fallback {display: none;}</style><div id=\"sk-container-id-2\" class=\"sk-top-container\"><div class=\"sk-text-repr-fallback\"><pre>RandomForestRegressor(n_estimators=10)</pre><b>In a Jupyter environment, please rerun this cell to show the HTML representation or trust the notebook. <br />On GitHub, the HTML representation is unable to render, please try loading this page with nbviewer.org.</b></div><div class=\"sk-container\" hidden><div class=\"sk-item\"><div class=\"sk-estimator sk-toggleable\"><input class=\"sk-toggleable__control sk-hidden--visually\" id=\"sk-estimator-id-2\" type=\"checkbox\" checked><label for=\"sk-estimator-id-2\" class=\"sk-toggleable__label sk-toggleable__label-arrow\">RandomForestRegressor</label><div class=\"sk-toggleable__content\"><pre>RandomForestRegressor(n_estimators=10)</pre></div></div></div></div></div>"
      ],
      "text/plain": [
       "RandomForestRegressor(n_estimators=10)"
      ]
     },
     "execution_count": 46,
     "metadata": {},
     "output_type": "execute_result"
    }
   ],
   "source": [
    "# Decision Tree 회귀 모델을 불러옵니다.\n",
    "dt_model = DecisionTreeRegressor()\n",
    "\n",
    "# Random Forest 회귀 모델을 불러옵니다.\n",
    "rf_model = RandomForestRegressor(n_estimators=10)\n",
    "\n",
    "# fit 함수를 사용하여 학습을 수행합니다.\n",
    "dt_model.fit(X_train, y_train)\n",
    "rf_model.fit(X_train, y_train)"
   ]
  },
  {
   "cell_type": "markdown",
   "metadata": {},
   "source": [
    "평가는 회귀 모델인 만큼 선형 회귀와 동일하게 진행합니다."
   ]
  },
  {
   "cell_type": "code",
   "execution_count": 47,
   "metadata": {},
   "outputs": [
    {
     "name": "stdout",
     "output_type": "stream",
     "text": [
      "[Decision Tree - Train] MSE      : 0.000000\n",
      "[Decision Tree - Train] RMSE     : 0.000000\n",
      "[Decision Tree - Train] MAE      : 0.000000\n",
      "[Decision Tree - Train] R2 score : 1.000000\n",
      "==================================================\n",
      "[Decision Tree - Test ] MSE      : 0.534510\n",
      "[Decision Tree - Test ] RMSE     : 0.731102\n",
      "[Decision Tree - Test ] MAE      : 0.521989\n",
      "[Decision Tree - Test ] R2 score : -0.580317\n"
     ]
    }
   ],
   "source": [
    "# Decision Tree 성능 확인\n",
    "check_metrics(dt_model, \"Decision Tree\", X_train, X_test, y_train, y_test)"
   ]
  },
  {
   "cell_type": "code",
   "execution_count": 48,
   "metadata": {},
   "outputs": [
    {
     "name": "stdout",
     "output_type": "stream",
     "text": [
      "[Random Forest - Train] MSE      : 0.054985\n",
      "[Random Forest - Train] RMSE     : 0.234490\n",
      "[Random Forest - Train] MAE      : 0.159575\n",
      "[Random Forest - Train] R2 score : 0.836408\n",
      "==================================================\n",
      "[Random Forest - Test ] MSE      : 0.315657\n",
      "[Random Forest - Test ] RMSE     : 0.561834\n",
      "[Random Forest - Test ] MAE      : 0.408282\n",
      "[Random Forest - Test ] R2 score : 0.066737\n"
     ]
    }
   ],
   "source": [
    "# Random Forest 성능 확인\n",
    "check_metrics(rf_model, \"Random Forest\", X_train, X_test, y_train, y_test)"
   ]
  },
  {
   "cell_type": "markdown",
   "metadata": {},
   "source": [
    "Decision Tree나 Random Forest 모두 학습은 잘 된 거 같은데 테스트 데이터에선 $R^2$ score가 음수가 나올 정도로 예측을 못하고 있는 것을 확인할 수 있습니다. 즉 오히려 선형 회귀보다도 테스트 데이터는 예측을 제대로 하지 못하는 것입니다.\n",
    "\n",
    "이를 좀 더 개선할 수 있는 다른 모델은 없는지 확인해보겠습니다."
   ]
  },
  {
   "cell_type": "markdown",
   "metadata": {},
   "source": [
    "### 5.3. XGBoost 회귀 모델\n",
    "\n",
    "[XGBoost](https://xgboost.readthedocs.io/en/stable/)란 정확히 말하면 Gradient Boosting이라는 기법을 구현한 라이브러리의 이름입니다.\n",
    "\n",
    "Gradient Boosting 기법은 흔히 **앙상블(Ensemble)** 기법이라 부르는 것의 일종입니다. 앞서 언급하지는 않았는데, 사실 Random Forest 또한 앙상블 기법의 일종이라고 할 수 있습니다.\n",
    "\n",
    "즉 앙상블 기법의 전반적인 특징이라고 하면 **복수의 모델을 학습**시켜서 이 모델들이 내는 결과를 취합하여 최종 예측까지 수행하는 기법이라고 할 수 있습니다.\n",
    "\n",
    "그러면 Gradient Boosting 기법이란 무엇일까요? 한문장으로 요약하면 **Gradient Descent를 활용하는 Boosting 기법**이라고 할 수 있습니다. 각각의 의미를 정리하면 다음과 같습니다.\n",
    "- **Boosting 기법**: 여러 모델들이 있을 때, 성능이 좋지 않은 모델(weak learner)의 성능을 개선해가면서 전체 예측 성능을 높이는 기법\n",
    "- **Gradient Descent**: 경사 하강법이라고 하며 손실 함수(Loss Function)의 최적화를 위해 사용하는 기법입니다. 나중에 딥러닝 관련 자료에서 자주 등장할 것입니다.\n",
    "\n",
    "XGBoost가 좋은 이유는 앙상블 기법 중 성능이 일반적으로 좋은 Gradient Boosting 기법을 편하게 사용할 수 있으면서, 실제 구현 자체가 컴퓨팅 자원을 효율적으로 쓸 수 있게 개발되어서 모델 학습이 빠르게 이루어진다는 것입니다.\n",
    "\n",
    "이제 XGBoost에서 지원하는 회귀 모델인 `XGBRegressor`를 활용하여 모델을 학습해 보겠습니다."
   ]
  },
  {
   "cell_type": "code",
   "execution_count": 49,
   "metadata": {},
   "outputs": [
    {
     "name": "stderr",
     "output_type": "stream",
     "text": [
      "C:\\Users\\3balb\\AppData\\Local\\Packages\\PythonSoftwareFoundation.Python.3.11_qbz5n2kfra8p0\\LocalCache\\local-packages\\Python311\\site-packages\\xgboost\\data.py:520: FutureWarning: is_sparse is deprecated and will be removed in a future version. Check `isinstance(dtype, pd.SparseDtype)` instead.\n",
      "  if is_sparse(data):\n"
     ]
    },
    {
     "data": {
      "text/html": [
       "<style>#sk-container-id-3 {color: black;}#sk-container-id-3 pre{padding: 0;}#sk-container-id-3 div.sk-toggleable {background-color: white;}#sk-container-id-3 label.sk-toggleable__label {cursor: pointer;display: block;width: 100%;margin-bottom: 0;padding: 0.3em;box-sizing: border-box;text-align: center;}#sk-container-id-3 label.sk-toggleable__label-arrow:before {content: \"▸\";float: left;margin-right: 0.25em;color: #696969;}#sk-container-id-3 label.sk-toggleable__label-arrow:hover:before {color: black;}#sk-container-id-3 div.sk-estimator:hover label.sk-toggleable__label-arrow:before {color: black;}#sk-container-id-3 div.sk-toggleable__content {max-height: 0;max-width: 0;overflow: hidden;text-align: left;background-color: #f0f8ff;}#sk-container-id-3 div.sk-toggleable__content pre {margin: 0.2em;color: black;border-radius: 0.25em;background-color: #f0f8ff;}#sk-container-id-3 input.sk-toggleable__control:checked~div.sk-toggleable__content {max-height: 200px;max-width: 100%;overflow: auto;}#sk-container-id-3 input.sk-toggleable__control:checked~label.sk-toggleable__label-arrow:before {content: \"▾\";}#sk-container-id-3 div.sk-estimator input.sk-toggleable__control:checked~label.sk-toggleable__label {background-color: #d4ebff;}#sk-container-id-3 div.sk-label input.sk-toggleable__control:checked~label.sk-toggleable__label {background-color: #d4ebff;}#sk-container-id-3 input.sk-hidden--visually {border: 0;clip: rect(1px 1px 1px 1px);clip: rect(1px, 1px, 1px, 1px);height: 1px;margin: -1px;overflow: hidden;padding: 0;position: absolute;width: 1px;}#sk-container-id-3 div.sk-estimator {font-family: monospace;background-color: #f0f8ff;border: 1px dotted black;border-radius: 0.25em;box-sizing: border-box;margin-bottom: 0.5em;}#sk-container-id-3 div.sk-estimator:hover {background-color: #d4ebff;}#sk-container-id-3 div.sk-parallel-item::after {content: \"\";width: 100%;border-bottom: 1px solid gray;flex-grow: 1;}#sk-container-id-3 div.sk-label:hover label.sk-toggleable__label {background-color: #d4ebff;}#sk-container-id-3 div.sk-serial::before {content: \"\";position: absolute;border-left: 1px solid gray;box-sizing: border-box;top: 0;bottom: 0;left: 50%;z-index: 0;}#sk-container-id-3 div.sk-serial {display: flex;flex-direction: column;align-items: center;background-color: white;padding-right: 0.2em;padding-left: 0.2em;position: relative;}#sk-container-id-3 div.sk-item {position: relative;z-index: 1;}#sk-container-id-3 div.sk-parallel {display: flex;align-items: stretch;justify-content: center;background-color: white;position: relative;}#sk-container-id-3 div.sk-item::before, #sk-container-id-3 div.sk-parallel-item::before {content: \"\";position: absolute;border-left: 1px solid gray;box-sizing: border-box;top: 0;bottom: 0;left: 50%;z-index: -1;}#sk-container-id-3 div.sk-parallel-item {display: flex;flex-direction: column;z-index: 1;position: relative;background-color: white;}#sk-container-id-3 div.sk-parallel-item:first-child::after {align-self: flex-end;width: 50%;}#sk-container-id-3 div.sk-parallel-item:last-child::after {align-self: flex-start;width: 50%;}#sk-container-id-3 div.sk-parallel-item:only-child::after {width: 0;}#sk-container-id-3 div.sk-dashed-wrapped {border: 1px dashed gray;margin: 0 0.4em 0.5em 0.4em;box-sizing: border-box;padding-bottom: 0.4em;background-color: white;}#sk-container-id-3 div.sk-label label {font-family: monospace;font-weight: bold;display: inline-block;line-height: 1.2em;}#sk-container-id-3 div.sk-label-container {text-align: center;}#sk-container-id-3 div.sk-container {/* jupyter's `normalize.less` sets `[hidden] { display: none; }` but bootstrap.min.css set `[hidden] { display: none !important; }` so we also need the `!important` here to be able to override the default hidden behavior on the sphinx rendered scikit-learn.org. See: https://github.com/scikit-learn/scikit-learn/issues/21755 */display: inline-block !important;position: relative;}#sk-container-id-3 div.sk-text-repr-fallback {display: none;}</style><div id=\"sk-container-id-3\" class=\"sk-top-container\"><div class=\"sk-text-repr-fallback\"><pre>XGBRegressor(base_score=None, booster=None, callbacks=None,\n",
       "             colsample_bylevel=None, colsample_bynode=None,\n",
       "             colsample_bytree=None, device=None, early_stopping_rounds=None,\n",
       "             enable_categorical=False, eval_metric=None, feature_types=None,\n",
       "             gamma=None, grow_policy=None, importance_type=None,\n",
       "             interaction_constraints=None, learning_rate=None, max_bin=None,\n",
       "             max_cat_threshold=None, max_cat_to_onehot=None,\n",
       "             max_delta_step=None, max_depth=None, max_leaves=None,\n",
       "             min_child_weight=None, missing=nan, monotone_constraints=None,\n",
       "             multi_strategy=None, n_estimators=None, n_jobs=None,\n",
       "             num_parallel_tree=None, random_state=None, ...)</pre><b>In a Jupyter environment, please rerun this cell to show the HTML representation or trust the notebook. <br />On GitHub, the HTML representation is unable to render, please try loading this page with nbviewer.org.</b></div><div class=\"sk-container\" hidden><div class=\"sk-item\"><div class=\"sk-estimator sk-toggleable\"><input class=\"sk-toggleable__control sk-hidden--visually\" id=\"sk-estimator-id-3\" type=\"checkbox\" checked><label for=\"sk-estimator-id-3\" class=\"sk-toggleable__label sk-toggleable__label-arrow\">XGBRegressor</label><div class=\"sk-toggleable__content\"><pre>XGBRegressor(base_score=None, booster=None, callbacks=None,\n",
       "             colsample_bylevel=None, colsample_bynode=None,\n",
       "             colsample_bytree=None, device=None, early_stopping_rounds=None,\n",
       "             enable_categorical=False, eval_metric=None, feature_types=None,\n",
       "             gamma=None, grow_policy=None, importance_type=None,\n",
       "             interaction_constraints=None, learning_rate=None, max_bin=None,\n",
       "             max_cat_threshold=None, max_cat_to_onehot=None,\n",
       "             max_delta_step=None, max_depth=None, max_leaves=None,\n",
       "             min_child_weight=None, missing=nan, monotone_constraints=None,\n",
       "             multi_strategy=None, n_estimators=None, n_jobs=None,\n",
       "             num_parallel_tree=None, random_state=None, ...)</pre></div></div></div></div></div>"
      ],
      "text/plain": [
       "XGBRegressor(base_score=None, booster=None, callbacks=None,\n",
       "             colsample_bylevel=None, colsample_bynode=None,\n",
       "             colsample_bytree=None, device=None, early_stopping_rounds=None,\n",
       "             enable_categorical=False, eval_metric=None, feature_types=None,\n",
       "             gamma=None, grow_policy=None, importance_type=None,\n",
       "             interaction_constraints=None, learning_rate=None, max_bin=None,\n",
       "             max_cat_threshold=None, max_cat_to_onehot=None,\n",
       "             max_delta_step=None, max_depth=None, max_leaves=None,\n",
       "             min_child_weight=None, missing=nan, monotone_constraints=None,\n",
       "             multi_strategy=None, n_estimators=None, n_jobs=None,\n",
       "             num_parallel_tree=None, random_state=None, ...)"
      ]
     },
     "execution_count": 49,
     "metadata": {},
     "output_type": "execute_result"
    }
   ],
   "source": [
    "xgb_model = XGBRegressor()\n",
    "\n",
    "xgb_model.fit(X_train, y_train)"
   ]
  },
  {
   "cell_type": "code",
   "execution_count": 50,
   "metadata": {},
   "outputs": [
    {
     "name": "stdout",
     "output_type": "stream",
     "text": [
      "[XGBRegressor - Train] MSE      : 0.259956\n",
      "[XGBRegressor - Train] RMSE     : 0.509859\n",
      "[XGBRegressor - Train] MAE      : 0.373961\n",
      "[XGBRegressor - Train] R2 score : 0.226581\n",
      "==================================================\n",
      "[XGBRegressor - Test ] MSE      : 0.274847\n",
      "[XGBRegressor - Test ] RMSE     : 0.524259\n",
      "[XGBRegressor - Test ] MAE      : 0.383379\n",
      "[XGBRegressor - Test ] R2 score : 0.187394\n"
     ]
    }
   ],
   "source": [
    "# XGBRegressor 성능 확인\n",
    "check_metrics(xgb_model, \"XGBRegressor\", X_train, X_test, y_train, y_test)"
   ]
  },
  {
   "cell_type": "markdown",
   "metadata": {},
   "source": [
    "확실히 앞선 모델들보다 테스트에서 $R^2$ score가 잘 나오고 있는 모습을 확인할 수 있습니다. 덩달아서 MSE 같은 다른 평가지표도 더 낮은 값을 보이면서 확실히 나은 모습을 보이고 있습니다."
   ]
  },
  {
   "cell_type": "markdown",
   "metadata": {},
   "source": [
    "## 제출\n",
    "\n",
    "이제 앞서 다룬 내용을 바탕으로 제출을 위한 데이터를 불러와 `Rating` 값을 예측해보도록 합니다. \n",
    "\n",
    "제출을 위한 데이터는 `webapp_test_feature.csv` 라는 이름으로 저장되어 있습니다. 전처리를 전혀 거치지 않은 상태에서 `Rating` 변수만 빠진 데이터이기 때문에 앞서 2, 3단원에서 수행했던 전처리를 모두 수행해야 합니다.\n",
    "\n",
    "특히 `Installs` 횟수가 1000회에 미치지 못하는 row를 모두 삭제하는 부분이 있는데, 이를 채점 데이터에도 똑같이 적용해야 합니다. 그렇지 않으면 정답 개수와 제출을 위해 예측한 평점 개수가 일치하지 않을 것입니다. 채점에 사용하는 데이터의 개수는 **44,910** 개입니다.\n",
    "\n",
    "제출을 위해선 예측한 평점값을 아래와 같이 DataFrame 형태로 만들어 `submission.csv` 이름으로 저장합니다. 이때 반드시 평점 컬럼의 이름은 `Rating` 이어야 합니다.\n",
    "\n",
    "| index | Rating |\n",
    "|-------|--------|\n",
    "| 0     | 4.0  |\n",
    "| 1     | 4.2 |\n",
    "| 2     | 4.1 |\n",
    "| 3     | 4.6 |\n",
    "| 4     | 4.5 |\n",
    "\n",
    "통과 기준은 예측한 값의 **$R^2$ score가 0.25 이상**이면 통과입니다. 이를 위해선 앞서 학습한 모델 중 하나를 골라 파라미터를 바꿔서 학습하는 과정이 필요할 수 있습니다. 아래 링크를 통해 각 모델에 사용할 수 있는 파라미터들을 확인해보세요.\n",
    "- [Linear Regression](https://scikit-learn.org/stable/modules/generated/sklearn.linear_model.LinearRegression.html)\n",
    "    - Linear Regression은 그 자체로 모델 성능에 변화를 일으킬 만한 파라미터가 있지는 않습니다.\n",
    "    - 따라서 다항 회귀 (Polynomial Regression) 기법을 통해 선형 회귀 모델을 개선해볼 수 있습니다.\n",
    "- [Decision Tree](https://scikit-learn.org/stable/modules/generated/sklearn.tree.DecisionTreeRegressor.html)\n",
    "    - 바꿔볼만한 파라미터: `criterion`, `max_depth`, `min_samples_split`\n",
    "    - 각 파라미터의 자세한 설명은 API 문서를 참고하세요.\n",
    "- [Random Forest](https://scikit-learn.org/stable/modules/generated/sklearn.ensemble.RandomForestRegressor.html)\n",
    "    - 바꿔볼만한 파라미터: `n_estimators`, `criterion`, `max_depth`, `min_samples_split`\n",
    "    - 각 파라미터의 자세한 설명은 API 문서를 참고하세요.\n",
    "- [XGBoost](https://xgboost.readthedocs.io/en/stable/python/python_api.html#xgboost.XGBRegressor)\n",
    "    - 바꿔볼만한 파라미터: `n_estimators`, `max_depth`, `tree_method`\n",
    "    - 각 파라미터의 자세한 설명은 API 문서를 참고하세요."
   ]
  },
  {
   "cell_type": "code",
   "execution_count": 82,
   "metadata": {},
   "outputs": [
    {
     "data": {
      "text/html": [
       "<div>\n",
       "<style scoped>\n",
       "    .dataframe tbody tr th:only-of-type {\n",
       "        vertical-align: middle;\n",
       "    }\n",
       "\n",
       "    .dataframe tbody tr th {\n",
       "        vertical-align: top;\n",
       "    }\n",
       "\n",
       "    .dataframe thead th {\n",
       "        text-align: right;\n",
       "    }\n",
       "</style>\n",
       "<table border=\"1\" class=\"dataframe\">\n",
       "  <thead>\n",
       "    <tr style=\"text-align: right;\">\n",
       "      <th></th>\n",
       "      <th>App Name</th>\n",
       "      <th>App Id</th>\n",
       "      <th>Category</th>\n",
       "      <th>Rating Count</th>\n",
       "      <th>Installs</th>\n",
       "      <th>Minimum Installs</th>\n",
       "      <th>Maximum Installs</th>\n",
       "      <th>Free</th>\n",
       "      <th>Price</th>\n",
       "      <th>Currency</th>\n",
       "      <th>...</th>\n",
       "      <th>Developer Id</th>\n",
       "      <th>Developer Website</th>\n",
       "      <th>Developer Email</th>\n",
       "      <th>Released</th>\n",
       "      <th>Last Updated</th>\n",
       "      <th>Content Rating</th>\n",
       "      <th>Privacy Policy</th>\n",
       "      <th>Ad Supported</th>\n",
       "      <th>In App Purchases</th>\n",
       "      <th>Editors Choice</th>\n",
       "    </tr>\n",
       "  </thead>\n",
       "  <tbody>\n",
       "    <tr>\n",
       "      <th>0</th>\n",
       "      <td>Earth &amp; Moon in HD Gyro 3D Parallax Live Wallp...</td>\n",
       "      <td>com.afkettler.earth</td>\n",
       "      <td>Personalization</td>\n",
       "      <td>73806.0</td>\n",
       "      <td>5,000,000+</td>\n",
       "      <td>5000000.0</td>\n",
       "      <td>7209120</td>\n",
       "      <td>True</td>\n",
       "      <td>0.0</td>\n",
       "      <td>USD</td>\n",
       "      <td>...</td>\n",
       "      <td>CodeKonditor</td>\n",
       "      <td>https://www.facebook.com/codekonditor</td>\n",
       "      <td>mail@codekonditor.com</td>\n",
       "      <td>Nov 10, 2013</td>\n",
       "      <td>2020-03-21 18:49:16</td>\n",
       "      <td>Everyone</td>\n",
       "      <td>http://www.codekonditor.com/privacy/</td>\n",
       "      <td>False</td>\n",
       "      <td>False</td>\n",
       "      <td>False</td>\n",
       "    </tr>\n",
       "    <tr>\n",
       "      <th>1</th>\n",
       "      <td>TakeLessons Live</td>\n",
       "      <td>com.takelessons.tma_android</td>\n",
       "      <td>Education</td>\n",
       "      <td>227.0</td>\n",
       "      <td>10,000+</td>\n",
       "      <td>10000.0</td>\n",
       "      <td>36956</td>\n",
       "      <td>True</td>\n",
       "      <td>0.0</td>\n",
       "      <td>USD</td>\n",
       "      <td>...</td>\n",
       "      <td>TakeLessons</td>\n",
       "      <td>https://www.takelessons.com</td>\n",
       "      <td>info@takelessons.com</td>\n",
       "      <td>Oct 5, 2016</td>\n",
       "      <td>2020-07-10 20:59:19</td>\n",
       "      <td>Everyone</td>\n",
       "      <td>https://takelessons.com/privacy</td>\n",
       "      <td>False</td>\n",
       "      <td>False</td>\n",
       "      <td>False</td>\n",
       "    </tr>\n",
       "    <tr>\n",
       "      <th>2</th>\n",
       "      <td>Taxi Driving Simulation Be Quick in the City</td>\n",
       "      <td>com.ozGames.taxiDrivingSimulatorDriftPro</td>\n",
       "      <td>Simulation</td>\n",
       "      <td>33.0</td>\n",
       "      <td>1,000+</td>\n",
       "      <td>1000.0</td>\n",
       "      <td>1251</td>\n",
       "      <td>True</td>\n",
       "      <td>0.0</td>\n",
       "      <td>USD</td>\n",
       "      <td>...</td>\n",
       "      <td>ayris soft</td>\n",
       "      <td>https://ayrissoft.github.io/</td>\n",
       "      <td>hakansatilmis@gmail.com</td>\n",
       "      <td>Apr 30, 2020</td>\n",
       "      <td>2020-05-01 16:59:24</td>\n",
       "      <td>Teen</td>\n",
       "      <td>https://justpaste.it/27fzs</td>\n",
       "      <td>True</td>\n",
       "      <td>False</td>\n",
       "      <td>False</td>\n",
       "    </tr>\n",
       "    <tr>\n",
       "      <th>3</th>\n",
       "      <td>دیکشنری انگلیسی به فارسی آلفا</td>\n",
       "      <td>ir.alphasoft.dictionary</td>\n",
       "      <td>Education</td>\n",
       "      <td>34.0</td>\n",
       "      <td>1,000+</td>\n",
       "      <td>1000.0</td>\n",
       "      <td>1163</td>\n",
       "      <td>True</td>\n",
       "      <td>0.0</td>\n",
       "      <td>USD</td>\n",
       "      <td>...</td>\n",
       "      <td>Digi.Soft</td>\n",
       "      <td>http://digivpn.xyz</td>\n",
       "      <td>digi.vpn.com@gmail.com</td>\n",
       "      <td>Mar 10, 2019</td>\n",
       "      <td>2019-03-11 13:58:28</td>\n",
       "      <td>Everyone</td>\n",
       "      <td>http://www.movinapp.com/apps-privacy-policy/</td>\n",
       "      <td>True</td>\n",
       "      <td>False</td>\n",
       "      <td>False</td>\n",
       "    </tr>\n",
       "    <tr>\n",
       "      <th>4</th>\n",
       "      <td>Biblia de Jerusalén / Biblia Católica</td>\n",
       "      <td>com.appslitedesarrolladores.bibliadejerusalen</td>\n",
       "      <td>Books &amp; Reference</td>\n",
       "      <td>98.0</td>\n",
       "      <td>10,000+</td>\n",
       "      <td>10000.0</td>\n",
       "      <td>41051</td>\n",
       "      <td>True</td>\n",
       "      <td>0.0</td>\n",
       "      <td>USD</td>\n",
       "      <td>...</td>\n",
       "      <td>Apps Free Lite</td>\n",
       "      <td>https://appsfreelite.blogspot.com/</td>\n",
       "      <td>appsfreelite@gmail.com</td>\n",
       "      <td>Oct 22, 2018</td>\n",
       "      <td>2020-04-09 10:35:46</td>\n",
       "      <td>Teen</td>\n",
       "      <td>https://docs.google.com/document/d/e/2PACX-1vQ...</td>\n",
       "      <td>True</td>\n",
       "      <td>False</td>\n",
       "      <td>False</td>\n",
       "    </tr>\n",
       "    <tr>\n",
       "      <th>5</th>\n",
       "      <td>TukangSayur.co</td>\n",
       "      <td>tukangsayur.co</td>\n",
       "      <td>Shopping</td>\n",
       "      <td>2486.0</td>\n",
       "      <td>100,000+</td>\n",
       "      <td>100000.0</td>\n",
       "      <td>156643</td>\n",
       "      <td>True</td>\n",
       "      <td>0.0</td>\n",
       "      <td>USD</td>\n",
       "      <td>...</td>\n",
       "      <td>Mahakarya Tukangsayur Indonesia</td>\n",
       "      <td>https://www.tukangsayur.co</td>\n",
       "      <td>customercare@tukangsayur.co</td>\n",
       "      <td>Nov 16, 2018</td>\n",
       "      <td>2020-05-11 02:38:07</td>\n",
       "      <td>Everyone</td>\n",
       "      <td>https://www.tukangsayur.co/#/privacy-policy</td>\n",
       "      <td>False</td>\n",
       "      <td>False</td>\n",
       "      <td>False</td>\n",
       "    </tr>\n",
       "    <tr>\n",
       "      <th>6</th>\n",
       "      <td>PieChart Maker: Circular Graph Generator</td>\n",
       "      <td>com.ineriam.piechart.maker</td>\n",
       "      <td>Tools</td>\n",
       "      <td>153.0</td>\n",
       "      <td>50,000+</td>\n",
       "      <td>50000.0</td>\n",
       "      <td>57171</td>\n",
       "      <td>True</td>\n",
       "      <td>0.0</td>\n",
       "      <td>USD</td>\n",
       "      <td>...</td>\n",
       "      <td>INERIAM Ingeniería Multimedia</td>\n",
       "      <td>http://www.ineriam.com</td>\n",
       "      <td>info@ineriam.com</td>\n",
       "      <td>Dec 21, 2018</td>\n",
       "      <td>2019-10-14 21:00:23</td>\n",
       "      <td>Everyone</td>\n",
       "      <td>http://www.ineriam.com/piechartmaker/privacy.html</td>\n",
       "      <td>True</td>\n",
       "      <td>True</td>\n",
       "      <td>False</td>\n",
       "    </tr>\n",
       "    <tr>\n",
       "      <th>7</th>\n",
       "      <td>Wind Wings: Space Shooter - Galaxy Attack</td>\n",
       "      <td>com.Wind.wings.Space.Shooter</td>\n",
       "      <td>Arcade</td>\n",
       "      <td>4660.0</td>\n",
       "      <td>500,000+</td>\n",
       "      <td>500000.0</td>\n",
       "      <td>697174</td>\n",
       "      <td>True</td>\n",
       "      <td>0.0</td>\n",
       "      <td>USD</td>\n",
       "      <td>...</td>\n",
       "      <td>GCenter</td>\n",
       "      <td>http://gcenterstudio.com</td>\n",
       "      <td>hoasinh01@gmail.com</td>\n",
       "      <td>Jan 18, 2020</td>\n",
       "      <td>2020-07-21 16:28:20</td>\n",
       "      <td>Everyone 10+</td>\n",
       "      <td>https://gcenter-com.webnode.vn/privacy-policy/</td>\n",
       "      <td>True</td>\n",
       "      <td>True</td>\n",
       "      <td>False</td>\n",
       "    </tr>\n",
       "    <tr>\n",
       "      <th>8</th>\n",
       "      <td>NikahinKerala Muslim Matrimony</td>\n",
       "      <td>com.nikahinkerala.app.full</td>\n",
       "      <td>Social</td>\n",
       "      <td>2513.0</td>\n",
       "      <td>100,000+</td>\n",
       "      <td>100000.0</td>\n",
       "      <td>106261</td>\n",
       "      <td>True</td>\n",
       "      <td>0.0</td>\n",
       "      <td>USD</td>\n",
       "      <td>...</td>\n",
       "      <td>eBeamsInfoTech</td>\n",
       "      <td>http://www.nikahinkerala.com/</td>\n",
       "      <td>ebeamsinfo@gmail.com</td>\n",
       "      <td>Aug 28, 2016</td>\n",
       "      <td>2020-06-27 13:37:38</td>\n",
       "      <td>Mature 17+</td>\n",
       "      <td>http://www.nikahinkerala.com/privacy_policy.php</td>\n",
       "      <td>False</td>\n",
       "      <td>False</td>\n",
       "      <td>False</td>\n",
       "    </tr>\n",
       "    <tr>\n",
       "      <th>9</th>\n",
       "      <td>BLW Ideas App</td>\n",
       "      <td>com.rdcbca80b3d2.www</td>\n",
       "      <td>Parenting</td>\n",
       "      <td>47.0</td>\n",
       "      <td>10,000+</td>\n",
       "      <td>10000.0</td>\n",
       "      <td>18504</td>\n",
       "      <td>True</td>\n",
       "      <td>0.0</td>\n",
       "      <td>USD</td>\n",
       "      <td>...</td>\n",
       "      <td>BLW App</td>\n",
       "      <td>http://www.blwideasapp.com</td>\n",
       "      <td>anastasia@blwideasapp.com</td>\n",
       "      <td>Jan 29, 2020</td>\n",
       "      <td>2020-07-01 22:43:18</td>\n",
       "      <td>Everyone</td>\n",
       "      <td>http://learn.appdocumentation.com/terms-and-co...</td>\n",
       "      <td>False</td>\n",
       "      <td>True</td>\n",
       "      <td>False</td>\n",
       "    </tr>\n",
       "  </tbody>\n",
       "</table>\n",
       "<p>10 rows × 22 columns</p>\n",
       "</div>"
      ],
      "text/plain": [
       "                                            App Name  \\\n",
       "0  Earth & Moon in HD Gyro 3D Parallax Live Wallp...   \n",
       "1                                   TakeLessons Live   \n",
       "2       Taxi Driving Simulation Be Quick in the City   \n",
       "3                      دیکشنری انگلیسی به فارسی آلفا   \n",
       "4              Biblia de Jerusalén / Biblia Católica   \n",
       "5                                     TukangSayur.co   \n",
       "6           PieChart Maker: Circular Graph Generator   \n",
       "7          Wind Wings: Space Shooter - Galaxy Attack   \n",
       "8                     NikahinKerala Muslim Matrimony   \n",
       "9                                      BLW Ideas App   \n",
       "\n",
       "                                          App Id           Category  \\\n",
       "0                            com.afkettler.earth    Personalization   \n",
       "1                    com.takelessons.tma_android          Education   \n",
       "2       com.ozGames.taxiDrivingSimulatorDriftPro         Simulation   \n",
       "3                        ir.alphasoft.dictionary          Education   \n",
       "4  com.appslitedesarrolladores.bibliadejerusalen  Books & Reference   \n",
       "5                                 tukangsayur.co           Shopping   \n",
       "6                     com.ineriam.piechart.maker              Tools   \n",
       "7                   com.Wind.wings.Space.Shooter             Arcade   \n",
       "8                     com.nikahinkerala.app.full             Social   \n",
       "9                           com.rdcbca80b3d2.www          Parenting   \n",
       "\n",
       "   Rating Count    Installs  Minimum Installs  Maximum Installs  Free  Price  \\\n",
       "0       73806.0  5,000,000+         5000000.0           7209120  True    0.0   \n",
       "1         227.0     10,000+           10000.0             36956  True    0.0   \n",
       "2          33.0      1,000+            1000.0              1251  True    0.0   \n",
       "3          34.0      1,000+            1000.0              1163  True    0.0   \n",
       "4          98.0     10,000+           10000.0             41051  True    0.0   \n",
       "5        2486.0    100,000+          100000.0            156643  True    0.0   \n",
       "6         153.0     50,000+           50000.0             57171  True    0.0   \n",
       "7        4660.0    500,000+          500000.0            697174  True    0.0   \n",
       "8        2513.0    100,000+          100000.0            106261  True    0.0   \n",
       "9          47.0     10,000+           10000.0             18504  True    0.0   \n",
       "\n",
       "  Currency  ...                     Developer Id  \\\n",
       "0      USD  ...                     CodeKonditor   \n",
       "1      USD  ...                      TakeLessons   \n",
       "2      USD  ...                       ayris soft   \n",
       "3      USD  ...                        Digi.Soft   \n",
       "4      USD  ...                   Apps Free Lite   \n",
       "5      USD  ...  Mahakarya Tukangsayur Indonesia   \n",
       "6      USD  ...    INERIAM Ingeniería Multimedia   \n",
       "7      USD  ...                          GCenter   \n",
       "8      USD  ...                   eBeamsInfoTech   \n",
       "9      USD  ...                          BLW App   \n",
       "\n",
       "                       Developer Website              Developer Email  \\\n",
       "0  https://www.facebook.com/codekonditor        mail@codekonditor.com   \n",
       "1            https://www.takelessons.com         info@takelessons.com   \n",
       "2           https://ayrissoft.github.io/      hakansatilmis@gmail.com   \n",
       "3                     http://digivpn.xyz       digi.vpn.com@gmail.com   \n",
       "4     https://appsfreelite.blogspot.com/       appsfreelite@gmail.com   \n",
       "5             https://www.tukangsayur.co  customercare@tukangsayur.co   \n",
       "6                 http://www.ineriam.com             info@ineriam.com   \n",
       "7               http://gcenterstudio.com          hoasinh01@gmail.com   \n",
       "8          http://www.nikahinkerala.com/         ebeamsinfo@gmail.com   \n",
       "9             http://www.blwideasapp.com    anastasia@blwideasapp.com   \n",
       "\n",
       "       Released         Last Updated Content Rating  \\\n",
       "0  Nov 10, 2013  2020-03-21 18:49:16       Everyone   \n",
       "1   Oct 5, 2016  2020-07-10 20:59:19       Everyone   \n",
       "2  Apr 30, 2020  2020-05-01 16:59:24           Teen   \n",
       "3  Mar 10, 2019  2019-03-11 13:58:28       Everyone   \n",
       "4  Oct 22, 2018  2020-04-09 10:35:46           Teen   \n",
       "5  Nov 16, 2018  2020-05-11 02:38:07       Everyone   \n",
       "6  Dec 21, 2018  2019-10-14 21:00:23       Everyone   \n",
       "7  Jan 18, 2020  2020-07-21 16:28:20   Everyone 10+   \n",
       "8  Aug 28, 2016  2020-06-27 13:37:38     Mature 17+   \n",
       "9  Jan 29, 2020  2020-07-01 22:43:18       Everyone   \n",
       "\n",
       "                                      Privacy Policy Ad Supported  \\\n",
       "0               http://www.codekonditor.com/privacy/        False   \n",
       "1                    https://takelessons.com/privacy        False   \n",
       "2                         https://justpaste.it/27fzs         True   \n",
       "3       http://www.movinapp.com/apps-privacy-policy/         True   \n",
       "4  https://docs.google.com/document/d/e/2PACX-1vQ...         True   \n",
       "5        https://www.tukangsayur.co/#/privacy-policy        False   \n",
       "6  http://www.ineriam.com/piechartmaker/privacy.html         True   \n",
       "7     https://gcenter-com.webnode.vn/privacy-policy/         True   \n",
       "8    http://www.nikahinkerala.com/privacy_policy.php        False   \n",
       "9  http://learn.appdocumentation.com/terms-and-co...        False   \n",
       "\n",
       "  In App Purchases  Editors Choice  \n",
       "0            False           False  \n",
       "1            False           False  \n",
       "2            False           False  \n",
       "3            False           False  \n",
       "4            False           False  \n",
       "5            False           False  \n",
       "6             True           False  \n",
       "7             True           False  \n",
       "8            False           False  \n",
       "9             True           False  \n",
       "\n",
       "[10 rows x 22 columns]"
      ]
     },
     "execution_count": 82,
     "metadata": {},
     "output_type": "execute_result"
    }
   ],
   "source": [
    "#csv 파일 읽기\n",
    "pred = pd.read_csv('./data/webapp_test_feature.csv')\n",
    "pred.head(10)"
   ]
  },
  {
   "cell_type": "code",
   "execution_count": 83,
   "metadata": {},
   "outputs": [
    {
     "name": "stdout",
     "output_type": "stream",
     "text": [
      "<class 'pandas.core.frame.DataFrame'>\n",
      "RangeIndex: 46922 entries, 0 to 46921\n",
      "Data columns (total 22 columns):\n",
      " #   Column             Non-Null Count  Dtype  \n",
      "---  ------             --------------  -----  \n",
      " 0   App Name           46922 non-null  object \n",
      " 1   App Id             46922 non-null  object \n",
      " 2   Category           46922 non-null  object \n",
      " 3   Rating Count       46922 non-null  float64\n",
      " 4   Installs           46922 non-null  object \n",
      " 5   Minimum Installs   46922 non-null  float64\n",
      " 6   Maximum Installs   46922 non-null  int64  \n",
      " 7   Free               46922 non-null  bool   \n",
      " 8   Price              46922 non-null  float64\n",
      " 9   Currency           46922 non-null  object \n",
      " 10  Size               46922 non-null  object \n",
      " 11  Minimum Android    46922 non-null  object \n",
      " 12  Developer Id       46922 non-null  object \n",
      " 13  Developer Website  46922 non-null  object \n",
      " 14  Developer Email    46922 non-null  object \n",
      " 15  Released           46922 non-null  object \n",
      " 16  Last Updated       46922 non-null  object \n",
      " 17  Content Rating     46922 non-null  object \n",
      " 18  Privacy Policy     46922 non-null  object \n",
      " 19  Ad Supported       46922 non-null  bool   \n",
      " 20  In App Purchases   46922 non-null  bool   \n",
      " 21  Editors Choice     46922 non-null  bool   \n",
      "dtypes: bool(4), float64(3), int64(1), object(14)\n",
      "memory usage: 6.6+ MB\n"
     ]
    }
   ],
   "source": [
    "pred.info()"
   ]
  },
  {
   "cell_type": "code",
   "execution_count": 84,
   "metadata": {},
   "outputs": [
    {
     "data": {
      "text/html": [
       "<div>\n",
       "<style scoped>\n",
       "    .dataframe tbody tr th:only-of-type {\n",
       "        vertical-align: middle;\n",
       "    }\n",
       "\n",
       "    .dataframe tbody tr th {\n",
       "        vertical-align: top;\n",
       "    }\n",
       "\n",
       "    .dataframe thead th {\n",
       "        text-align: right;\n",
       "    }\n",
       "</style>\n",
       "<table border=\"1\" class=\"dataframe\">\n",
       "  <thead>\n",
       "    <tr style=\"text-align: right;\">\n",
       "      <th></th>\n",
       "      <th>Rating Count</th>\n",
       "      <th>Minimum Installs</th>\n",
       "      <th>Maximum Installs</th>\n",
       "      <th>Price</th>\n",
       "    </tr>\n",
       "  </thead>\n",
       "  <tbody>\n",
       "    <tr>\n",
       "      <th>count</th>\n",
       "      <td>4.692200e+04</td>\n",
       "      <td>4.692200e+04</td>\n",
       "      <td>4.692200e+04</td>\n",
       "      <td>46922.000000</td>\n",
       "    </tr>\n",
       "    <tr>\n",
       "      <th>mean</th>\n",
       "      <td>1.948802e+04</td>\n",
       "      <td>1.030883e+06</td>\n",
       "      <td>1.867496e+06</td>\n",
       "      <td>0.234843</td>\n",
       "    </tr>\n",
       "    <tr>\n",
       "      <th>std</th>\n",
       "      <td>4.155627e+05</td>\n",
       "      <td>3.538073e+07</td>\n",
       "      <td>5.556903e+07</td>\n",
       "      <td>2.913898</td>\n",
       "    </tr>\n",
       "    <tr>\n",
       "      <th>min</th>\n",
       "      <td>1.100000e+01</td>\n",
       "      <td>0.000000e+00</td>\n",
       "      <td>0.000000e+00</td>\n",
       "      <td>0.000000</td>\n",
       "    </tr>\n",
       "    <tr>\n",
       "      <th>25%</th>\n",
       "      <td>4.400000e+01</td>\n",
       "      <td>5.000000e+03</td>\n",
       "      <td>7.021250e+03</td>\n",
       "      <td>0.000000</td>\n",
       "    </tr>\n",
       "    <tr>\n",
       "      <th>50%</th>\n",
       "      <td>1.890000e+02</td>\n",
       "      <td>1.000000e+04</td>\n",
       "      <td>3.058900e+04</td>\n",
       "      <td>0.000000</td>\n",
       "    </tr>\n",
       "    <tr>\n",
       "      <th>75%</th>\n",
       "      <td>1.262000e+03</td>\n",
       "      <td>1.000000e+05</td>\n",
       "      <td>1.751032e+05</td>\n",
       "      <td>0.000000</td>\n",
       "    </tr>\n",
       "    <tr>\n",
       "      <th>max</th>\n",
       "      <td>5.307079e+07</td>\n",
       "      <td>5.000000e+09</td>\n",
       "      <td>6.925157e+09</td>\n",
       "      <td>399.990000</td>\n",
       "    </tr>\n",
       "  </tbody>\n",
       "</table>\n",
       "</div>"
      ],
      "text/plain": [
       "       Rating Count  Minimum Installs  Maximum Installs         Price\n",
       "count  4.692200e+04      4.692200e+04      4.692200e+04  46922.000000\n",
       "mean   1.948802e+04      1.030883e+06      1.867496e+06      0.234843\n",
       "std    4.155627e+05      3.538073e+07      5.556903e+07      2.913898\n",
       "min    1.100000e+01      0.000000e+00      0.000000e+00      0.000000\n",
       "25%    4.400000e+01      5.000000e+03      7.021250e+03      0.000000\n",
       "50%    1.890000e+02      1.000000e+04      3.058900e+04      0.000000\n",
       "75%    1.262000e+03      1.000000e+05      1.751032e+05      0.000000\n",
       "max    5.307079e+07      5.000000e+09      6.925157e+09    399.990000"
      ]
     },
     "execution_count": 84,
     "metadata": {},
     "output_type": "execute_result"
    }
   ],
   "source": [
    "pred.describe()"
   ]
  },
  {
   "cell_type": "markdown",
   "metadata": {},
   "source": [
    "### T2 데이터 정제\n",
    "\n",
    "T2.1 변수 삭제"
   ]
  },
  {
   "cell_type": "code",
   "execution_count": 85,
   "metadata": {},
   "outputs": [
    {
     "data": {
      "text/html": [
       "<div>\n",
       "<style scoped>\n",
       "    .dataframe tbody tr th:only-of-type {\n",
       "        vertical-align: middle;\n",
       "    }\n",
       "\n",
       "    .dataframe tbody tr th {\n",
       "        vertical-align: top;\n",
       "    }\n",
       "\n",
       "    .dataframe thead th {\n",
       "        text-align: right;\n",
       "    }\n",
       "</style>\n",
       "<table border=\"1\" class=\"dataframe\">\n",
       "  <thead>\n",
       "    <tr style=\"text-align: right;\">\n",
       "      <th></th>\n",
       "      <th>Category</th>\n",
       "      <th>Rating Count</th>\n",
       "      <th>Installs</th>\n",
       "      <th>Free</th>\n",
       "      <th>Last Updated</th>\n",
       "      <th>Content Rating</th>\n",
       "      <th>Ad Supported</th>\n",
       "      <th>In App Purchases</th>\n",
       "      <th>Editors Choice</th>\n",
       "    </tr>\n",
       "  </thead>\n",
       "  <tbody>\n",
       "    <tr>\n",
       "      <th>0</th>\n",
       "      <td>Personalization</td>\n",
       "      <td>73806.0</td>\n",
       "      <td>5,000,000+</td>\n",
       "      <td>True</td>\n",
       "      <td>2020-03-21 18:49:16</td>\n",
       "      <td>Everyone</td>\n",
       "      <td>False</td>\n",
       "      <td>False</td>\n",
       "      <td>False</td>\n",
       "    </tr>\n",
       "    <tr>\n",
       "      <th>1</th>\n",
       "      <td>Education</td>\n",
       "      <td>227.0</td>\n",
       "      <td>10,000+</td>\n",
       "      <td>True</td>\n",
       "      <td>2020-07-10 20:59:19</td>\n",
       "      <td>Everyone</td>\n",
       "      <td>False</td>\n",
       "      <td>False</td>\n",
       "      <td>False</td>\n",
       "    </tr>\n",
       "    <tr>\n",
       "      <th>2</th>\n",
       "      <td>Simulation</td>\n",
       "      <td>33.0</td>\n",
       "      <td>1,000+</td>\n",
       "      <td>True</td>\n",
       "      <td>2020-05-01 16:59:24</td>\n",
       "      <td>Teen</td>\n",
       "      <td>True</td>\n",
       "      <td>False</td>\n",
       "      <td>False</td>\n",
       "    </tr>\n",
       "    <tr>\n",
       "      <th>3</th>\n",
       "      <td>Education</td>\n",
       "      <td>34.0</td>\n",
       "      <td>1,000+</td>\n",
       "      <td>True</td>\n",
       "      <td>2019-03-11 13:58:28</td>\n",
       "      <td>Everyone</td>\n",
       "      <td>True</td>\n",
       "      <td>False</td>\n",
       "      <td>False</td>\n",
       "    </tr>\n",
       "    <tr>\n",
       "      <th>4</th>\n",
       "      <td>Books &amp; Reference</td>\n",
       "      <td>98.0</td>\n",
       "      <td>10,000+</td>\n",
       "      <td>True</td>\n",
       "      <td>2020-04-09 10:35:46</td>\n",
       "      <td>Teen</td>\n",
       "      <td>True</td>\n",
       "      <td>False</td>\n",
       "      <td>False</td>\n",
       "    </tr>\n",
       "    <tr>\n",
       "      <th>...</th>\n",
       "      <td>...</td>\n",
       "      <td>...</td>\n",
       "      <td>...</td>\n",
       "      <td>...</td>\n",
       "      <td>...</td>\n",
       "      <td>...</td>\n",
       "      <td>...</td>\n",
       "      <td>...</td>\n",
       "      <td>...</td>\n",
       "    </tr>\n",
       "    <tr>\n",
       "      <th>46917</th>\n",
       "      <td>Education</td>\n",
       "      <td>431.0</td>\n",
       "      <td>10,000+</td>\n",
       "      <td>True</td>\n",
       "      <td>2020-07-02 07:14:41</td>\n",
       "      <td>Everyone</td>\n",
       "      <td>False</td>\n",
       "      <td>True</td>\n",
       "      <td>False</td>\n",
       "    </tr>\n",
       "    <tr>\n",
       "      <th>46918</th>\n",
       "      <td>Educational</td>\n",
       "      <td>199.0</td>\n",
       "      <td>100,000+</td>\n",
       "      <td>True</td>\n",
       "      <td>2020-03-23 14:30:59</td>\n",
       "      <td>Everyone</td>\n",
       "      <td>True</td>\n",
       "      <td>True</td>\n",
       "      <td>False</td>\n",
       "    </tr>\n",
       "    <tr>\n",
       "      <th>46919</th>\n",
       "      <td>Tools</td>\n",
       "      <td>33.0</td>\n",
       "      <td>1,000+</td>\n",
       "      <td>True</td>\n",
       "      <td>2020-01-16 18:56:10</td>\n",
       "      <td>Everyone</td>\n",
       "      <td>False</td>\n",
       "      <td>False</td>\n",
       "      <td>False</td>\n",
       "    </tr>\n",
       "    <tr>\n",
       "      <th>46920</th>\n",
       "      <td>Lifestyle</td>\n",
       "      <td>52.0</td>\n",
       "      <td>10,000+</td>\n",
       "      <td>True</td>\n",
       "      <td>2020-02-13 21:09:45</td>\n",
       "      <td>Everyone</td>\n",
       "      <td>False</td>\n",
       "      <td>False</td>\n",
       "      <td>False</td>\n",
       "    </tr>\n",
       "    <tr>\n",
       "      <th>46921</th>\n",
       "      <td>Entertainment</td>\n",
       "      <td>49.0</td>\n",
       "      <td>5,000+</td>\n",
       "      <td>True</td>\n",
       "      <td>2013-12-25 23:45:51</td>\n",
       "      <td>Unrated</td>\n",
       "      <td>True</td>\n",
       "      <td>False</td>\n",
       "      <td>False</td>\n",
       "    </tr>\n",
       "  </tbody>\n",
       "</table>\n",
       "<p>46922 rows × 9 columns</p>\n",
       "</div>"
      ],
      "text/plain": [
       "                Category  Rating Count    Installs  Free         Last Updated  \\\n",
       "0        Personalization       73806.0  5,000,000+  True  2020-03-21 18:49:16   \n",
       "1              Education         227.0     10,000+  True  2020-07-10 20:59:19   \n",
       "2             Simulation          33.0      1,000+  True  2020-05-01 16:59:24   \n",
       "3              Education          34.0      1,000+  True  2019-03-11 13:58:28   \n",
       "4      Books & Reference          98.0     10,000+  True  2020-04-09 10:35:46   \n",
       "...                  ...           ...         ...   ...                  ...   \n",
       "46917          Education         431.0     10,000+  True  2020-07-02 07:14:41   \n",
       "46918        Educational         199.0    100,000+  True  2020-03-23 14:30:59   \n",
       "46919              Tools          33.0      1,000+  True  2020-01-16 18:56:10   \n",
       "46920          Lifestyle          52.0     10,000+  True  2020-02-13 21:09:45   \n",
       "46921      Entertainment          49.0      5,000+  True  2013-12-25 23:45:51   \n",
       "\n",
       "      Content Rating  Ad Supported  In App Purchases  Editors Choice  \n",
       "0           Everyone         False             False           False  \n",
       "1           Everyone         False             False           False  \n",
       "2               Teen          True             False           False  \n",
       "3           Everyone          True             False           False  \n",
       "4               Teen          True             False           False  \n",
       "...              ...           ...               ...             ...  \n",
       "46917       Everyone         False              True           False  \n",
       "46918       Everyone          True              True           False  \n",
       "46919       Everyone         False             False           False  \n",
       "46920       Everyone         False             False           False  \n",
       "46921        Unrated          True             False           False  \n",
       "\n",
       "[46922 rows x 9 columns]"
      ]
     },
     "execution_count": 85,
     "metadata": {},
     "output_type": "execute_result"
    }
   ],
   "source": [
    "pred_clean = pred.drop(\n",
    "    columns=[\n",
    "        'App Name', 'App Id', 'Developer Id', 'Developer Website', 'Developer Email', 'Currency', 'Size',\n",
    "        'Released', 'Privacy Policy','Price', 'Minimum Installs', 'Minimum Android', 'Maximum Installs'\n",
    "    ],\n",
    "    axis = 1\n",
    ")\n",
    "\n",
    "pred_clean"
   ]
  },
  {
   "cell_type": "markdown",
   "metadata": {},
   "source": [
    "T2.2 결측값 확인"
   ]
  },
  {
   "cell_type": "code",
   "execution_count": 86,
   "metadata": {},
   "outputs": [
    {
     "data": {
      "text/plain": [
       "Category            0\n",
       "Rating Count        0\n",
       "Installs            0\n",
       "Free                0\n",
       "Last Updated        0\n",
       "Content Rating      0\n",
       "Ad Supported        0\n",
       "In App Purchases    0\n",
       "Editors Choice      0\n",
       "dtype: int64"
      ]
     },
     "execution_count": 86,
     "metadata": {},
     "output_type": "execute_result"
    }
   ],
   "source": [
    "pred_clean.isnull().sum()"
   ]
  },
  {
   "cell_type": "markdown",
   "metadata": {},
   "source": [
    "결측치가 없으므로 결측값 처리는 생략한다."
   ]
  },
  {
   "cell_type": "markdown",
   "metadata": {},
   "source": [
    "T3 데이터 정제"
   ]
  },
  {
   "cell_type": "code",
   "execution_count": 89,
   "metadata": {},
   "outputs": [
    {
     "data": {
      "text/plain": [
       "0"
      ]
     },
     "execution_count": 89,
     "metadata": {},
     "output_type": "execute_result"
    }
   ],
   "source": [
    "# Rating Count 값이 0인 데이터의 개수를 출력합니다.\n",
    "# 값이 0인 경우는 없습니다.\n",
    "len(pred_clean[pred_clean['Rating Count'] == 0])"
   ]
  },
  {
   "cell_type": "code",
   "execution_count": 90,
   "metadata": {},
   "outputs": [],
   "source": [
    "# 'Rating Count' 값이 10보다 큰 경우 부터 의미 있는 데이터로 생각하고 10보다 작은 데이터는 삭제합니다.\n",
    "pred_clean = pred_clean[pred_clean['Rating Count'] > 10]"
   ]
  },
  {
   "cell_type": "code",
   "execution_count": 93,
   "metadata": {},
   "outputs": [
    {
     "name": "stderr",
     "output_type": "stream",
     "text": [
      "C:\\Users\\3balb\\AppData\\Local\\Temp\\ipykernel_10380\\3366456747.py:14: UserWarning: FigureCanvasAgg is non-interactive, and thus cannot be shown\n",
      "  fig.show()\n"
     ]
    },
    {
     "data": {
      "image/png": "[encoded data removed]",
      "text/plain": [
       "<Figure size 2000x1000 with 1 Axes>"
      ]
     },
     "metadata": {},
     "output_type": "display_data"
    }
   ],
   "source": [
    "# Rating Count를 10개 단위로 나누어서 확인해본다\n",
    "# Rating Count를 10단위로 분리하기 위해서 pd.cut을 사용한다.\n",
    "\n",
    "import matplotlib.pyplot as plt\n",
    "pred_cut_rating = pd.cut(pred_clean['Rating Count'], np.arange(0, 200, 10)).value_counts(sort=False)\n",
    "\n",
    "# 히스토그램 출력\n",
    "fig, ax = plt.subplots(figsize=(20, 10))\n",
    "ax.bar(range(len(pred_cut_rating)), pred_cut_rating)\n",
    "\n",
    "# X축 표기를 위한 세팅\n",
    "ax.set_xticks(range(len(pred_cut_rating)))\n",
    "ax.set_xticklabels(pred_cut_rating.index)\n",
    "fig.show()"
   ]
  },
  {
   "cell_type": "markdown",
   "metadata": {},
   "source": [
    "T3.2 Installs 시각화"
   ]
  },
  {
   "cell_type": "code",
   "execution_count": 94,
   "metadata": {},
   "outputs": [
    {
     "data": {
      "text/plain": [
       "<Axes: xlabel='Installs'>"
      ]
     },
     "execution_count": 94,
     "metadata": {},
     "output_type": "execute_result"
    },
    {
     "data": {
      "image/png": "[encoded data removed]",
      "text/plain": [
       "<Figure size 640x480 with 1 Axes>"
      ]
     },
     "metadata": {},
     "output_type": "display_data"
    }
   ],
   "source": [
    "# 분포 막대 그래프를 사용하여 출력합니다.\n",
    "pred_clean['Installs'].value_counts().plot(kind='bar')"
   ]
  },
  {
   "cell_type": "code",
   "execution_count": 95,
   "metadata": {},
   "outputs": [],
   "source": [
    "# 문자열 데이터를 수치 자료형으로 변환합니다.\n",
    "# + 삭제, 쉽표 삭제, int형 변화\n",
    "\n",
    "for element in set(pred_clean['Installs']):\n",
    "    pred_clean = pred_clean.replace(element, int(element.split('+')[0].replace(',', '')))"
   ]
  },
  {
   "cell_type": "code",
   "execution_count": 96,
   "metadata": {},
   "outputs": [
    {
     "data": {
      "text/plain": [
       "<Axes: xlabel='Installs'>"
      ]
     },
     "execution_count": 96,
     "metadata": {},
     "output_type": "execute_result"
    },
    {
     "data": {
      "image/png": "[encoded data removed]",
      "text/plain": [
       "<Figure size 640x480 with 1 Axes>"
      ]
     },
     "metadata": {},
     "output_type": "display_data"
    }
   ],
   "source": [
    "# 변환된 분포를 막대 그래프를 사용하여 출력합니다.\n",
    "pred_clean['Installs'].value_counts().sort_index(ascending=True).plot(kind='bar')"
   ]
  },
  {
   "cell_type": "markdown",
   "metadata": {},
   "source": [
    "위 분포에서 양쪽 끝의 데이터들이 너무 작기에 이를 추가로 삭제합니다.\n",
    "\n",
    "5천만회 이상 설치한 앱의 개수를 모두 천만회 이상 설치한 앱의 개수로 통합합니다.\n",
    "\n",
    "즉, 다른 말로 하면 5천만회 이상 설치, 1억회 이상 설치, 5억회 이상 설치한 앱의 `Installs` 값을 천만으로 변경합니다."
   ]
  },
  {
   "cell_type": "code",
   "execution_count": 98,
   "metadata": {},
   "outputs": [
    {
     "data": {
      "text/html": [
       "<div>\n",
       "<style scoped>\n",
       "    .dataframe tbody tr th:only-of-type {\n",
       "        vertical-align: middle;\n",
       "    }\n",
       "\n",
       "    .dataframe tbody tr th {\n",
       "        vertical-align: top;\n",
       "    }\n",
       "\n",
       "    .dataframe thead th {\n",
       "        text-align: right;\n",
       "    }\n",
       "</style>\n",
       "<table border=\"1\" class=\"dataframe\">\n",
       "  <thead>\n",
       "    <tr style=\"text-align: right;\">\n",
       "      <th></th>\n",
       "      <th>Category</th>\n",
       "      <th>Rating Count</th>\n",
       "      <th>Installs</th>\n",
       "      <th>Free</th>\n",
       "      <th>Last Updated</th>\n",
       "      <th>Content Rating</th>\n",
       "      <th>Ad Supported</th>\n",
       "      <th>In App Purchases</th>\n",
       "      <th>Editors Choice</th>\n",
       "    </tr>\n",
       "  </thead>\n",
       "  <tbody>\n",
       "    <tr>\n",
       "      <th>85</th>\n",
       "      <td>Adventure</td>\n",
       "      <td>604323.0</td>\n",
       "      <td>10000000</td>\n",
       "      <td>True</td>\n",
       "      <td>2020-07-03 15:16:44</td>\n",
       "      <td>Teen</td>\n",
       "      <td>True</td>\n",
       "      <td>True</td>\n",
       "      <td>False</td>\n",
       "    </tr>\n",
       "    <tr>\n",
       "      <th>233</th>\n",
       "      <td>Health &amp; Fitness</td>\n",
       "      <td>148088.0</td>\n",
       "      <td>10000000</td>\n",
       "      <td>True</td>\n",
       "      <td>2018-09-07 17:47:38</td>\n",
       "      <td>Everyone</td>\n",
       "      <td>True</td>\n",
       "      <td>True</td>\n",
       "      <td>False</td>\n",
       "    </tr>\n",
       "    <tr>\n",
       "      <th>305</th>\n",
       "      <td>Card</td>\n",
       "      <td>1303673.0</td>\n",
       "      <td>10000000</td>\n",
       "      <td>True</td>\n",
       "      <td>2020-07-21 16:29:35</td>\n",
       "      <td>Everyone</td>\n",
       "      <td>True</td>\n",
       "      <td>True</td>\n",
       "      <td>False</td>\n",
       "    </tr>\n",
       "    <tr>\n",
       "      <th>369</th>\n",
       "      <td>Travel &amp; Local</td>\n",
       "      <td>861788.0</td>\n",
       "      <td>10000000</td>\n",
       "      <td>True</td>\n",
       "      <td>2020-07-21 02:32:08</td>\n",
       "      <td>Everyone</td>\n",
       "      <td>False</td>\n",
       "      <td>False</td>\n",
       "      <td>False</td>\n",
       "    </tr>\n",
       "    <tr>\n",
       "      <th>377</th>\n",
       "      <td>Casino</td>\n",
       "      <td>1683884.0</td>\n",
       "      <td>10000000</td>\n",
       "      <td>True</td>\n",
       "      <td>2020-07-19 23:38:08</td>\n",
       "      <td>Teen</td>\n",
       "      <td>True</td>\n",
       "      <td>True</td>\n",
       "      <td>False</td>\n",
       "    </tr>\n",
       "    <tr>\n",
       "      <th>...</th>\n",
       "      <td>...</td>\n",
       "      <td>...</td>\n",
       "      <td>...</td>\n",
       "      <td>...</td>\n",
       "      <td>...</td>\n",
       "      <td>...</td>\n",
       "      <td>...</td>\n",
       "      <td>...</td>\n",
       "      <td>...</td>\n",
       "    </tr>\n",
       "    <tr>\n",
       "      <th>46760</th>\n",
       "      <td>Productivity</td>\n",
       "      <td>299826.0</td>\n",
       "      <td>10000000</td>\n",
       "      <td>True</td>\n",
       "      <td>2020-07-14 16:59:45</td>\n",
       "      <td>Everyone</td>\n",
       "      <td>False</td>\n",
       "      <td>False</td>\n",
       "      <td>False</td>\n",
       "    </tr>\n",
       "    <tr>\n",
       "      <th>46791</th>\n",
       "      <td>Casual</td>\n",
       "      <td>56663.0</td>\n",
       "      <td>10000000</td>\n",
       "      <td>True</td>\n",
       "      <td>2020-06-24 12:06:41</td>\n",
       "      <td>Everyone</td>\n",
       "      <td>True</td>\n",
       "      <td>False</td>\n",
       "      <td>False</td>\n",
       "    </tr>\n",
       "    <tr>\n",
       "      <th>46800</th>\n",
       "      <td>Communication</td>\n",
       "      <td>126267.0</td>\n",
       "      <td>10000000</td>\n",
       "      <td>True</td>\n",
       "      <td>2020-01-29 17:14:22</td>\n",
       "      <td>Everyone</td>\n",
       "      <td>False</td>\n",
       "      <td>False</td>\n",
       "      <td>False</td>\n",
       "    </tr>\n",
       "    <tr>\n",
       "      <th>46807</th>\n",
       "      <td>Music &amp; Audio</td>\n",
       "      <td>366870.0</td>\n",
       "      <td>10000000</td>\n",
       "      <td>True</td>\n",
       "      <td>2020-07-20 19:59:50</td>\n",
       "      <td>Teen</td>\n",
       "      <td>True</td>\n",
       "      <td>True</td>\n",
       "      <td>True</td>\n",
       "    </tr>\n",
       "    <tr>\n",
       "      <th>46862</th>\n",
       "      <td>Simulation</td>\n",
       "      <td>108801.0</td>\n",
       "      <td>10000000</td>\n",
       "      <td>True</td>\n",
       "      <td>2020-07-20 09:31:09</td>\n",
       "      <td>Everyone</td>\n",
       "      <td>True</td>\n",
       "      <td>True</td>\n",
       "      <td>False</td>\n",
       "    </tr>\n",
       "  </tbody>\n",
       "</table>\n",
       "<p>933 rows × 9 columns</p>\n",
       "</div>"
      ],
      "text/plain": [
       "               Category  Rating Count  Installs  Free         Last Updated  \\\n",
       "85            Adventure      604323.0  10000000  True  2020-07-03 15:16:44   \n",
       "233    Health & Fitness      148088.0  10000000  True  2018-09-07 17:47:38   \n",
       "305                Card     1303673.0  10000000  True  2020-07-21 16:29:35   \n",
       "369      Travel & Local      861788.0  10000000  True  2020-07-21 02:32:08   \n",
       "377              Casino     1683884.0  10000000  True  2020-07-19 23:38:08   \n",
       "...                 ...           ...       ...   ...                  ...   \n",
       "46760      Productivity      299826.0  10000000  True  2020-07-14 16:59:45   \n",
       "46791            Casual       56663.0  10000000  True  2020-06-24 12:06:41   \n",
       "46800     Communication      126267.0  10000000  True  2020-01-29 17:14:22   \n",
       "46807     Music & Audio      366870.0  10000000  True  2020-07-20 19:59:50   \n",
       "46862        Simulation      108801.0  10000000  True  2020-07-20 09:31:09   \n",
       "\n",
       "      Content Rating  Ad Supported  In App Purchases  Editors Choice  \n",
       "85              Teen          True              True           False  \n",
       "233         Everyone          True              True           False  \n",
       "305         Everyone          True              True           False  \n",
       "369         Everyone         False             False           False  \n",
       "377             Teen          True              True           False  \n",
       "...              ...           ...               ...             ...  \n",
       "46760       Everyone         False             False           False  \n",
       "46791       Everyone          True             False           False  \n",
       "46800       Everyone         False             False           False  \n",
       "46807           Teen          True              True            True  \n",
       "46862       Everyone          True              True           False  \n",
       "\n",
       "[933 rows x 9 columns]"
      ]
     },
     "execution_count": 98,
     "metadata": {},
     "output_type": "execute_result"
    }
   ],
   "source": [
    "pred_clean.loc[pred_clean['Installs'] >= 5e7, 'Installs'] = 1e7\n",
    "pred_clean[pred_clean['Installs'] >= 1e7]"
   ]
  },
  {
   "cell_type": "markdown",
   "metadata": {},
   "source": [
    "반대로 1000회 이상 설치보다 적은 설치횟수를 가지는 앱들은 데이터에서 제거합니다."
   ]
  },
  {
   "cell_type": "code",
   "execution_count": 99,
   "metadata": {},
   "outputs": [],
   "source": [
    "# 1000회 이상 설치되지 못한 앱들 데이터는 삭제\n",
    "pred_clean = pred_clean.drop(pred_clean[pred_clean['Installs'] < 1000].index)"
   ]
  },
  {
   "cell_type": "code",
   "execution_count": 100,
   "metadata": {},
   "outputs": [
    {
     "data": {
      "text/plain": [
       "<Axes: xlabel='Installs'>"
      ]
     },
     "execution_count": 100,
     "metadata": {},
     "output_type": "execute_result"
    },
    {
     "data": {
      "image/png": "[encoded data removed]",
      "text/plain": [
       "<Figure size 640x480 with 1 Axes>"
      ]
     },
     "metadata": {},
     "output_type": "display_data"
    }
   ],
   "source": [
    "# 다시 분포를 출력합니다.\n",
    "pred_clean['Installs'].value_counts().sort_index(ascending=True).plot(kind='bar')"
   ]
  },
  {
   "cell_type": "markdown",
   "metadata": {},
   "source": [
    "T3.3 Free 시각화\n",
    "\n",
    "앱이 무료인지 여부를 알려주는 변수 free를 시각화 해봅니다"
   ]
  },
  {
   "cell_type": "code",
   "execution_count": 103,
   "metadata": {},
   "outputs": [
    {
     "data": {
      "text/plain": [
       "<Axes: xlabel='Free'>"
      ]
     },
     "execution_count": 103,
     "metadata": {},
     "output_type": "execute_result"
    },
    {
     "data": {
      "image/png": "[encoded data removed]",
      "text/plain": [
       "<Figure size 640x480 with 1 Axes>"
      ]
     },
     "metadata": {},
     "output_type": "display_data"
    }
   ],
   "source": [
    "# 분포를 막대 그래프를 사용하여 출력합니다.\n",
    "pred_clean['Free'].value_counts().plot(kind='bar')"
   ]
  },
  {
   "cell_type": "markdown",
   "metadata": {},
   "source": [
    " T3.4 Last Updated 시각화"
   ]
  },
  {
   "cell_type": "code",
   "execution_count": 107,
   "metadata": {},
   "outputs": [
    {
     "data": {
      "text/plain": [
       "Last Updated\n",
       "2020-07-10 00:26:36    2\n",
       "2020-07-17 12:40:11    2\n",
       "2020-07-10 12:34:29    2\n",
       "2020-07-17 03:10:57    2\n",
       "2020-07-18 03:03:51    2\n",
       "                      ..\n",
       "2019-05-28 18:11:20    1\n",
       "2020-07-07 21:31:21    1\n",
       "2019-01-19 02:54:02    1\n",
       "2020-07-14 22:16:08    1\n",
       "2013-12-25 23:45:51    1\n",
       "Name: count, Length: 44873, dtype: int64"
      ]
     },
     "execution_count": 107,
     "metadata": {},
     "output_type": "execute_result"
    }
   ],
   "source": [
    "#분표를 도수분표료로 확인합니다.\n",
    "\n",
    "pred_clean['Last Updated'].value_counts()"
   ]
  },
  {
   "cell_type": "code",
   "execution_count": 108,
   "metadata": {},
   "outputs": [],
   "source": [
    "# 날짜와 시간 정보인 Last Updated를 가공하여 2020년에 업데이트가 이루어졌는지 여부를 저장하는 변수를 만들겠습니다.\n",
    "pred_clean['2020 Updated'] = [date.split('-')[0] == '2020' for date in pred_clean['Last Updated']]\n",
    "\n",
    "# Last Updated 변수를 제거합니다.\n",
    "pred_clean = pred_clean.drop('Last Updated', axis=1)"
   ]
  },
  {
   "cell_type": "code",
   "execution_count": 110,
   "metadata": {},
   "outputs": [
    {
     "data": {
      "text/plain": [
       "<Axes: xlabel='2020 Updated'>"
      ]
     },
     "execution_count": 110,
     "metadata": {},
     "output_type": "execute_result"
    },
    {
     "data": {
      "image/png": "[encoded data removed]",
      "text/plain": [
       "<Figure size 640x480 with 1 Axes>"
      ]
     },
     "metadata": {},
     "output_type": "display_data"
    }
   ],
   "source": [
    "# 분포를 막대 그래프를 사용하여 출력합니다.\n",
    "pred_clean['2020 Updated'].value_counts().plot(kind='bar')"
   ]
  },
  {
   "cell_type": "markdown",
   "metadata": {},
   "source": [
    "### T3.5 Content Rating 시각화"
   ]
  },
  {
   "cell_type": "code",
   "execution_count": 112,
   "metadata": {},
   "outputs": [
    {
     "data": {
      "text/plain": [
       "<Axes: xlabel='Content Rating'>"
      ]
     },
     "execution_count": 112,
     "metadata": {},
     "output_type": "execute_result"
    },
    {
     "data": {
      "image/png": "[encoded data removed]",
      "text/plain": [
       "<Figure size 640x480 with 1 Axes>"
      ]
     },
     "metadata": {},
     "output_type": "display_data"
    }
   ],
   "source": [
    "#분포를 막대 그래프를 사용하여 출력합니다. \n",
    "\n",
    "import matplotlib.pyplot as plt\n",
    "pred_clean['Content Rating'].value_counts().plot(kind='bar')"
   ]
  },
  {
   "cell_type": "code",
   "execution_count": 113,
   "metadata": {},
   "outputs": [
    {
     "name": "stdout",
     "output_type": "stream",
     "text": [
      "<class 'pandas.core.frame.DataFrame'>\n",
      "Index: 44910 entries, 0 to 46921\n",
      "Data columns (total 9 columns):\n",
      " #   Column            Non-Null Count  Dtype  \n",
      "---  ------            --------------  -----  \n",
      " 0   Category          44910 non-null  object \n",
      " 1   Rating Count      44910 non-null  float64\n",
      " 2   Installs          44910 non-null  int64  \n",
      " 3   Free              44910 non-null  bool   \n",
      " 4   Content Rating    44910 non-null  object \n",
      " 5   Ad Supported      44910 non-null  bool   \n",
      " 6   In App Purchases  44910 non-null  bool   \n",
      " 7   Editors Choice    44910 non-null  bool   \n",
      " 8   2020 Updated      44910 non-null  bool   \n",
      "dtypes: bool(5), float64(1), int64(1), object(2)\n",
      "memory usage: 1.9+ MB\n"
     ]
    }
   ],
   "source": [
    "pred_clean.info()"
   ]
  },
  {
   "cell_type": "markdown",
   "metadata": {},
   "source": [
    "### 4. 데이터 전처리"
   ]
  },
  {
   "cell_type": "markdown",
   "metadata": {},
   "source": [
    "앱 평점 예측을 수행하기 위해서 주어진 구글 앱 데이터에 대해서 회귀 모델을 사용할 것입니다.\n",
    "\n",
    "이번 파트에서는 11개의 변수만을 사용하여 예측을 수행하지만, 나머지 12개의 변수들을 추가하여 입력 데이터를 확장할 수 있습니다.\n",
    "\n",
    "회귀 모델의 필요한 입력 데이터를 준비하기 위해서 다음과 같은 전처리를 수행하겠습니다.\n",
    "\n",
    "1. 카테고리형 변수를 수치 변수로 변환하기\n",
    "2. 학습 데이터와 테스트 데이터로 나누기\n",
    "3. 입력 변수들의 값의 크기 범위를 조정하기 위한 정규화"
   ]
  },
  {
   "cell_type": "markdown",
   "metadata": {},
   "source": [
    "### 4.1. 가변수(Dummy Variable)를 활용하여 카테고리형 변수를 수치형으로 변환\n",
    "\n",
    "머신러닝 모델은 수치형 데이터만을 입력으로 받을 수 있습니다. 그러나 본 데이터의 `Content Rating` 변수처럼 카테고리로 나눠진 변수도 있고, 이들이 우리가 예측하길 원하는 변수와 관련이 깊을 수도 있습니다.\n",
    "\n",
    "따라서 이러한 카테고리형 변수를 수치형 변수로 바꿔주는 과정이 필요합니다. 이를 위한 기법에는 대표적으로 아래와 같은 것들이 있습니다.\n",
    "- 카테고리 별로 정수 할당: `Content Rating` 변수를 예로 들면 `Everyone`에는 0, `Teen`에는 1 과 같은 방식입니다.\n",
    "- One-hot Encoding\n",
    "    - `Content Rating`의 개수가 5개라고 가정하면 row 하나당 길이 5짜리 벡터를 만들고 0으로 초기화 합니다. (`[0, 0, 0, 0, 0]`)\n",
    "    - 각 row가 속한 카테고리의 위치에만 1을 표기합니다. 맨 처음이 `Everyone`을 의미하고, 현재 row가 `Everyone`이라면 `[1, 0, 0, 0, 0]` 과 같이 됩니다.\n",
    "\n",
    "\n",
    "어느 방법을 쓰든 무방하지만, pandas에서는 one-hot encoding을 손쉽게 만들어주는 `get_dummies()`라는 함수가 존재합니다.\n",
    "\n",
    "이 함수는 앞서 말한 one-hot encoding을 위한 가변수를 생성해줍니다. 가령 `Content Rating`에 있는 값이 `Everyone`과 `Teen` 뿐이었다고 가정했을 때, `get_dummies()`를 적용하면 아래와 같은 가변수가 생성됩니다.\n",
    "- `Content Rating_Everyone`\n",
    "- `Content Rating_Teen`\n",
    "\n",
    "그러면 값이 `Everyone`이었던 row는 새로 생성된 `Content Rating_Everyone` 변수의 값이 1이 되는 형식입니다. 이러면서 기존에 있던 `Content Rating`이라는 변수 자체는 사라지게 됩니다.\n",
    "\n",
    "이번 실습에서는 위의 함수를 통해 `Content Rating` 변수에 one-hot encoding을 적용해보도록 하겠습니다."
   ]
  },
  {
   "cell_type": "code",
   "execution_count": 115,
   "metadata": {},
   "outputs": [],
   "source": [
    "# 먼저 True, False 값을 가지는 변수는 replace를 사용하여 0, 1로 변환 합니다.\n",
    "pred_clean = pred_clean.replace([True, False], [1, 0])"
   ]
  },
  {
   "cell_type": "code",
   "execution_count": 117,
   "metadata": {},
   "outputs": [
    {
     "name": "stdout",
     "output_type": "stream",
     "text": [
      "<class 'pandas.core.frame.DataFrame'>\n",
      "Index: 44910 entries, 0 to 46921\n",
      "Data columns (total 9 columns):\n",
      " #   Column            Non-Null Count  Dtype  \n",
      "---  ------            --------------  -----  \n",
      " 0   Category          44910 non-null  object \n",
      " 1   Rating Count      44910 non-null  float64\n",
      " 2   Installs          44910 non-null  int64  \n",
      " 3   Free              44910 non-null  int64  \n",
      " 4   Content Rating    44910 non-null  object \n",
      " 5   Ad Supported      44910 non-null  int64  \n",
      " 6   In App Purchases  44910 non-null  int64  \n",
      " 7   Editors Choice    44910 non-null  int64  \n",
      " 8   2020 Updated      44910 non-null  int64  \n",
      "dtypes: float64(1), int64(6), object(2)\n",
      "memory usage: 3.4+ MB\n"
     ]
    }
   ],
   "source": [
    "# 다음으로 현재 카테고리형 변수가 어떤 것들이 있는지 확인해봅니다.\n",
    "pred_clean.info()"
   ]
  },
  {
   "cell_type": "code",
   "execution_count": 118,
   "metadata": {},
   "outputs": [
    {
     "data": {
      "text/html": [
       "<div>\n",
       "<style scoped>\n",
       "    .dataframe tbody tr th:only-of-type {\n",
       "        vertical-align: middle;\n",
       "    }\n",
       "\n",
       "    .dataframe tbody tr th {\n",
       "        vertical-align: top;\n",
       "    }\n",
       "\n",
       "    .dataframe thead th {\n",
       "        text-align: right;\n",
       "    }\n",
       "</style>\n",
       "<table border=\"1\" class=\"dataframe\">\n",
       "  <thead>\n",
       "    <tr style=\"text-align: right;\">\n",
       "      <th></th>\n",
       "      <th>Rating Count</th>\n",
       "      <th>Installs</th>\n",
       "      <th>Free</th>\n",
       "      <th>Ad Supported</th>\n",
       "      <th>In App Purchases</th>\n",
       "      <th>Editors Choice</th>\n",
       "      <th>2020 Updated</th>\n",
       "      <th>Category_Action</th>\n",
       "      <th>Category_Adventure</th>\n",
       "      <th>Category_Arcade</th>\n",
       "      <th>...</th>\n",
       "      <th>Category_Trivia</th>\n",
       "      <th>Category_Video Players &amp; Editors</th>\n",
       "      <th>Category_Weather</th>\n",
       "      <th>Category_Word</th>\n",
       "      <th>Content Rating_Adults only 18+</th>\n",
       "      <th>Content Rating_Everyone</th>\n",
       "      <th>Content Rating_Everyone 10+</th>\n",
       "      <th>Content Rating_Mature 17+</th>\n",
       "      <th>Content Rating_Teen</th>\n",
       "      <th>Content Rating_Unrated</th>\n",
       "    </tr>\n",
       "  </thead>\n",
       "  <tbody>\n",
       "    <tr>\n",
       "      <th>0</th>\n",
       "      <td>73806.0</td>\n",
       "      <td>5000000</td>\n",
       "      <td>1</td>\n",
       "      <td>0</td>\n",
       "      <td>0</td>\n",
       "      <td>0</td>\n",
       "      <td>1</td>\n",
       "      <td>False</td>\n",
       "      <td>False</td>\n",
       "      <td>False</td>\n",
       "      <td>...</td>\n",
       "      <td>False</td>\n",
       "      <td>False</td>\n",
       "      <td>False</td>\n",
       "      <td>False</td>\n",
       "      <td>False</td>\n",
       "      <td>True</td>\n",
       "      <td>False</td>\n",
       "      <td>False</td>\n",
       "      <td>False</td>\n",
       "      <td>False</td>\n",
       "    </tr>\n",
       "    <tr>\n",
       "      <th>1</th>\n",
       "      <td>227.0</td>\n",
       "      <td>10000</td>\n",
       "      <td>1</td>\n",
       "      <td>0</td>\n",
       "      <td>0</td>\n",
       "      <td>0</td>\n",
       "      <td>1</td>\n",
       "      <td>False</td>\n",
       "      <td>False</td>\n",
       "      <td>False</td>\n",
       "      <td>...</td>\n",
       "      <td>False</td>\n",
       "      <td>False</td>\n",
       "      <td>False</td>\n",
       "      <td>False</td>\n",
       "      <td>False</td>\n",
       "      <td>True</td>\n",
       "      <td>False</td>\n",
       "      <td>False</td>\n",
       "      <td>False</td>\n",
       "      <td>False</td>\n",
       "    </tr>\n",
       "    <tr>\n",
       "      <th>2</th>\n",
       "      <td>33.0</td>\n",
       "      <td>1000</td>\n",
       "      <td>1</td>\n",
       "      <td>1</td>\n",
       "      <td>0</td>\n",
       "      <td>0</td>\n",
       "      <td>1</td>\n",
       "      <td>False</td>\n",
       "      <td>False</td>\n",
       "      <td>False</td>\n",
       "      <td>...</td>\n",
       "      <td>False</td>\n",
       "      <td>False</td>\n",
       "      <td>False</td>\n",
       "      <td>False</td>\n",
       "      <td>False</td>\n",
       "      <td>False</td>\n",
       "      <td>False</td>\n",
       "      <td>False</td>\n",
       "      <td>True</td>\n",
       "      <td>False</td>\n",
       "    </tr>\n",
       "    <tr>\n",
       "      <th>3</th>\n",
       "      <td>34.0</td>\n",
       "      <td>1000</td>\n",
       "      <td>1</td>\n",
       "      <td>1</td>\n",
       "      <td>0</td>\n",
       "      <td>0</td>\n",
       "      <td>0</td>\n",
       "      <td>False</td>\n",
       "      <td>False</td>\n",
       "      <td>False</td>\n",
       "      <td>...</td>\n",
       "      <td>False</td>\n",
       "      <td>False</td>\n",
       "      <td>False</td>\n",
       "      <td>False</td>\n",
       "      <td>False</td>\n",
       "      <td>True</td>\n",
       "      <td>False</td>\n",
       "      <td>False</td>\n",
       "      <td>False</td>\n",
       "      <td>False</td>\n",
       "    </tr>\n",
       "    <tr>\n",
       "      <th>4</th>\n",
       "      <td>98.0</td>\n",
       "      <td>10000</td>\n",
       "      <td>1</td>\n",
       "      <td>1</td>\n",
       "      <td>0</td>\n",
       "      <td>0</td>\n",
       "      <td>1</td>\n",
       "      <td>False</td>\n",
       "      <td>False</td>\n",
       "      <td>False</td>\n",
       "      <td>...</td>\n",
       "      <td>False</td>\n",
       "      <td>False</td>\n",
       "      <td>False</td>\n",
       "      <td>False</td>\n",
       "      <td>False</td>\n",
       "      <td>False</td>\n",
       "      <td>False</td>\n",
       "      <td>False</td>\n",
       "      <td>True</td>\n",
       "      <td>False</td>\n",
       "    </tr>\n",
       "    <tr>\n",
       "      <th>...</th>\n",
       "      <td>...</td>\n",
       "      <td>...</td>\n",
       "      <td>...</td>\n",
       "      <td>...</td>\n",
       "      <td>...</td>\n",
       "      <td>...</td>\n",
       "      <td>...</td>\n",
       "      <td>...</td>\n",
       "      <td>...</td>\n",
       "      <td>...</td>\n",
       "      <td>...</td>\n",
       "      <td>...</td>\n",
       "      <td>...</td>\n",
       "      <td>...</td>\n",
       "      <td>...</td>\n",
       "      <td>...</td>\n",
       "      <td>...</td>\n",
       "      <td>...</td>\n",
       "      <td>...</td>\n",
       "      <td>...</td>\n",
       "      <td>...</td>\n",
       "    </tr>\n",
       "    <tr>\n",
       "      <th>46917</th>\n",
       "      <td>431.0</td>\n",
       "      <td>10000</td>\n",
       "      <td>1</td>\n",
       "      <td>0</td>\n",
       "      <td>1</td>\n",
       "      <td>0</td>\n",
       "      <td>1</td>\n",
       "      <td>False</td>\n",
       "      <td>False</td>\n",
       "      <td>False</td>\n",
       "      <td>...</td>\n",
       "      <td>False</td>\n",
       "      <td>False</td>\n",
       "      <td>False</td>\n",
       "      <td>False</td>\n",
       "      <td>False</td>\n",
       "      <td>True</td>\n",
       "      <td>False</td>\n",
       "      <td>False</td>\n",
       "      <td>False</td>\n",
       "      <td>False</td>\n",
       "    </tr>\n",
       "    <tr>\n",
       "      <th>46918</th>\n",
       "      <td>199.0</td>\n",
       "      <td>100000</td>\n",
       "      <td>1</td>\n",
       "      <td>1</td>\n",
       "      <td>1</td>\n",
       "      <td>0</td>\n",
       "      <td>1</td>\n",
       "      <td>False</td>\n",
       "      <td>False</td>\n",
       "      <td>False</td>\n",
       "      <td>...</td>\n",
       "      <td>False</td>\n",
       "      <td>False</td>\n",
       "      <td>False</td>\n",
       "      <td>False</td>\n",
       "      <td>False</td>\n",
       "      <td>True</td>\n",
       "      <td>False</td>\n",
       "      <td>False</td>\n",
       "      <td>False</td>\n",
       "      <td>False</td>\n",
       "    </tr>\n",
       "    <tr>\n",
       "      <th>46919</th>\n",
       "      <td>33.0</td>\n",
       "      <td>1000</td>\n",
       "      <td>1</td>\n",
       "      <td>0</td>\n",
       "      <td>0</td>\n",
       "      <td>0</td>\n",
       "      <td>1</td>\n",
       "      <td>False</td>\n",
       "      <td>False</td>\n",
       "      <td>False</td>\n",
       "      <td>...</td>\n",
       "      <td>False</td>\n",
       "      <td>False</td>\n",
       "      <td>False</td>\n",
       "      <td>False</td>\n",
       "      <td>False</td>\n",
       "      <td>True</td>\n",
       "      <td>False</td>\n",
       "      <td>False</td>\n",
       "      <td>False</td>\n",
       "      <td>False</td>\n",
       "    </tr>\n",
       "    <tr>\n",
       "      <th>46920</th>\n",
       "      <td>52.0</td>\n",
       "      <td>10000</td>\n",
       "      <td>1</td>\n",
       "      <td>0</td>\n",
       "      <td>0</td>\n",
       "      <td>0</td>\n",
       "      <td>1</td>\n",
       "      <td>False</td>\n",
       "      <td>False</td>\n",
       "      <td>False</td>\n",
       "      <td>...</td>\n",
       "      <td>False</td>\n",
       "      <td>False</td>\n",
       "      <td>False</td>\n",
       "      <td>False</td>\n",
       "      <td>False</td>\n",
       "      <td>True</td>\n",
       "      <td>False</td>\n",
       "      <td>False</td>\n",
       "      <td>False</td>\n",
       "      <td>False</td>\n",
       "    </tr>\n",
       "    <tr>\n",
       "      <th>46921</th>\n",
       "      <td>49.0</td>\n",
       "      <td>5000</td>\n",
       "      <td>1</td>\n",
       "      <td>1</td>\n",
       "      <td>0</td>\n",
       "      <td>0</td>\n",
       "      <td>0</td>\n",
       "      <td>False</td>\n",
       "      <td>False</td>\n",
       "      <td>False</td>\n",
       "      <td>...</td>\n",
       "      <td>False</td>\n",
       "      <td>False</td>\n",
       "      <td>False</td>\n",
       "      <td>False</td>\n",
       "      <td>False</td>\n",
       "      <td>False</td>\n",
       "      <td>False</td>\n",
       "      <td>False</td>\n",
       "      <td>False</td>\n",
       "      <td>True</td>\n",
       "    </tr>\n",
       "  </tbody>\n",
       "</table>\n",
       "<p>44910 rows × 61 columns</p>\n",
       "</div>"
      ],
      "text/plain": [
       "       Rating Count  Installs  Free  Ad Supported  In App Purchases  \\\n",
       "0           73806.0   5000000     1             0                 0   \n",
       "1             227.0     10000     1             0                 0   \n",
       "2              33.0      1000     1             1                 0   \n",
       "3              34.0      1000     1             1                 0   \n",
       "4              98.0     10000     1             1                 0   \n",
       "...             ...       ...   ...           ...               ...   \n",
       "46917         431.0     10000     1             0                 1   \n",
       "46918         199.0    100000     1             1                 1   \n",
       "46919          33.0      1000     1             0                 0   \n",
       "46920          52.0     10000     1             0                 0   \n",
       "46921          49.0      5000     1             1                 0   \n",
       "\n",
       "       Editors Choice  2020 Updated  Category_Action  Category_Adventure  \\\n",
       "0                   0             1            False               False   \n",
       "1                   0             1            False               False   \n",
       "2                   0             1            False               False   \n",
       "3                   0             0            False               False   \n",
       "4                   0             1            False               False   \n",
       "...               ...           ...              ...                 ...   \n",
       "46917               0             1            False               False   \n",
       "46918               0             1            False               False   \n",
       "46919               0             1            False               False   \n",
       "46920               0             1            False               False   \n",
       "46921               0             0            False               False   \n",
       "\n",
       "       Category_Arcade  ...  Category_Trivia  \\\n",
       "0                False  ...            False   \n",
       "1                False  ...            False   \n",
       "2                False  ...            False   \n",
       "3                False  ...            False   \n",
       "4                False  ...            False   \n",
       "...                ...  ...              ...   \n",
       "46917            False  ...            False   \n",
       "46918            False  ...            False   \n",
       "46919            False  ...            False   \n",
       "46920            False  ...            False   \n",
       "46921            False  ...            False   \n",
       "\n",
       "       Category_Video Players & Editors  Category_Weather  Category_Word  \\\n",
       "0                                 False             False          False   \n",
       "1                                 False             False          False   \n",
       "2                                 False             False          False   \n",
       "3                                 False             False          False   \n",
       "4                                 False             False          False   \n",
       "...                                 ...               ...            ...   \n",
       "46917                             False             False          False   \n",
       "46918                             False             False          False   \n",
       "46919                             False             False          False   \n",
       "46920                             False             False          False   \n",
       "46921                             False             False          False   \n",
       "\n",
       "       Content Rating_Adults only 18+  Content Rating_Everyone  \\\n",
       "0                               False                     True   \n",
       "1                               False                     True   \n",
       "2                               False                    False   \n",
       "3                               False                     True   \n",
       "4                               False                    False   \n",
       "...                               ...                      ...   \n",
       "46917                           False                     True   \n",
       "46918                           False                     True   \n",
       "46919                           False                     True   \n",
       "46920                           False                     True   \n",
       "46921                           False                    False   \n",
       "\n",
       "       Content Rating_Everyone 10+  Content Rating_Mature 17+  \\\n",
       "0                            False                      False   \n",
       "1                            False                      False   \n",
       "2                            False                      False   \n",
       "3                            False                      False   \n",
       "4                            False                      False   \n",
       "...                            ...                        ...   \n",
       "46917                        False                      False   \n",
       "46918                        False                      False   \n",
       "46919                        False                      False   \n",
       "46920                        False                      False   \n",
       "46921                        False                      False   \n",
       "\n",
       "       Content Rating_Teen  Content Rating_Unrated  \n",
       "0                    False                   False  \n",
       "1                    False                   False  \n",
       "2                     True                   False  \n",
       "3                    False                   False  \n",
       "4                     True                   False  \n",
       "...                    ...                     ...  \n",
       "46917                False                   False  \n",
       "46918                False                   False  \n",
       "46919                False                   False  \n",
       "46920                False                   False  \n",
       "46921                False                    True  \n",
       "\n",
       "[44910 rows x 61 columns]"
      ]
     },
     "execution_count": 118,
     "metadata": {},
     "output_type": "execute_result"
    }
   ],
   "source": [
    "pred_onehot = pd.get_dummies(\n",
    "    pred_clean,\n",
    "    prefix=['Category', 'Content Rating'],\n",
    "    columns=['Category', 'Content Rating']\n",
    ")\n",
    "\n",
    "pred_onehot"
   ]
  },
  {
   "cell_type": "markdown",
   "metadata": {},
   "source": [
    "`get_dummies()` 함수를 적용한 이후에 기존 `Category`와 `Content Rating` 변수가 사라졌는지 확인합니다."
   ]
  },
  {
   "cell_type": "code",
   "execution_count": 120,
   "metadata": {},
   "outputs": [
    {
     "name": "stdout",
     "output_type": "stream",
     "text": [
      "'Category' 이름의 변수는 존재하지 않습니다.\n",
      "'Content Rating' 이름의 변수는 존재하지 않습니다.\n"
     ]
    }
   ],
   "source": [
    "if 'Category' not in pred_onehot.columns:\n",
    "    print(\"'Category' 이름의 변수는 존재하지 않습니다.\")\n",
    "\n",
    "if 'Content Rating' not in pred_onehot.columns:\n",
    "    print(\"'Content Rating' 이름의 변수는 존재하지 않습니다.\")"
   ]
  },
  {
   "cell_type": "code",
   "execution_count": 125,
   "metadata": {},
   "outputs": [],
   "source": [
    "# 채점 데이터 불러오기\n",
    "df_test_feature = pd.read_csv(\"webapp_test_feature.csv\")\n",
    "df_test_feature.head()"
   ]
  },
  {
   "cell_type": "markdown",
   "metadata": {},
   "source": [
    "### 채점"
   ]
  },
  {
   "cell_type": "markdown",
   "metadata": {},
   "source": [
    "결과 csv 파일을 저장 후, 아래 코드를 실행하면 채점을 받을 수 있습니다.\n",
    "\n",
    "**아래 코드를 수정하면 채점이 불가능 합니다.**"
   ]
  },
  {
   "cell_type": "code",
   "execution_count": null,
   "metadata": {},
   "outputs": [],
   "source": [
    "# 제출할 파일을 submission.csv로 저장합니다.\n",
    "# 아래는 제출할 예측 결과가 submission_df에 저장되어 있는데\n",
    "# 이 변수 이름만은 다른 이름으로 자유롭게 바꾸셔도 무방합니다.\n",
    "submission_df.to_csv('submission.csv', index=False)"
   ]
  },
  {
   "cell_type": "code",
   "execution_count": null,
   "metadata": {},
   "outputs": [],
   "source": [
    "# 채점을 수행하기 위하여 로그인\n",
    "import sys\n",
    "sys.path.append('vendor')\n",
    "from elice_challenge import check_score, upload"
   ]
  },
  {
   "cell_type": "code",
   "execution_count": null,
   "metadata": {},
   "outputs": [],
   "source": [
    "# 제출 파일 업로드\n",
    "await upload()"
   ]
  },
  {
   "cell_type": "code",
   "execution_count": null,
   "metadata": {},
   "outputs": [],
   "source": [
    "# 채점 수행\n",
    "await check_score()"
   ]
  },
  {
   "cell_type": "markdown",
   "metadata": {},
   "source": [
    "---"
   ]
  },
  {
   "cell_type": "markdown",
   "metadata": {},
   "source": [
    "<span style=\"color:rgb(120, 120, 120)\">본 학습 자료를 포함한 사이트 내 모든 자료의 저작권은 엘리스에 있으며 외부로의 무단 복제, 배포 및 전송을 불허합니다.\n",
    "\n",
    "Copyright @ elice all rights reserved</span>"
   ]
  }
 ],
 "metadata": {
  "colab": {
   "collapsed_sections": [],
   "name": "[강사용]웹/앱_실습코드.ipynb",
   "provenance": [
    {
     "file_id": "1VCvysXkmYJRlkChGwDDgy3CSCNwhjxnq",
     "timestamp": 1606195270041
    }
   ],
   "toc_visible": true
  },
  "kernelspec": {
   "display_name": "Python 3",
   "language": "python",
   "name": "python3"
  },
  "language_info": {
   "codemirror_mode": {
    "name": "ipython",
    "version": 3
   },
   "file_extension": ".py",
   "mimetype": "text/x-python",
   "name": "python",
   "nbconvert_exporter": "python",
   "pygments_lexer": "ipython3",
   "version": "3.11.6"
  },
  "toc": {
   "base_numbering": 1,
   "nav_menu": {},
   "number_sections": false,
   "sideBar": true,
   "skip_h1_title": false,
   "title_cell": "Table of Contents",
   "title_sidebar": "Contents",
   "toc_cell": false,
   "toc_position": {
    "height": "calc(100% - 180px)",
    "left": "10px",
    "top": "150px",
    "width": "384px"
   },
   "toc_section_display": true,
   "toc_window_display": true
  },
  "vscode": {
   "interpreter": {
    "hash": "212ed7ce1297a39c9fbf5ca85e06406b93631cc7f04eebf2647cdd4c558781fa"
   }
  }
 },
 "nbformat": 4,
 "nbformat_minor": 1
}
